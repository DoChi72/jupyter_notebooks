{
 "cells": [
  {
   "cell_type": "markdown",
   "metadata": {},
   "source": [
    "# 研究目的背景\n",
    "マイクロホンのアレイを作り、マイクロホン間の位相差などで音源を検知してみた（複眼システム）\n",
    "\n",
    "音の空間情報を本質的に分離することを目指す。\n",
    "* マイクロホンを減らす\n",
    "* アレイの長さを減らす"
   ]
  },
  {
   "cell_type": "markdown",
   "metadata": {},
   "source": [
    "# 原理＆十分な数のマイクロホンを使う手法\n",
    "6ページ  \n",
    "時空間音圧分布画像\n",
    "音の振幅を輝度の画像へ変換する\n",
    "\n",
    "複数の音源の音圧分布画像を重ねることで、複数の音源の位置を示す画像として扱うことができるようになる。\n",
    "\n",
    "間隔が広い場合は歯抜けの画像になる。\n",
    "間隔が十分に狭い場合は密な画像が出来る。\n",
    "\n",
    "９ページ  \n",
    "密に並べた場合の、音源分離の手法を解説している。\n",
    "入力された音源の時空間音圧分布画像を2次元FFTする。\n",
    "FFTしたスペクトル画像を間引き、IFFTすると雑音を取り除ける。\n",
    "\n",
    "11ページ  \n",
    "マイクロホンの最低限の間隔の解説（ナイキスト、空間折り返し歪が発生しない間隔、λ/2以下\n",
    "\n",
    "12ページ  \n",
    "評価実験\n",
    "遅延和アレイ法より、5dBほどノイズ減衰に優位。"
   ]
  },
  {
   "cell_type": "markdown",
   "metadata": {},
   "source": [
    "# 少数のマイクロホンで実現するための手法\n",
    "１５ページ\n",
    "疎なマクロホンの間隔で得たスペクトルの画像から密な音圧分布画像を復元できないか\n",
    "\n",
    "まず周波数ごとに分けて実験中（最終的に複数の周波数で）  \n",
    "\n",
    "18ページ  \n",
    "スパースモデリング\n",
    "<b>任意の角度から到来した音の音圧分布画像の辞書を作っておき、辞書に対応した画像どうしを重ねて高精細な画像を作りFFTする</b>  \n",
    "\n",
    "22ページ  \n",
    "入力は8縦ピクセルを参考のために引き伸ばした画像"
   ]
  }
 ],
 "metadata": {
  "kernelspec": {
   "display_name": "Python 3",
   "language": "python",
   "name": "python3"
  },
  "language_info": {
   "codemirror_mode": {
    "name": "ipython",
    "version": 3
   },
   "file_extension": ".py",
   "mimetype": "text/x-python",
   "name": "python",
   "nbconvert_exporter": "python",
   "pygments_lexer": "ipython3",
   "version": "3.7.1"
  },
  "toc": {
   "base_numbering": 1,
   "nav_menu": {},
   "number_sections": true,
   "sideBar": true,
   "skip_h1_title": false,
   "title_cell": "Table of Contents",
   "title_sidebar": "Contents",
   "toc_cell": false,
   "toc_position": {
    "height": "calc(100% - 180px)",
    "left": "10px",
    "top": "150px",
    "width": "194.98px"
   },
   "toc_section_display": true,
   "toc_window_display": true
  }
 },
 "nbformat": 4,
 "nbformat_minor": 2
}
