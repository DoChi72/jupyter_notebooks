{
 "cells": [
  {
   "cell_type": "markdown",
   "metadata": {
    "toc": true
   },
   "source": [
    "<h1>Table of Contents<span class=\"tocSkip\"></span></h1>\n",
    "<div class=\"toc\"><ul class=\"toc-item\"></ul></div>"
   ]
  },
  {
   "cell_type": "code",
   "execution_count": 2,
   "metadata": {},
   "outputs": [],
   "source": [
    "%load_ext Cython"
   ]
  },
  {
   "cell_type": "code",
   "execution_count": null,
   "metadata": {},
   "outputs": [],
   "source": [
    "from keras.models import Sequential\n",
    "from keras.layers import Dense, Activation, LSTM\n",
    "from keras.optimizers import RMSprop\n",
    "from keras.utils.data_utils import get_file"
   ]
  },
  {
   "cell_type": "code",
   "execution_count": null,
   "metadata": {},
   "outputs": [],
   "source": [
    "import numpy as np\n",
    "import random\n",
    "import sys\n",
    "import zipfile"
   ]
  },
  {
   "cell_type": "code",
   "execution_count": null,
   "metadata": {},
   "outputs": [],
   "source": [
    "localfile = \"462_ruby_716.zip\"\n",
    "zipfile = zipfile.ZipFile(localfile, 'r')\n",
    "file = zipfile.open('kazeno_matasaburo.txt', 'r')\n",
    "bindata = file.read()\n",
    "text= bindata.decode('shift_jis')"
   ]
  },
  {
   "cell_type": "code",
   "execution_count": null,
   "metadata": {},
   "outputs": [],
   "source": [
    "'''\n",
    "path = './null.txt'\n",
    "bindata = open(path, \"rb\").read()\n",
    "text = bindata.decode(\"shift_jis\")\n",
    "'''"
   ]
  },
  {
   "cell_type": "code",
   "execution_count": null,
   "metadata": {},
   "outputs": [],
   "source": [
    "print('Size of text: ', len(text))"
   ]
  },
  {
   "cell_type": "code",
   "execution_count": null,
   "metadata": {},
   "outputs": [],
   "source": [
    "chars = sorted(list(set(text)))\n",
    "chars"
   ]
  },
  {
   "cell_type": "code",
   "execution_count": null,
   "metadata": {},
   "outputs": [],
   "source": [
    "print('Total chars:', len(chars))"
   ]
  },
  {
   "cell_type": "code",
   "execution_count": null,
   "metadata": {},
   "outputs": [],
   "source": [
    "#順引き、逆引きの辞書を作る\n",
    "char_indices = dict((c,i) for i,c  in enumerate(chars))\n",
    "indices_char = dict((i,c) for i,c in enumerate(chars))"
   ]
  },
  {
   "cell_type": "code",
   "execution_count": null,
   "metadata": {},
   "outputs": [],
   "source": [
    "# cut the text  in sentence\n",
    "maxlen = 40\n",
    "\n",
    "step = 3\n",
    "sentences =[]\n",
    "next_chars = []"
   ]
  },
  {
   "cell_type": "code",
   "execution_count": null,
   "metadata": {},
   "outputs": [],
   "source": [
    "for i in range(0,len(text) - maxlen, step):\n",
    "    sentences.append(text[i:i + maxlen])\n",
    "    next_chars.append(text[i+maxlen])"
   ]
  },
  {
   "cell_type": "code",
   "execution_count": null,
   "metadata": {},
   "outputs": [],
   "source": [
    "sentences"
   ]
  },
  {
   "cell_type": "code",
   "execution_count": null,
   "metadata": {},
   "outputs": [],
   "source": [
    "next_chars"
   ]
  },
  {
   "cell_type": "code",
   "execution_count": null,
   "metadata": {},
   "outputs": [],
   "source": [
    "print('Number of sentences:', len(sentences))"
   ]
  },
  {
   "cell_type": "code",
   "execution_count": null,
   "metadata": {},
   "outputs": [],
   "source": [
    "#テキストのベクトル化\n",
    "X = np.zeros((len(sentences), maxlen, len(chars)), dtype=np.bool)\n",
    "y = np.zeros((len(sentences), len(chars)), dtype=np.bool)"
   ]
  },
  {
   "cell_type": "code",
   "execution_count": null,
   "metadata": {},
   "outputs": [],
   "source": [
    "for i, sentence in enumerate(sentences):\n",
    "    for t, char in enumerate(sentence):\n",
    "        X[i, t, char_indices[char]] = 1\n",
    "    y[i,char_indices[next_chars[i]]] = 1"
   ]
  },
  {
   "cell_type": "code",
   "execution_count": null,
   "metadata": {},
   "outputs": [],
   "source": [
    "#モデルを定義する\n",
    "model = Sequential()\n",
    "model.add(LSTM(128, input_shape=(maxlen, len(chars))))"
   ]
  },
  {
   "cell_type": "code",
   "execution_count": null,
   "metadata": {},
   "outputs": [],
   "source": [
    "model.add(Dense(len(chars))) #全てのセルを使うニューラルネットワークを作る"
   ]
  },
  {
   "cell_type": "code",
   "execution_count": null,
   "metadata": {},
   "outputs": [],
   "source": [
    "model.add(Activation('softmax')) #活性化関数"
   ]
  },
  {
   "cell_type": "code",
   "execution_count": null,
   "metadata": {},
   "outputs": [],
   "source": [
    "optimizer = RMSprop(lr=0.01) #学習率の指定"
   ]
  },
  {
   "cell_type": "code",
   "execution_count": null,
   "metadata": {},
   "outputs": [],
   "source": [
    "model.compile(loss='categorical_crossentropy', optimizer=optimizer)"
   ]
  },
  {
   "cell_type": "code",
   "execution_count": null,
   "metadata": {},
   "outputs": [],
   "source": [
    "def sample(preds, temperture=1.0):\n",
    "    preds = np.array(preds).astype('float64')\n",
    "    preds = np.log(preds)/temperture\n",
    "    exp_preds = np.exp(preds)\n",
    "    preds = exp_preds/ np.sum(exp_preds)\n",
    "    probas = np.random.multinomial(1, preds, 1)\n",
    "    return np.argmax(probas)"
   ]
  },
  {
   "cell_type": "code",
   "execution_count": null,
   "metadata": {},
   "outputs": [],
   "source": [
    "'''\n",
    "for iteration in range(1,60):\n",
    "    print()\n",
    "    print('-' * 50)\n",
    "    print('繰り返し：', iteration)\n",
    "    model.fit(X, y, batch_size=128, epochs=1)\n",
    "    \n",
    "    start_index = random.randint(0, len(text)-maxlen-1)\n",
    "\n",
    "    for diversity in [0.2, 0.5, 1.0, 1.2]:\n",
    "        print()\n",
    "        print('-----diversity', diversity)\n",
    "    \n",
    "        generated = ''\n",
    "        sentence = text[start_index: start_index+ maxlen]\n",
    "        generated += sentence\n",
    "        print('----- Seedを生成しました：”' + sentence + '”')\n",
    "        sys.stdout.write(generated)\n",
    "    \n",
    "        for i in range(400):\n",
    "            x = np.zeros((1, maxlen, len(chars)))\n",
    "            for t, char in enumerate(sentence):\n",
    "                x[0, t, char_indices[char]] = 1.\n",
    "            \n",
    "            preds = model.predict(x, verbose=9)[0]\n",
    "            next_index = sample(preds, diversity)\n",
    "            next_char = indices_char[next_index]\n",
    "        \n",
    "            generated += next_char\n",
    "            sentence = sentence[1:] + next_char\n",
    "        \n",
    "            sys.stdout.write(next_char)\n",
    "            sys.stdout.flush()\n",
    "        print()\n",
    "'''"
   ]
  },
  {
   "cell_type": "code",
   "execution_count": 3,
   "metadata": {},
   "outputs": [
    {
     "name": "stderr",
     "output_type": "stream",
     "text": [
      "\n",
      "Error compiling Cython file:\n",
      "------------------------------------------------------------\n",
      "...\n",
      "def generate():\n",
      "    for iteration in range(1,60):\n",
      "        print()\n",
      "        print('-' * 50)\n",
      "        print('繰り返し：', iteration)\n",
      "        model.fit(X, y, batch_size=128, epochs=1)\n",
      "       ^\n",
      "------------------------------------------------------------\n",
      "\n",
      "/Users/yamaguchishota/.ipython/cython/_cython_magic_6d533993bd64345266a27b6f5f9a525f.pyx:6:8: undeclared name not builtin: model\n",
      "\n",
      "Error compiling Cython file:\n",
      "------------------------------------------------------------\n",
      "...\n",
      "def generate():\n",
      "    for iteration in range(1,60):\n",
      "        print()\n",
      "        print('-' * 50)\n",
      "        print('繰り返し：', iteration)\n",
      "        model.fit(X, y, batch_size=128, epochs=1)\n",
      "                 ^\n",
      "------------------------------------------------------------\n",
      "\n",
      "/Users/yamaguchishota/.ipython/cython/_cython_magic_6d533993bd64345266a27b6f5f9a525f.pyx:6:18: undeclared name not builtin: X\n",
      "\n",
      "Error compiling Cython file:\n",
      "------------------------------------------------------------\n",
      "...\n",
      "def generate():\n",
      "    for iteration in range(1,60):\n",
      "        print()\n",
      "        print('-' * 50)\n",
      "        print('繰り返し：', iteration)\n",
      "        model.fit(X, y, batch_size=128, epochs=1)\n",
      "                    ^\n",
      "------------------------------------------------------------\n",
      "\n",
      "/Users/yamaguchishota/.ipython/cython/_cython_magic_6d533993bd64345266a27b6f5f9a525f.pyx:6:21: undeclared name not builtin: y\n",
      "\n",
      "Error compiling Cython file:\n",
      "------------------------------------------------------------\n",
      "...\n",
      "        print()\n",
      "        print('-' * 50)\n",
      "        print('繰り返し：', iteration)\n",
      "        model.fit(X, y, batch_size=128, epochs=1)\n",
      "    \n",
      "        start_index = random.randint(0, len(text)-maxlen-1)\n",
      "                     ^\n",
      "------------------------------------------------------------\n",
      "\n",
      "/Users/yamaguchishota/.ipython/cython/_cython_magic_6d533993bd64345266a27b6f5f9a525f.pyx:8:22: undeclared name not builtin: random\n",
      "\n",
      "Error compiling Cython file:\n",
      "------------------------------------------------------------\n",
      "...\n",
      "        print()\n",
      "        print('-' * 50)\n",
      "        print('繰り返し：', iteration)\n",
      "        model.fit(X, y, batch_size=128, epochs=1)\n",
      "    \n",
      "        start_index = random.randint(0, len(text)-maxlen-1)\n",
      "                                           ^\n",
      "------------------------------------------------------------\n",
      "\n",
      "/Users/yamaguchishota/.ipython/cython/_cython_magic_6d533993bd64345266a27b6f5f9a525f.pyx:8:44: undeclared name not builtin: text\n",
      "\n",
      "Error compiling Cython file:\n",
      "------------------------------------------------------------\n",
      "...\n",
      "        print()\n",
      "        print('-' * 50)\n",
      "        print('繰り返し：', iteration)\n",
      "        model.fit(X, y, batch_size=128, epochs=1)\n",
      "    \n",
      "        start_index = random.randint(0, len(text)-maxlen-1)\n",
      "                                                 ^\n",
      "------------------------------------------------------------\n",
      "\n",
      "/Users/yamaguchishota/.ipython/cython/_cython_magic_6d533993bd64345266a27b6f5f9a525f.pyx:8:50: undeclared name not builtin: maxlen\n",
      "\n",
      "Error compiling Cython file:\n",
      "------------------------------------------------------------\n",
      "...\n",
      "    \n",
      "            generated = ''\n",
      "            sentence = text[start_index: start_index+ maxlen]\n",
      "            generated += sentence\n",
      "            print('----- Seedを生成しました：”' + sentence + '”')\n",
      "            sys.stdout.write(generated)\n",
      "           ^\n",
      "------------------------------------------------------------\n",
      "\n",
      "/Users/yamaguchishota/.ipython/cython/_cython_magic_6d533993bd64345266a27b6f5f9a525f.pyx:18:12: undeclared name not builtin: sys\n",
      "\n",
      "Error compiling Cython file:\n",
      "------------------------------------------------------------\n",
      "...\n",
      "            generated += sentence\n",
      "            print('----- Seedを生成しました：”' + sentence + '”')\n",
      "            sys.stdout.write(generated)\n",
      "    \n",
      "            for i in range(400):\n",
      "                x = np.zeros((1, maxlen, len(chars)))\n",
      "                   ^\n",
      "------------------------------------------------------------\n",
      "\n",
      "/Users/yamaguchishota/.ipython/cython/_cython_magic_6d533993bd64345266a27b6f5f9a525f.pyx:21:20: undeclared name not builtin: np\n",
      "\n",
      "Error compiling Cython file:\n",
      "------------------------------------------------------------\n",
      "...\n",
      "            generated += sentence\n",
      "            print('----- Seedを生成しました：”' + sentence + '”')\n",
      "            sys.stdout.write(generated)\n",
      "    \n",
      "            for i in range(400):\n",
      "                x = np.zeros((1, maxlen, len(chars)))\n",
      "                                            ^\n",
      "------------------------------------------------------------\n",
      "\n",
      "/Users/yamaguchishota/.ipython/cython/_cython_magic_6d533993bd64345266a27b6f5f9a525f.pyx:21:45: undeclared name not builtin: chars\n",
      "\n",
      "Error compiling Cython file:\n",
      "------------------------------------------------------------\n",
      "...\n",
      "            sys.stdout.write(generated)\n",
      "    \n",
      "            for i in range(400):\n",
      "                x = np.zeros((1, maxlen, len(chars)))\n",
      "                for t, char in enumerate(sentence):\n",
      "                    x[0, t, char_indices[char]] = 1.\n",
      "                           ^\n",
      "------------------------------------------------------------\n",
      "\n",
      "/Users/yamaguchishota/.ipython/cython/_cython_magic_6d533993bd64345266a27b6f5f9a525f.pyx:23:28: undeclared name not builtin: char_indices\n",
      "\n",
      "Error compiling Cython file:\n",
      "------------------------------------------------------------\n",
      "...\n",
      "                x = np.zeros((1, maxlen, len(chars)))\n",
      "                for t, char in enumerate(sentence):\n",
      "                    x[0, t, char_indices[char]] = 1.\n",
      "            \n",
      "                preds = model.predict(x, verbose=9)[0]\n",
      "                next_index = sample(preds, diversity)\n",
      "                            ^\n",
      "------------------------------------------------------------\n",
      "\n",
      "/Users/yamaguchishota/.ipython/cython/_cython_magic_6d533993bd64345266a27b6f5f9a525f.pyx:26:29: undeclared name not builtin: sample\n",
      "\n",
      "Error compiling Cython file:\n",
      "------------------------------------------------------------\n",
      "...\n",
      "                for t, char in enumerate(sentence):\n",
      "                    x[0, t, char_indices[char]] = 1.\n",
      "            \n",
      "                preds = model.predict(x, verbose=9)[0]\n",
      "                next_index = sample(preds, diversity)\n",
      "                next_char = indices_char[next_index]\n",
      "                           ^\n",
      "------------------------------------------------------------\n",
      "\n",
      "/Users/yamaguchishota/.ipython/cython/_cython_magic_6d533993bd64345266a27b6f5f9a525f.pyx:27:28: undeclared name not builtin: indices_char\n"
     ]
    },
    {
     "ename": "TypeError",
     "evalue": "object of type 'NoneType' has no len()",
     "output_type": "error",
     "traceback": [
      "\u001b[0;31m---------------------------------------------------------------------------\u001b[0m",
      "\u001b[0;31mTypeError\u001b[0m                                 Traceback (most recent call last)",
      "\u001b[0;32m<ipython-input-3-87bd3c6b140d>\u001b[0m in \u001b[0;36m<module>\u001b[0;34m()\u001b[0m\n\u001b[0;32m----> 1\u001b[0;31m \u001b[0mget_ipython\u001b[0m\u001b[0;34m(\u001b[0m\u001b[0;34m)\u001b[0m\u001b[0;34m.\u001b[0m\u001b[0mrun_cell_magic\u001b[0m\u001b[0;34m(\u001b[0m\u001b[0;34m'cython'\u001b[0m\u001b[0;34m,\u001b[0m \u001b[0;34m''\u001b[0m\u001b[0;34m,\u001b[0m \u001b[0;34m\"def generate():\\n    for iteration in range(1,60):\\n        print()\\n        print('-' * 50)\\n        print('繰り返し：', iteration)\\n        model.fit(X, y, batch_size=128, epochs=1)\\n    \\n        start_index = random.randint(0, len(text)-maxlen-1)\\n\\n        for diversity in [0.2, 0.5, 1.0, 1.2]:\\n            print()\\n            print('-----diversity', diversity)\\n    \\n            generated = ''\\n            sentence = text[start_index: start_index+ maxlen]\\n            generated += sentence\\n            print('----- Seedを生成しました：”' + sentence + '”')\\n            sys.stdout.write(generated)\\n    \\n            for i in range(400):\\n                x = np.zeros((1, maxlen, len(chars)))\\n                for t, char in enumerate(sentence):\\n                    x[0, t, char_indices[char]] = 1.\\n            \\n                preds = model.predict(x, verbose=9)[0]\\n                next_index = sample(preds, diversity)\\n                next_char = indices_char[next_index]\\n        \\n                generated += next_char\\n                sentence = sentence[1:] + next_char\\n        \\n                sys.stdout.write(next_char)\\n                sys.stdout.flush()\\n            print()\"\u001b[0m\u001b[0;34m)\u001b[0m\u001b[0;34m\u001b[0m\u001b[0m\n\u001b[0m",
      "\u001b[0;32m~/anaconda3/lib/python3.6/site-packages/IPython/core/interactiveshell.py\u001b[0m in \u001b[0;36mrun_cell_magic\u001b[0;34m(self, magic_name, line, cell)\u001b[0m\n\u001b[1;32m   2165\u001b[0m             \u001b[0mmagic_arg_s\u001b[0m \u001b[0;34m=\u001b[0m \u001b[0mself\u001b[0m\u001b[0;34m.\u001b[0m\u001b[0mvar_expand\u001b[0m\u001b[0;34m(\u001b[0m\u001b[0mline\u001b[0m\u001b[0;34m,\u001b[0m \u001b[0mstack_depth\u001b[0m\u001b[0;34m)\u001b[0m\u001b[0;34m\u001b[0m\u001b[0m\n\u001b[1;32m   2166\u001b[0m             \u001b[0;32mwith\u001b[0m \u001b[0mself\u001b[0m\u001b[0;34m.\u001b[0m\u001b[0mbuiltin_trap\u001b[0m\u001b[0;34m:\u001b[0m\u001b[0;34m\u001b[0m\u001b[0m\n\u001b[0;32m-> 2167\u001b[0;31m                 \u001b[0mresult\u001b[0m \u001b[0;34m=\u001b[0m \u001b[0mfn\u001b[0m\u001b[0;34m(\u001b[0m\u001b[0mmagic_arg_s\u001b[0m\u001b[0;34m,\u001b[0m \u001b[0mcell\u001b[0m\u001b[0;34m)\u001b[0m\u001b[0;34m\u001b[0m\u001b[0m\n\u001b[0m\u001b[1;32m   2168\u001b[0m             \u001b[0;32mreturn\u001b[0m \u001b[0mresult\u001b[0m\u001b[0;34m\u001b[0m\u001b[0m\n\u001b[1;32m   2169\u001b[0m \u001b[0;34m\u001b[0m\u001b[0m\n",
      "\u001b[0;32m<decorator-gen-127>\u001b[0m in \u001b[0;36mcython\u001b[0;34m(self, line, cell)\u001b[0m\n",
      "\u001b[0;32m~/anaconda3/lib/python3.6/site-packages/IPython/core/magic.py\u001b[0m in \u001b[0;36m<lambda>\u001b[0;34m(f, *a, **k)\u001b[0m\n\u001b[1;32m    185\u001b[0m     \u001b[0;31m# but it's overkill for just that one bit of state.\u001b[0m\u001b[0;34m\u001b[0m\u001b[0;34m\u001b[0m\u001b[0m\n\u001b[1;32m    186\u001b[0m     \u001b[0;32mdef\u001b[0m \u001b[0mmagic_deco\u001b[0m\u001b[0;34m(\u001b[0m\u001b[0marg\u001b[0m\u001b[0;34m)\u001b[0m\u001b[0;34m:\u001b[0m\u001b[0;34m\u001b[0m\u001b[0m\n\u001b[0;32m--> 187\u001b[0;31m         \u001b[0mcall\u001b[0m \u001b[0;34m=\u001b[0m \u001b[0;32mlambda\u001b[0m \u001b[0mf\u001b[0m\u001b[0;34m,\u001b[0m \u001b[0;34m*\u001b[0m\u001b[0ma\u001b[0m\u001b[0;34m,\u001b[0m \u001b[0;34m**\u001b[0m\u001b[0mk\u001b[0m\u001b[0;34m:\u001b[0m \u001b[0mf\u001b[0m\u001b[0;34m(\u001b[0m\u001b[0;34m*\u001b[0m\u001b[0ma\u001b[0m\u001b[0;34m,\u001b[0m \u001b[0;34m**\u001b[0m\u001b[0mk\u001b[0m\u001b[0;34m)\u001b[0m\u001b[0;34m\u001b[0m\u001b[0m\n\u001b[0m\u001b[1;32m    188\u001b[0m \u001b[0;34m\u001b[0m\u001b[0m\n\u001b[1;32m    189\u001b[0m         \u001b[0;32mif\u001b[0m \u001b[0mcallable\u001b[0m\u001b[0;34m(\u001b[0m\u001b[0marg\u001b[0m\u001b[0;34m)\u001b[0m\u001b[0;34m:\u001b[0m\u001b[0;34m\u001b[0m\u001b[0m\n",
      "\u001b[0;32m~/anaconda3/lib/python3.6/site-packages/Cython/Build/IpythonMagic.py\u001b[0m in \u001b[0;36mcython\u001b[0;34m(self, line, cell)\u001b[0m\n\u001b[1;32m    319\u001b[0m         \u001b[0;32mif\u001b[0m \u001b[0mneed_cythonize\u001b[0m\u001b[0;34m:\u001b[0m\u001b[0;34m\u001b[0m\u001b[0m\n\u001b[1;32m    320\u001b[0m             \u001b[0mextensions\u001b[0m \u001b[0;34m=\u001b[0m \u001b[0mself\u001b[0m\u001b[0;34m.\u001b[0m\u001b[0m_cythonize\u001b[0m\u001b[0;34m(\u001b[0m\u001b[0mmodule_name\u001b[0m\u001b[0;34m,\u001b[0m \u001b[0mcode\u001b[0m\u001b[0;34m,\u001b[0m \u001b[0mlib_dir\u001b[0m\u001b[0;34m,\u001b[0m \u001b[0margs\u001b[0m\u001b[0;34m,\u001b[0m \u001b[0mquiet\u001b[0m\u001b[0;34m=\u001b[0m\u001b[0margs\u001b[0m\u001b[0;34m.\u001b[0m\u001b[0mquiet\u001b[0m\u001b[0;34m)\u001b[0m\u001b[0;34m\u001b[0m\u001b[0m\n\u001b[0;32m--> 321\u001b[0;31m             \u001b[0;32massert\u001b[0m \u001b[0mlen\u001b[0m\u001b[0;34m(\u001b[0m\u001b[0mextensions\u001b[0m\u001b[0;34m)\u001b[0m \u001b[0;34m==\u001b[0m \u001b[0;36m1\u001b[0m\u001b[0;34m\u001b[0m\u001b[0m\n\u001b[0m\u001b[1;32m    322\u001b[0m             \u001b[0mextension\u001b[0m \u001b[0;34m=\u001b[0m \u001b[0mextensions\u001b[0m\u001b[0;34m[\u001b[0m\u001b[0;36m0\u001b[0m\u001b[0;34m]\u001b[0m\u001b[0;34m\u001b[0m\u001b[0m\n\u001b[1;32m    323\u001b[0m             \u001b[0mself\u001b[0m\u001b[0;34m.\u001b[0m\u001b[0m_code_cache\u001b[0m\u001b[0;34m[\u001b[0m\u001b[0mkey\u001b[0m\u001b[0;34m]\u001b[0m \u001b[0;34m=\u001b[0m \u001b[0mmodule_name\u001b[0m\u001b[0;34m\u001b[0m\u001b[0m\n",
      "\u001b[0;31mTypeError\u001b[0m: object of type 'NoneType' has no len()"
     ]
    }
   ],
   "source": [
    "%%cython\n",
    "def generate():\n",
    "    for iteration in range(1,60):\n",
    "        print()\n",
    "        print('-' * 50)\n",
    "        print('繰り返し：', iteration)\n",
    "        model.fit(X, y, batch_size=128, epochs=1)\n",
    "    \n",
    "        start_index = random.randint(0, len(text)-maxlen-1)\n",
    "\n",
    "        for diversity in [0.2, 0.5, 1.0, 1.2]:\n",
    "            print()\n",
    "            print('-----diversity', diversity)\n",
    "    \n",
    "            generated = ''\n",
    "            sentence = text[start_index: start_index+ maxlen]\n",
    "            generated += sentence\n",
    "            print('----- Seedを生成しました：”' + sentence + '”')\n",
    "            sys.stdout.write(generated)\n",
    "    \n",
    "            for i in range(400):\n",
    "                x = np.zeros((1, maxlen, len(chars)))\n",
    "                for t, char in enumerate(sentence):\n",
    "                    x[0, t, char_indices[char]] = 1.\n",
    "            \n",
    "                preds = model.predict(x, verbose=9)[0]\n",
    "                next_index = sample(preds, diversity)\n",
    "                next_char = indices_char[next_index]\n",
    "        \n",
    "                generated += next_char\n",
    "                sentence = sentence[1:] + next_char\n",
    "        \n",
    "                sys.stdout.write(next_char)\n",
    "                sys.stdout.flush()\n",
    "            print()"
   ]
  },
  {
   "cell_type": "code",
   "execution_count": null,
   "metadata": {},
   "outputs": [],
   "source": []
  }
 ],
 "metadata": {
  "kernelspec": {
   "display_name": "Python 3",
   "language": "python",
   "name": "python3"
  },
  "language_info": {
   "codemirror_mode": {
    "name": "ipython",
    "version": 3
   },
   "file_extension": ".py",
   "mimetype": "text/x-python",
   "name": "python",
   "nbconvert_exporter": "python",
   "pygments_lexer": "ipython3",
   "version": "3.6.5"
  },
  "toc": {
   "base_numbering": 1,
   "nav_menu": {},
   "number_sections": true,
   "sideBar": true,
   "skip_h1_title": false,
   "title_cell": "Table of Contents",
   "title_sidebar": "Contents",
   "toc_cell": true,
   "toc_position": {},
   "toc_section_display": true,
   "toc_window_display": false
  }
 },
 "nbformat": 4,
 "nbformat_minor": 2
}
