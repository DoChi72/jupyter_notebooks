{
 "cells": [
  {
   "cell_type": "markdown",
   "metadata": {
    "toc": true
   },
   "source": [
    "<h1>目次<span class=\"tocSkip\"></span></h1>\n",
    "<div class=\"toc\"><ul class=\"toc-item\"><li><span><a href=\"#本記事の執筆背景\" data-toc-modified-id=\"本記事の執筆背景-1\"><span class=\"toc-item-num\">1&nbsp;&nbsp;</span>本記事の執筆背景</a></span></li><li><span><a href=\"#本記事の概要\" data-toc-modified-id=\"本記事の概要-2\"><span class=\"toc-item-num\">2&nbsp;&nbsp;</span>本記事の概要</a></span><ul class=\"toc-item\"><li><span><a href=\"#実行環境について\" data-toc-modified-id=\"実行環境について-2.1\"><span class=\"toc-item-num\">2.1&nbsp;&nbsp;</span>実行環境について</a></span></li><li><span><a href=\"#利用するデータの内容について\" data-toc-modified-id=\"利用するデータの内容について-2.2\"><span class=\"toc-item-num\">2.2&nbsp;&nbsp;</span>利用するデータの内容について</a></span></li></ul></li><li><span><a href=\"#データの整形（pandas）\" data-toc-modified-id=\"データの整形（pandas）-3\"><span class=\"toc-item-num\">3&nbsp;&nbsp;</span>データの整形（pandas）</a></span><ul class=\"toc-item\"><li><span><a href=\"#データの読み込み\" data-toc-modified-id=\"データの読み込み-3.1\"><span class=\"toc-item-num\">3.1&nbsp;&nbsp;</span>データの読み込み</a></span></li><li><span><a href=\"#データの確認\" data-toc-modified-id=\"データの確認-3.2\"><span class=\"toc-item-num\">3.2&nbsp;&nbsp;</span>データの確認</a></span></li><li><span><a href=\"#データの結合\" data-toc-modified-id=\"データの結合-3.3\"><span class=\"toc-item-num\">3.3&nbsp;&nbsp;</span>データの結合</a></span><ul class=\"toc-item\"><li><span><a href=\"#頻出回数の計上\" data-toc-modified-id=\"頻出回数の計上-3.3.1\"><span class=\"toc-item-num\">3.3.1&nbsp;&nbsp;</span>頻出回数の計上</a></span><ul class=\"toc-item\"><li><span><a href=\"#例外データの処理\" data-toc-modified-id=\"例外データの処理-3.3.1.1\"><span class=\"toc-item-num\">3.3.1.1&nbsp;&nbsp;</span>例外データの処理</a></span></li></ul></li><li><span><a href=\"#試用期間を得て本利用に至った会社の判別\" data-toc-modified-id=\"試用期間を得て本利用に至った会社の判別-3.3.2\"><span class=\"toc-item-num\">3.3.2&nbsp;&nbsp;</span>試用期間を得て本利用に至った会社の判別</a></span></li></ul></li></ul></li><li><span><a href=\"#データの可視化（seaborn）\" data-toc-modified-id=\"データの可視化（seaborn）-4\"><span class=\"toc-item-num\">4&nbsp;&nbsp;</span>データの可視化（seaborn）</a></span></li><li><span><a href=\"#まとめ\" data-toc-modified-id=\"まとめ-5\"><span class=\"toc-item-num\">5&nbsp;&nbsp;</span>まとめ</a></span></li><li><span><a href=\"#免責事項\" data-toc-modified-id=\"免責事項-6\"><span class=\"toc-item-num\">6&nbsp;&nbsp;</span>免責事項</a></span></li></ul></div>"
   ]
  },
  {
   "cell_type": "markdown",
   "metadata": {},
   "source": [
    "# 本記事の執筆背景\n",
    "私は[レッドフォックス株式会社](https://www.redfox.co.jp/)の長期インターンシップに参加しました。当社では「[cyzen](https://www.cyzen.cloud/)」という出退勤管理や業務報告や現場の状況写真の送付、地図上に移動経路や営業先訪問順などを描画する機能を持つ、社員間で情報共有を行う営業支援システムアプリを開発しています。その「cyzen」の利用データ用いてこの度のインターンシップでは実践的なデータ分析を学びました。本記事ではデータ分析を行う上で学んだpandasやseabornを用いた技術についての一部を記事として投稿するものです。"
   ]
  },
  {
   "cell_type": "markdown",
   "metadata": {},
   "source": [
    "# 本記事の概要\n",
    "本記事は複数のファイルからデータを読み込み、整形し簡単な可視化をするまでの過程を以下のような内容で記述します。データサイエンス基礎とタイトルにありますがデータ収集の過程はありません、ご了承ください。\n",
    " \n",
    "* pythonのライブラリ\"pandas\"を用いたデータ整形の解説\n",
    "* 統計情報を可視化するライブラリ\"seaborn\"を用いたデータの可視化の解説"
   ]
  },
  {
   "cell_type": "markdown",
   "metadata": {},
   "source": [
    "## 実行環境について\n",
    "本記事の実行環境はmacOSにて管理ツールのanacondaを用いたものです。anaconda経由でインストールしたJupyter notebookで実行しています。それぞれの環境に合わせてpandasとseabornを利用できるようにして下さい。\n",
    " \n",
    "* macOS high Sierra(10.13.6)\n",
    "* anaconda 4.5.11\n",
    "* python 3.6.5\n",
    "* pandas 0.23.0\n",
    "* seaborn 0.8.1"
   ]
  },
  {
   "cell_type": "markdown",
   "metadata": {},
   "source": [
    "## 利用するデータの内容について\n",
    "本記事にて用いたデータは上記のcyzenの試用期間を設けており、その期間の顧客毎の企業IDとアプリの各機能の利用履歴です。上記のデータは、<b>個人や企業が特定できない</b>ようマスクされ、利用日時のみの情報と過去データの<b>一部期間をサンプリング抽出したもの</b>です。"
   ]
  },
  {
   "cell_type": "markdown",
   "metadata": {},
   "source": [
    "利用データはTSV形式でいくつかに別れた状態で与えられているので、それぞれ読み込んだ後にデータを結合する手段をとります。"
   ]
  },
  {
   "cell_type": "markdown",
   "metadata": {},
   "source": [
    "今回は以下の３つのデータを読み込み、整形、可視化を行います。\n",
    "\n",
    "* 試用版を利用した顧客IDと試用期間が紐付けされた\"trial.tsv\"\n",
    "* 顧客IDとcyzen内の機能で期間内に報告書を送信した回数紐づいた\"report.tsv\"\n",
    "* 試用期間が終えた後、本利用に至った顧客IDが羅列された\"production.tsv\""
   ]
  },
  {
   "cell_type": "markdown",
   "metadata": {},
   "source": [
    "TSV形式のデータはTab-Separated Valuesの頭文字でCSV形式のカンマの部分がタブ\"\\t\"と改行で区切られている以下のようなデータです。表示の関係で空白の感覚が不揃いですが、元のファイルではタブで区切られています。"
   ]
  },
  {
   "cell_type": "markdown",
   "metadata": {},
   "source": [
    "```text:trial.tsv\n",
    "cid\tsupply_start_date\tsupply_end_date\tlimit_cnt\n",
    "2259\t2017-01-04\t2017-01-20\t3\n",
    "2260\t2017-01-05\t2017-02-28\t5\n",
    "2261\t2017-01-05\t2017-02-10\t10\n",
    "2263\t2017-01-11\t2017-02-03\t3\n",
    "2264\t2017-01-12\t2017-01-30\t3\n",
    "```"
   ]
  },
  {
   "cell_type": "markdown",
   "metadata": {},
   "source": [
    "```text:report.tsv\n",
    "cid\treported_at\n",
    "2260\t2017-01-10 04:19:37\n",
    "2260\t2017-01-10 04:25:49\n",
    "2260\t2017-01-10 04:36:51\n",
    "2261\t2017-01-17 07:20:13\n",
    "2261\t2017-01-17 07:22:50\n",
    "```"
   ]
  },
  {
   "cell_type": "markdown",
   "metadata": {},
   "source": [
    "```text:production.tsv\n",
    "cid\n",
    "2261\n",
    "2264\n",
    "2280\n",
    "2284\n",
    "2308\n",
    "```"
   ]
  },
  {
   "cell_type": "markdown",
   "metadata": {},
   "source": [
    "<b><font color=\"Red\">記事を公開するにあたりcidをマスクするかもしれない</font></b>"
   ]
  },
  {
   "cell_type": "markdown",
   "metadata": {},
   "source": [
    "# データの整形（pandas）"
   ]
  },
  {
   "cell_type": "markdown",
   "metadata": {},
   "source": [
    "## データの読み込み"
   ]
  },
  {
   "cell_type": "markdown",
   "metadata": {},
   "source": [
    "pandasをインポートし、pandasを用いたデータの読み込みを行います。pandasのpandas.read_csv()メソッドでファイルを読み込むとDataframeというオブジェクトとして読み込まれます。"
   ]
  },
  {
   "cell_type": "markdown",
   "metadata": {},
   "source": [
    "読み込むファイルの区切り文字を\"dekimiter='\\t'\"で指定することでカンマ\",\"以外で区切られるファイルでもread_csv()で読み込むことができます。"
   ]
  },
  {
   "cell_type": "code",
   "execution_count": 1,
   "metadata": {},
   "outputs": [],
   "source": [
    "import pandas as pd\n",
    "import seaborn as sns\n",
    "import numpy as np #良く一緒に使うのでnumpyもimportしておきます。\n",
    "#%matplotlib inline\n",
    "\n",
    "trial_df = pd.read_csv('trial_data_20180905/traial.tsv', delimiter='\\t')\n",
    "report_df = pd.read_csv('trial_data_20180905/report.tsv', delimiter='\\t')\n",
    "production_df = pd.read_csv('trial_data_20180905/production.tsv', delimiter='\\t')"
   ]
  },
  {
   "cell_type": "markdown",
   "metadata": {},
   "source": [
    "## データの確認"
   ]
  },
  {
   "cell_type": "markdown",
   "metadata": {},
   "source": [
    "どのようにデータ読み込まれているか\"Dataframe名.head()\"や\"Dataframe名.info()\"を実行して<b>予期した取り込みをしているかしっかり確認</b>します。今回は\"trial.tsv\"を代表に確認します。"
   ]
  },
  {
   "cell_type": "markdown",
   "metadata": {},
   "source": [
    "* head()メソッドはDataframe型オブジェクトから頭から指定した行数表示します。\n",
    "* info()メソッドはDataframe型オブジェクトの有効なデータ数やデータの型などの概要を返してくれます。"
   ]
  },
  {
   "cell_type": "markdown",
   "metadata": {},
   "source": [
    "```text:trial.tsv\n",
    "cid\tsupply_start_date\tsupply_end_date\tlimit_cnt\n",
    "2259\t2017-01-04\t2017-01-20\t3\n",
    "2260\t2017-01-05\t2017-02-28\t5\n",
    "2261\t2017-01-05\t2017-02-10\t10\n",
    "2263\t2017-01-11\t2017-02-03\t3\n",
    "2264\t2017-01-12\t2017-01-30\t3\n",
    "```"
   ]
  },
  {
   "cell_type": "markdown",
   "metadata": {},
   "source": [
    "***"
   ]
  },
  {
   "cell_type": "code",
   "execution_count": 2,
   "metadata": {
    "scrolled": true
   },
   "outputs": [
    {
     "data": {
      "text/html": [
       "<div>\n",
       "<style scoped>\n",
       "    .dataframe tbody tr th:only-of-type {\n",
       "        vertical-align: middle;\n",
       "    }\n",
       "\n",
       "    .dataframe tbody tr th {\n",
       "        vertical-align: top;\n",
       "    }\n",
       "\n",
       "    .dataframe thead th {\n",
       "        text-align: right;\n",
       "    }\n",
       "</style>\n",
       "<table border=\"1\" class=\"dataframe\">\n",
       "  <thead>\n",
       "    <tr style=\"text-align: right;\">\n",
       "      <th></th>\n",
       "      <th>cid</th>\n",
       "      <th>supply_start_date</th>\n",
       "      <th>supply_end_date</th>\n",
       "      <th>limit_cnt</th>\n",
       "    </tr>\n",
       "  </thead>\n",
       "  <tbody>\n",
       "    <tr>\n",
       "      <th>0</th>\n",
       "      <td>2259</td>\n",
       "      <td>2017-01-04</td>\n",
       "      <td>2017-01-20</td>\n",
       "      <td>3</td>\n",
       "    </tr>\n",
       "    <tr>\n",
       "      <th>1</th>\n",
       "      <td>2260</td>\n",
       "      <td>2017-01-05</td>\n",
       "      <td>2017-02-28</td>\n",
       "      <td>5</td>\n",
       "    </tr>\n",
       "    <tr>\n",
       "      <th>2</th>\n",
       "      <td>2261</td>\n",
       "      <td>2017-01-05</td>\n",
       "      <td>2017-02-10</td>\n",
       "      <td>10</td>\n",
       "    </tr>\n",
       "    <tr>\n",
       "      <th>3</th>\n",
       "      <td>2263</td>\n",
       "      <td>2017-01-11</td>\n",
       "      <td>2017-02-03</td>\n",
       "      <td>3</td>\n",
       "    </tr>\n",
       "    <tr>\n",
       "      <th>4</th>\n",
       "      <td>2264</td>\n",
       "      <td>2017-01-12</td>\n",
       "      <td>2017-01-30</td>\n",
       "      <td>3</td>\n",
       "    </tr>\n",
       "  </tbody>\n",
       "</table>\n",
       "</div>"
      ],
      "text/plain": [
       "    cid supply_start_date supply_end_date  limit_cnt\n",
       "0  2259        2017-01-04      2017-01-20          3\n",
       "1  2260        2017-01-05      2017-02-28          5\n",
       "2  2261        2017-01-05      2017-02-10         10\n",
       "3  2263        2017-01-11      2017-02-03          3\n",
       "4  2264        2017-01-12      2017-01-30          3"
      ]
     },
     "execution_count": 2,
     "metadata": {},
     "output_type": "execute_result"
    }
   ],
   "source": [
    "trial_df.head()"
   ]
  },
  {
   "cell_type": "markdown",
   "metadata": {},
   "source": [
    ".head()メソッドを使用せずに直接print(Dataframe変数名)を入力しても、通常のpythonで値の格納された変数名を入力した時のように、値を返してくれますが、途中省略がされるものの、結構な行数で返されてしまうので確認がし辛いです。"
   ]
  },
  {
   "cell_type": "markdown",
   "metadata": {},
   "source": [
    "Dataframe型オブジェクト\"trial_df\"に、読み込んだファイル内のタブと改行で区切られたデータが行と列に正しく格納されていることが確認できます。Dataframe型オブジェクトは特に指定をしない限り先頭列に\"index\"として列番号が挿入されます。\"index\"と\"columns\"はオブジェクトの処理上扱いが異なるので注意してください。"
   ]
  },
  {
   "cell_type": "markdown",
   "metadata": {},
   "source": [
    "***"
   ]
  },
  {
   "cell_type": "code",
   "execution_count": 3,
   "metadata": {},
   "outputs": [
    {
     "name": "stdout",
     "output_type": "stream",
     "text": [
      "<class 'pandas.core.frame.DataFrame'>\n",
      "RangeIndex: 211 entries, 0 to 210\n",
      "Data columns (total 4 columns):\n",
      "cid                  211 non-null int64\n",
      "supply_start_date    211 non-null object\n",
      "supply_end_date      211 non-null object\n",
      "limit_cnt            211 non-null int64\n",
      "dtypes: int64(2), object(2)\n",
      "memory usage: 6.7+ KB\n"
     ]
    }
   ],
   "source": [
    "trial_df.info()"
   ]
  },
  {
   "cell_type": "markdown",
   "metadata": {},
   "source": [
    "info()メソッドにより、\n",
    "* \"index\"が計211行が0~210で割り振られている\n",
    "* \"columns(列)\"が計4列ある\n",
    "* それぞれ\"columns\"の名前を先頭に、中身にnullは無く211行が全て埋まり、その\"columns\"の型を示している\n",
    "* \"columns\"の型はint64型が2つ、object型が2つ存在する\n",
    "* メモリーの使用量が6.7KB程である\n",
    "\n",
    "といった内容が出力されており、Dataframe型オブジェクトの概要を知る事ができました。"
   ]
  },
  {
   "cell_type": "markdown",
   "metadata": {},
   "source": [
    "## データの結合"
   ]
  },
  {
   "cell_type": "markdown",
   "metadata": {},
   "source": [
    "\"report.tsv\"のcid毎の報告書の送信回数をカウントして\"master_df\"というDataframe型オブジェクトを作りにデータを１つにまとめて行きます。"
   ]
  },
  {
   "cell_type": "markdown",
   "metadata": {},
   "source": [
    "columnsの中で同じデータの頻出回数を数える事がvalues_counts()メソッドを使う事で簡単にできます。このメソッドで返ってくるオブジェクトはPandasが提供する\"Series\"というものです。この\"Series\"は\"Dataframe\"のcolumns１つ分の一次元的なデータという扱いです。したがってDataframe型オブジェクトは複数のSeries型オブジェクト集まりという事になります。"
   ]
  },
  {
   "cell_type": "markdown",
   "metadata": {},
   "source": [
    "データの下処理を行なって行きます。"
   ]
  },
  {
   "cell_type": "markdown",
   "metadata": {},
   "source": [
    "### 頻出回数の計上"
   ]
  },
  {
   "cell_type": "markdown",
   "metadata": {},
   "source": [
    "\"report_df\"内にはcid2310の行データが最高頻出で14314回出現し、以下降順でcid毎の頻出回数が並んでいます。returnのcid部分は\"index\"、頻出回数部分は\"columns\"とされたSeries型オブジェクトを\"report_count\"に格納されています。"
   ]
  },
  {
   "cell_type": "code",
   "execution_count": 4,
   "metadata": {
    "scrolled": false
   },
   "outputs": [
    {
     "data": {
      "text/plain": [
       "2310    14314\n",
       "7859     3166\n",
       "9946      564\n",
       "2490      467\n",
       "2312      293\n",
       "Name: cid, dtype: int64"
      ]
     },
     "execution_count": 4,
     "metadata": {},
     "output_type": "execute_result"
    }
   ],
   "source": [
    "report_counts = report_df['cid'].value_counts()\n",
    "report_counts.head(5)"
   ]
  },
  {
   "cell_type": "markdown",
   "metadata": {},
   "source": [
    "***"
   ]
  },
  {
   "cell_type": "markdown",
   "metadata": {},
   "source": [
    "reset_index()メソッドを用いる事でDataframe型オブジェクトやSeries型オブジェクトに\"index\"の列を追加する形で再定義できます。ここで\"report_count\"を表示すると元のcidの\"index\"が\"columns\"になって追加される事でSeries型オブジェクトからDataframe型オブジェクトになっている事がわかります。"
   ]
  },
  {
   "cell_type": "code",
   "execution_count": 5,
   "metadata": {},
   "outputs": [
    {
     "data": {
      "text/html": [
       "<div>\n",
       "<style scoped>\n",
       "    .dataframe tbody tr th:only-of-type {\n",
       "        vertical-align: middle;\n",
       "    }\n",
       "\n",
       "    .dataframe tbody tr th {\n",
       "        vertical-align: top;\n",
       "    }\n",
       "\n",
       "    .dataframe thead th {\n",
       "        text-align: right;\n",
       "    }\n",
       "</style>\n",
       "<table border=\"1\" class=\"dataframe\">\n",
       "  <thead>\n",
       "    <tr style=\"text-align: right;\">\n",
       "      <th></th>\n",
       "      <th>index</th>\n",
       "      <th>cid</th>\n",
       "    </tr>\n",
       "  </thead>\n",
       "  <tbody>\n",
       "    <tr>\n",
       "      <th>0</th>\n",
       "      <td>2310</td>\n",
       "      <td>14314</td>\n",
       "    </tr>\n",
       "    <tr>\n",
       "      <th>1</th>\n",
       "      <td>7859</td>\n",
       "      <td>3166</td>\n",
       "    </tr>\n",
       "    <tr>\n",
       "      <th>2</th>\n",
       "      <td>9946</td>\n",
       "      <td>564</td>\n",
       "    </tr>\n",
       "    <tr>\n",
       "      <th>3</th>\n",
       "      <td>2490</td>\n",
       "      <td>467</td>\n",
       "    </tr>\n",
       "    <tr>\n",
       "      <th>4</th>\n",
       "      <td>2312</td>\n",
       "      <td>293</td>\n",
       "    </tr>\n",
       "  </tbody>\n",
       "</table>\n",
       "</div>"
      ],
      "text/plain": [
       "   index    cid\n",
       "0   2310  14314\n",
       "1   7859   3166\n",
       "2   9946    564\n",
       "3   2490    467\n",
       "4   2312    293"
      ]
     },
     "execution_count": 5,
     "metadata": {},
     "output_type": "execute_result"
    }
   ],
   "source": [
    "report_counts = report_counts.reset_index()\n",
    "report_counts[0:5] #スライス表現でDataframeの中身を見ることも出来ます。"
   ]
  },
  {
   "cell_type": "markdown",
   "metadata": {},
   "source": [
    "***"
   ]
  },
  {
   "cell_type": "markdown",
   "metadata": {},
   "source": [
    "\"report_count\"のcolumns名をrename()メソッドを使って変更します。Dataframe型オブジェクトのメソッドにはinplace引数を渡せる場合があり、Trueを渡す事でDataframeオブジェクトの内容をメソッド通りに上書きされます。Dataframe型オブジェクトに関するメソッドは基本的に出力されるのみで内容の上書きは行われません。"
   ]
  },
  {
   "cell_type": "code",
   "execution_count": 6,
   "metadata": {
    "scrolled": true
   },
   "outputs": [
    {
     "data": {
      "text/html": [
       "<div>\n",
       "<style scoped>\n",
       "    .dataframe tbody tr th:only-of-type {\n",
       "        vertical-align: middle;\n",
       "    }\n",
       "\n",
       "    .dataframe tbody tr th {\n",
       "        vertical-align: top;\n",
       "    }\n",
       "\n",
       "    .dataframe thead th {\n",
       "        text-align: right;\n",
       "    }\n",
       "</style>\n",
       "<table border=\"1\" class=\"dataframe\">\n",
       "  <thead>\n",
       "    <tr style=\"text-align: right;\">\n",
       "      <th></th>\n",
       "      <th>cid</th>\n",
       "      <th>report_count</th>\n",
       "    </tr>\n",
       "  </thead>\n",
       "  <tbody>\n",
       "    <tr>\n",
       "      <th>0</th>\n",
       "      <td>2310</td>\n",
       "      <td>14314</td>\n",
       "    </tr>\n",
       "    <tr>\n",
       "      <th>1</th>\n",
       "      <td>7859</td>\n",
       "      <td>3166</td>\n",
       "    </tr>\n",
       "    <tr>\n",
       "      <th>2</th>\n",
       "      <td>9946</td>\n",
       "      <td>564</td>\n",
       "    </tr>\n",
       "    <tr>\n",
       "      <th>3</th>\n",
       "      <td>2490</td>\n",
       "      <td>467</td>\n",
       "    </tr>\n",
       "    <tr>\n",
       "      <th>4</th>\n",
       "      <td>2312</td>\n",
       "      <td>293</td>\n",
       "    </tr>\n",
       "  </tbody>\n",
       "</table>\n",
       "</div>"
      ],
      "text/plain": [
       "    cid  report_count\n",
       "0  2310         14314\n",
       "1  7859          3166\n",
       "2  9946           564\n",
       "3  2490           467\n",
       "4  2312           293"
      ]
     },
     "execution_count": 6,
     "metadata": {},
     "output_type": "execute_result"
    }
   ],
   "source": [
    "report_counts.rename(columns={'index':'cid', 'cid':'report_count'}, inplace=True)\n",
    "report_counts[:5]"
   ]
  },
  {
   "cell_type": "markdown",
   "metadata": {},
   "source": [
    "***"
   ]
  },
  {
   "cell_type": "markdown",
   "metadata": {},
   "source": [
    "\"report_counts\"の情報を確認します。cidが84個となっているので、<b>報告書を送信する機能は84社で利用した</b>という事がわかります。"
   ]
  },
  {
   "cell_type": "code",
   "execution_count": 7,
   "metadata": {},
   "outputs": [
    {
     "name": "stdout",
     "output_type": "stream",
     "text": [
      "<class 'pandas.core.frame.DataFrame'>\n",
      "RangeIndex: 84 entries, 0 to 83\n",
      "Data columns (total 2 columns):\n",
      "cid             84 non-null int64\n",
      "report_count    84 non-null int64\n",
      "dtypes: int64(2)\n",
      "memory usage: 1.4 KB\n"
     ]
    }
   ],
   "source": [
    "report_counts.info()"
   ]
  },
  {
   "cell_type": "markdown",
   "metadata": {},
   "source": [
    "***"
   ]
  },
  {
   "cell_type": "markdown",
   "metadata": {},
   "source": [
    "新しくできた\"report_count\"のDataframe型オブジェクトと\"trial_df\"をmerge()メソッドを使い結合します。onオプションで\"cid\"をキー（一致する行にデータ追加）にしhowオプションで'outer'（和集合）として全ての行が残るようにしてreport_countカラムを結合します。"
   ]
  },
  {
   "cell_type": "markdown",
   "metadata": {},
   "source": [
    "その他にもDataframe型オブジェクトを横方向に結合する場合はconcat()やjoin()なども使うことが出来ます。"
   ]
  },
  {
   "cell_type": "code",
   "execution_count": 8,
   "metadata": {
    "scrolled": true
   },
   "outputs": [],
   "source": [
    "master_df =  pd.merge(trial_df, report_counts, on='cid', how='outer')"
   ]
  },
  {
   "cell_type": "markdown",
   "metadata": {},
   "source": [
    "#### 例外データの処理"
   ]
  },
  {
   "cell_type": "markdown",
   "metadata": {},
   "source": [
    "\"master_df\"の状態を確認します。ここで注目したいのは<b>上記の\"report_counts.info()\"ではreport_countカラムは84個だったのに対し、\"master_df.info()\"のreport_cointカラムは85個</b>というところです。この情報からcid（顧客）の重複行があるということが推測されます。"
   ]
  },
  {
   "cell_type": "code",
   "execution_count": 9,
   "metadata": {},
   "outputs": [
    {
     "data": {
      "text/html": [
       "<div>\n",
       "<style scoped>\n",
       "    .dataframe tbody tr th:only-of-type {\n",
       "        vertical-align: middle;\n",
       "    }\n",
       "\n",
       "    .dataframe tbody tr th {\n",
       "        vertical-align: top;\n",
       "    }\n",
       "\n",
       "    .dataframe thead th {\n",
       "        text-align: right;\n",
       "    }\n",
       "</style>\n",
       "<table border=\"1\" class=\"dataframe\">\n",
       "  <thead>\n",
       "    <tr style=\"text-align: right;\">\n",
       "      <th></th>\n",
       "      <th>cid</th>\n",
       "      <th>supply_start_date</th>\n",
       "      <th>supply_end_date</th>\n",
       "      <th>limit_cnt</th>\n",
       "      <th>report_count</th>\n",
       "    </tr>\n",
       "  </thead>\n",
       "  <tbody>\n",
       "    <tr>\n",
       "      <th>0</th>\n",
       "      <td>2259</td>\n",
       "      <td>2017-01-04</td>\n",
       "      <td>2017-01-20</td>\n",
       "      <td>3</td>\n",
       "      <td>NaN</td>\n",
       "    </tr>\n",
       "    <tr>\n",
       "      <th>1</th>\n",
       "      <td>2260</td>\n",
       "      <td>2017-01-05</td>\n",
       "      <td>2017-02-28</td>\n",
       "      <td>5</td>\n",
       "      <td>3.0</td>\n",
       "    </tr>\n",
       "    <tr>\n",
       "      <th>2</th>\n",
       "      <td>2261</td>\n",
       "      <td>2017-01-05</td>\n",
       "      <td>2017-02-10</td>\n",
       "      <td>10</td>\n",
       "      <td>32.0</td>\n",
       "    </tr>\n",
       "    <tr>\n",
       "      <th>3</th>\n",
       "      <td>2263</td>\n",
       "      <td>2017-01-11</td>\n",
       "      <td>2017-02-03</td>\n",
       "      <td>3</td>\n",
       "      <td>1.0</td>\n",
       "    </tr>\n",
       "    <tr>\n",
       "      <th>4</th>\n",
       "      <td>2264</td>\n",
       "      <td>2017-01-12</td>\n",
       "      <td>2017-01-30</td>\n",
       "      <td>3</td>\n",
       "      <td>3.0</td>\n",
       "    </tr>\n",
       "  </tbody>\n",
       "</table>\n",
       "</div>"
      ],
      "text/plain": [
       "    cid supply_start_date supply_end_date  limit_cnt  report_count\n",
       "0  2259        2017-01-04      2017-01-20          3           NaN\n",
       "1  2260        2017-01-05      2017-02-28          5           3.0\n",
       "2  2261        2017-01-05      2017-02-10         10          32.0\n",
       "3  2263        2017-01-11      2017-02-03          3           1.0\n",
       "4  2264        2017-01-12      2017-01-30          3           3.0"
      ]
     },
     "execution_count": 9,
     "metadata": {},
     "output_type": "execute_result"
    }
   ],
   "source": [
    "master_df.head(5)"
   ]
  },
  {
   "cell_type": "code",
   "execution_count": 10,
   "metadata": {},
   "outputs": [
    {
     "name": "stdout",
     "output_type": "stream",
     "text": [
      "<class 'pandas.core.frame.DataFrame'>\n",
      "Int64Index: 211 entries, 0 to 210\n",
      "Data columns (total 5 columns):\n",
      "cid                  211 non-null int64\n",
      "supply_start_date    211 non-null object\n",
      "supply_end_date      211 non-null object\n",
      "limit_cnt            211 non-null int64\n",
      "report_count         85 non-null float64\n",
      "dtypes: float64(1), int64(2), object(2)\n",
      "memory usage: 9.9+ KB\n"
     ]
    }
   ],
   "source": [
    "master_df.info()"
   ]
  },
  {
   "cell_type": "markdown",
   "metadata": {},
   "source": [
    "***"
   ]
  },
  {
   "cell_type": "markdown",
   "metadata": {},
   "source": [
    "\"master_df\"の重複するcidカラムをカウントします。与えられたファイルには同じ企業が別の期間に利用した例外データが存在するようです。今回は重複データについて行ごと削除するという方針で行きます。cidカラムなどのデータの個が識別できるcolumnをvalue_counts()メソッドで数えると重複を調べる事が出来ます。"
   ]
  },
  {
   "cell_type": "code",
   "execution_count": 11,
   "metadata": {},
   "outputs": [
    {
     "data": {
      "text/plain": [
       "2571    2\n",
       "2395    2\n",
       "2465    2\n",
       "8703    1\n",
       "8216    1\n",
       "Name: cid, dtype: int64"
      ]
     },
     "execution_count": 11,
     "metadata": {},
     "output_type": "execute_result"
    }
   ],
   "source": [
    "master_df['cid'].value_counts().head()"
   ]
  },
  {
   "cell_type": "markdown",
   "metadata": {},
   "source": [
    "余談なのですがquery()メソッドでカラムのデータ内を演算子を使って条件で探すことも出来ます。ここではcidカラムが2571と等しい行が出力されています。"
   ]
  },
  {
   "cell_type": "code",
   "execution_count": 12,
   "metadata": {},
   "outputs": [
    {
     "data": {
      "text/html": [
       "<div>\n",
       "<style scoped>\n",
       "    .dataframe tbody tr th:only-of-type {\n",
       "        vertical-align: middle;\n",
       "    }\n",
       "\n",
       "    .dataframe tbody tr th {\n",
       "        vertical-align: top;\n",
       "    }\n",
       "\n",
       "    .dataframe thead th {\n",
       "        text-align: right;\n",
       "    }\n",
       "</style>\n",
       "<table border=\"1\" class=\"dataframe\">\n",
       "  <thead>\n",
       "    <tr style=\"text-align: right;\">\n",
       "      <th></th>\n",
       "      <th>cid</th>\n",
       "      <th>supply_start_date</th>\n",
       "      <th>supply_end_date</th>\n",
       "      <th>limit_cnt</th>\n",
       "      <th>report_count</th>\n",
       "    </tr>\n",
       "  </thead>\n",
       "  <tbody>\n",
       "    <tr>\n",
       "      <th>119</th>\n",
       "      <td>2571</td>\n",
       "      <td>2018-03-03</td>\n",
       "      <td>2018-03-04</td>\n",
       "      <td>3</td>\n",
       "      <td>NaN</td>\n",
       "    </tr>\n",
       "    <tr>\n",
       "      <th>120</th>\n",
       "      <td>2571</td>\n",
       "      <td>2018-03-05</td>\n",
       "      <td>2018-03-19</td>\n",
       "      <td>3</td>\n",
       "      <td>NaN</td>\n",
       "    </tr>\n",
       "  </tbody>\n",
       "</table>\n",
       "</div>"
      ],
      "text/plain": [
       "      cid supply_start_date supply_end_date  limit_cnt  report_count\n",
       "119  2571        2018-03-03      2018-03-04          3           NaN\n",
       "120  2571        2018-03-05      2018-03-19          3           NaN"
      ]
     },
     "execution_count": 12,
     "metadata": {},
     "output_type": "execute_result"
    }
   ],
   "source": [
    "master_df.query('cid == 2571')"
   ]
  },
  {
   "cell_type": "code",
   "execution_count": 13,
   "metadata": {},
   "outputs": [
    {
     "data": {
      "text/plain": [
       "[119, 120, 58, 59, 85, 86]"
      ]
     },
     "execution_count": 13,
     "metadata": {},
     "output_type": "execute_result"
    }
   ],
   "source": [
    "drop_index_list = list(master_df.query('cid == 2571').index)\n",
    "drop_index_list.extend(list(master_df.query('cid == 2395').index))\n",
    "drop_index_list.extend(list(master_df.query('cid == 2465').index))\n",
    "drop_index_list"
   ]
  },
  {
   "cell_type": "markdown",
   "metadata": {},
   "source": [
    "duplicated()メソッドを利用すれば重複している行をindex毎にbooleanで取得出来ます。subset引数を用いる事でカラム毎の部分的な重複で検索出来ます。またvalue_counts()メソッドを組み合わせて重複数を得ています。"
   ]
  },
  {
   "cell_type": "code",
   "execution_count": 14,
   "metadata": {},
   "outputs": [
    {
     "data": {
      "text/plain": [
       "0    False\n",
       "1    False\n",
       "2    False\n",
       "3    False\n",
       "4    False\n",
       "dtype: bool"
      ]
     },
     "execution_count": 14,
     "metadata": {},
     "output_type": "execute_result"
    }
   ],
   "source": [
    "master_df.duplicated(subset='cid').head()"
   ]
  },
  {
   "cell_type": "code",
   "execution_count": 15,
   "metadata": {},
   "outputs": [
    {
     "data": {
      "text/plain": [
       "False    208\n",
       "True       3\n",
       "dtype: int64"
      ]
     },
     "execution_count": 15,
     "metadata": {},
     "output_type": "execute_result"
    }
   ],
   "source": [
    "master_df.duplicated(subset='cid').value_counts()"
   ]
  },
  {
   "cell_type": "markdown",
   "metadata": {},
   "source": [
    "全体のデータでは重複している行3社ある事が分かりました。重複している後のデータを削除してしまいます。"
   ]
  },
  {
   "cell_type": "markdown",
   "metadata": {},
   "source": [
    "drop_duplicates()メソッドを使用すると重複行のデータを削除する事が出来ます。デフォルトでは重複した後の行が削除されますがkeep引数で指定する事が出来ます。"
   ]
  },
  {
   "cell_type": "code",
   "execution_count": 16,
   "metadata": {},
   "outputs": [],
   "source": [
    "master_df.drop_duplicates(subset='cid', keep='first', inplace=True)"
   ]
  },
  {
   "cell_type": "code",
   "execution_count": 17,
   "metadata": {},
   "outputs": [
    {
     "name": "stdout",
     "output_type": "stream",
     "text": [
      "<class 'pandas.core.frame.DataFrame'>\n",
      "Int64Index: 208 entries, 0 to 210\n",
      "Data columns (total 5 columns):\n",
      "cid                  208 non-null int64\n",
      "supply_start_date    208 non-null object\n",
      "supply_end_date      208 non-null object\n",
      "limit_cnt            208 non-null int64\n",
      "report_count         84 non-null float64\n",
      "dtypes: float64(1), int64(2), object(2)\n",
      "memory usage: 9.8+ KB\n"
     ]
    }
   ],
   "source": [
    "master_df.info()"
   ]
  },
  {
   "cell_type": "markdown",
   "metadata": {},
   "source": [
    "### 試用期間を得て本利用に至った会社の判別"
   ]
  },
  {
   "cell_type": "markdown",
   "metadata": {},
   "source": [
    "<b><font color=\"Red\">＊契約のTureFalseの話は全て省くか？（現状の記事だとサンプル数と契約の割合が推測されてしまうかもしれない）</font></b>"
   ]
  },
  {
   "cell_type": "markdown",
   "metadata": {},
   "source": [
    "アプリケーションの試用から製品版の利用に至った顧客にTrueの情報付加し\"master_df\"に結合します。\"production_df\"にproductionカラムを追加してTrueでカラムを埋めます。\"Dataframe名['カラム名']\"とする事でDataframe型オブジェクトやSeries型オブジェクトにカラムを追加する事ができ、代入式でそのまま値を入れる事が出来ます。"
   ]
  },
  {
   "cell_type": "code",
   "execution_count": 18,
   "metadata": {},
   "outputs": [
    {
     "data": {
      "text/html": [
       "<div>\n",
       "<style scoped>\n",
       "    .dataframe tbody tr th:only-of-type {\n",
       "        vertical-align: middle;\n",
       "    }\n",
       "\n",
       "    .dataframe tbody tr th {\n",
       "        vertical-align: top;\n",
       "    }\n",
       "\n",
       "    .dataframe thead th {\n",
       "        text-align: right;\n",
       "    }\n",
       "</style>\n",
       "<table border=\"1\" class=\"dataframe\">\n",
       "  <thead>\n",
       "    <tr style=\"text-align: right;\">\n",
       "      <th></th>\n",
       "      <th>cid</th>\n",
       "      <th>production</th>\n",
       "    </tr>\n",
       "  </thead>\n",
       "  <tbody>\n",
       "    <tr>\n",
       "      <th>0</th>\n",
       "      <td>2261</td>\n",
       "      <td>True</td>\n",
       "    </tr>\n",
       "    <tr>\n",
       "      <th>1</th>\n",
       "      <td>2264</td>\n",
       "      <td>True</td>\n",
       "    </tr>\n",
       "    <tr>\n",
       "      <th>2</th>\n",
       "      <td>2280</td>\n",
       "      <td>True</td>\n",
       "    </tr>\n",
       "    <tr>\n",
       "      <th>3</th>\n",
       "      <td>2284</td>\n",
       "      <td>True</td>\n",
       "    </tr>\n",
       "    <tr>\n",
       "      <th>4</th>\n",
       "      <td>2308</td>\n",
       "      <td>True</td>\n",
       "    </tr>\n",
       "  </tbody>\n",
       "</table>\n",
       "</div>"
      ],
      "text/plain": [
       "    cid  production\n",
       "0  2261        True\n",
       "1  2264        True\n",
       "2  2280        True\n",
       "3  2284        True\n",
       "4  2308        True"
      ]
     },
     "execution_count": 18,
     "metadata": {},
     "output_type": "execute_result"
    }
   ],
   "source": [
    "production_df['production'] = True\n",
    "production_df.head()"
   ]
  },
  {
   "cell_type": "markdown",
   "metadata": {},
   "source": [
    "これもmerge()メソッドを使ってcidカラムをキーに\"master_df\"と\"production_df\"を和集合で結合します。"
   ]
  },
  {
   "cell_type": "code",
   "execution_count": 19,
   "metadata": {},
   "outputs": [
    {
     "data": {
      "text/html": [
       "<div>\n",
       "<style scoped>\n",
       "    .dataframe tbody tr th:only-of-type {\n",
       "        vertical-align: middle;\n",
       "    }\n",
       "\n",
       "    .dataframe tbody tr th {\n",
       "        vertical-align: top;\n",
       "    }\n",
       "\n",
       "    .dataframe thead th {\n",
       "        text-align: right;\n",
       "    }\n",
       "</style>\n",
       "<table border=\"1\" class=\"dataframe\">\n",
       "  <thead>\n",
       "    <tr style=\"text-align: right;\">\n",
       "      <th></th>\n",
       "      <th>cid</th>\n",
       "      <th>supply_start_date</th>\n",
       "      <th>supply_end_date</th>\n",
       "      <th>limit_cnt</th>\n",
       "      <th>report_count</th>\n",
       "      <th>production</th>\n",
       "    </tr>\n",
       "  </thead>\n",
       "  <tbody>\n",
       "    <tr>\n",
       "      <th>0</th>\n",
       "      <td>2259</td>\n",
       "      <td>2017-01-04</td>\n",
       "      <td>2017-01-20</td>\n",
       "      <td>3.0</td>\n",
       "      <td>NaN</td>\n",
       "      <td>NaN</td>\n",
       "    </tr>\n",
       "    <tr>\n",
       "      <th>1</th>\n",
       "      <td>2260</td>\n",
       "      <td>2017-01-05</td>\n",
       "      <td>2017-02-28</td>\n",
       "      <td>5.0</td>\n",
       "      <td>3.0</td>\n",
       "      <td>NaN</td>\n",
       "    </tr>\n",
       "    <tr>\n",
       "      <th>2</th>\n",
       "      <td>2261</td>\n",
       "      <td>2017-01-05</td>\n",
       "      <td>2017-02-10</td>\n",
       "      <td>10.0</td>\n",
       "      <td>32.0</td>\n",
       "      <td>True</td>\n",
       "    </tr>\n",
       "    <tr>\n",
       "      <th>3</th>\n",
       "      <td>2263</td>\n",
       "      <td>2017-01-11</td>\n",
       "      <td>2017-02-03</td>\n",
       "      <td>3.0</td>\n",
       "      <td>1.0</td>\n",
       "      <td>NaN</td>\n",
       "    </tr>\n",
       "    <tr>\n",
       "      <th>4</th>\n",
       "      <td>2264</td>\n",
       "      <td>2017-01-12</td>\n",
       "      <td>2017-01-30</td>\n",
       "      <td>3.0</td>\n",
       "      <td>3.0</td>\n",
       "      <td>True</td>\n",
       "    </tr>\n",
       "  </tbody>\n",
       "</table>\n",
       "</div>"
      ],
      "text/plain": [
       "    cid supply_start_date supply_end_date  limit_cnt  report_count production\n",
       "0  2259        2017-01-04      2017-01-20        3.0           NaN        NaN\n",
       "1  2260        2017-01-05      2017-02-28        5.0           3.0        NaN\n",
       "2  2261        2017-01-05      2017-02-10       10.0          32.0       True\n",
       "3  2263        2017-01-11      2017-02-03        3.0           1.0        NaN\n",
       "4  2264        2017-01-12      2017-01-30        3.0           3.0       True"
      ]
     },
     "execution_count": 19,
     "metadata": {},
     "output_type": "execute_result"
    }
   ],
   "source": [
    "master_df =  pd.merge(master_df, production_df, on='cid', how='outer')\n",
    "master_df.head()"
   ]
  },
  {
   "cell_type": "markdown",
   "metadata": {},
   "source": [
    "prodcutionカラムのNaNをreplace()メソッドを使いFlaseで埋めます。第一引数に検索対象、第二引数に代入値を渡す事で値を入れ替える事が出来ます。"
   ]
  },
  {
   "cell_type": "code",
   "execution_count": 20,
   "metadata": {},
   "outputs": [
    {
     "data": {
      "text/html": [
       "<div>\n",
       "<style scoped>\n",
       "    .dataframe tbody tr th:only-of-type {\n",
       "        vertical-align: middle;\n",
       "    }\n",
       "\n",
       "    .dataframe tbody tr th {\n",
       "        vertical-align: top;\n",
       "    }\n",
       "\n",
       "    .dataframe thead th {\n",
       "        text-align: right;\n",
       "    }\n",
       "</style>\n",
       "<table border=\"1\" class=\"dataframe\">\n",
       "  <thead>\n",
       "    <tr style=\"text-align: right;\">\n",
       "      <th></th>\n",
       "      <th>cid</th>\n",
       "      <th>supply_start_date</th>\n",
       "      <th>supply_end_date</th>\n",
       "      <th>limit_cnt</th>\n",
       "      <th>report_count</th>\n",
       "      <th>production</th>\n",
       "    </tr>\n",
       "  </thead>\n",
       "  <tbody>\n",
       "    <tr>\n",
       "      <th>0</th>\n",
       "      <td>2259</td>\n",
       "      <td>2017-01-04</td>\n",
       "      <td>2017-01-20</td>\n",
       "      <td>3.0</td>\n",
       "      <td>NaN</td>\n",
       "      <td>False</td>\n",
       "    </tr>\n",
       "    <tr>\n",
       "      <th>1</th>\n",
       "      <td>2260</td>\n",
       "      <td>2017-01-05</td>\n",
       "      <td>2017-02-28</td>\n",
       "      <td>5.0</td>\n",
       "      <td>3.0</td>\n",
       "      <td>False</td>\n",
       "    </tr>\n",
       "    <tr>\n",
       "      <th>2</th>\n",
       "      <td>2261</td>\n",
       "      <td>2017-01-05</td>\n",
       "      <td>2017-02-10</td>\n",
       "      <td>10.0</td>\n",
       "      <td>32.0</td>\n",
       "      <td>True</td>\n",
       "    </tr>\n",
       "    <tr>\n",
       "      <th>3</th>\n",
       "      <td>2263</td>\n",
       "      <td>2017-01-11</td>\n",
       "      <td>2017-02-03</td>\n",
       "      <td>3.0</td>\n",
       "      <td>1.0</td>\n",
       "      <td>False</td>\n",
       "    </tr>\n",
       "    <tr>\n",
       "      <th>4</th>\n",
       "      <td>2264</td>\n",
       "      <td>2017-01-12</td>\n",
       "      <td>2017-01-30</td>\n",
       "      <td>3.0</td>\n",
       "      <td>3.0</td>\n",
       "      <td>True</td>\n",
       "    </tr>\n",
       "  </tbody>\n",
       "</table>\n",
       "</div>"
      ],
      "text/plain": [
       "    cid supply_start_date supply_end_date  limit_cnt  report_count  production\n",
       "0  2259        2017-01-04      2017-01-20        3.0           NaN       False\n",
       "1  2260        2017-01-05      2017-02-28        5.0           3.0       False\n",
       "2  2261        2017-01-05      2017-02-10       10.0          32.0        True\n",
       "3  2263        2017-01-11      2017-02-03        3.0           1.0       False\n",
       "4  2264        2017-01-12      2017-01-30        3.0           3.0        True"
      ]
     },
     "execution_count": 20,
     "metadata": {},
     "output_type": "execute_result"
    }
   ],
   "source": [
    "master_df['production'].replace(np.NaN, False, inplace=True)\n",
    "master_df.head()"
   ]
  },
  {
   "cell_type": "markdown",
   "metadata": {},
   "source": [
    "***"
   ]
  },
  {
   "cell_type": "markdown",
   "metadata": {},
   "source": [
    "データ整形の操作を行ったあとは都度、確認する事をおすすめします。\"master_df\"の情報を確認するとproductionカラムを追加した事で<b>cidカラムが１つ増えてしまった</b>事が分かります。これは\"trial.tsv\"には存在しないcidデータが\"production.tsv\"に存在する事によるものと推測出来ます。"
   ]
  },
  {
   "cell_type": "code",
   "execution_count": 21,
   "metadata": {},
   "outputs": [
    {
     "name": "stdout",
     "output_type": "stream",
     "text": [
      "<class 'pandas.core.frame.DataFrame'>\n",
      "Int64Index: 209 entries, 0 to 208\n",
      "Data columns (total 6 columns):\n",
      "cid                  209 non-null int64\n",
      "supply_start_date    208 non-null object\n",
      "supply_end_date      208 non-null object\n",
      "limit_cnt            208 non-null float64\n",
      "report_count         84 non-null float64\n",
      "production           209 non-null bool\n",
      "dtypes: bool(1), float64(2), int64(1), object(2)\n",
      "memory usage: 10.0+ KB\n"
     ]
    }
   ],
   "source": [
    "master_df.info()"
   ]
  },
  {
   "cell_type": "markdown",
   "metadata": {},
   "source": [
    "isnull()メソッドを使用する事でDataframe型オブジェクトの内でnull値やNaN値の部分をTrue、それ以外をFalseで埋まった出力を返します。"
   ]
  },
  {
   "cell_type": "code",
   "execution_count": 22,
   "metadata": {},
   "outputs": [
    {
     "data": {
      "text/html": [
       "<div>\n",
       "<style scoped>\n",
       "    .dataframe tbody tr th:only-of-type {\n",
       "        vertical-align: middle;\n",
       "    }\n",
       "\n",
       "    .dataframe tbody tr th {\n",
       "        vertical-align: top;\n",
       "    }\n",
       "\n",
       "    .dataframe thead th {\n",
       "        text-align: right;\n",
       "    }\n",
       "</style>\n",
       "<table border=\"1\" class=\"dataframe\">\n",
       "  <thead>\n",
       "    <tr style=\"text-align: right;\">\n",
       "      <th></th>\n",
       "      <th>cid</th>\n",
       "      <th>supply_start_date</th>\n",
       "      <th>supply_end_date</th>\n",
       "      <th>limit_cnt</th>\n",
       "      <th>report_count</th>\n",
       "      <th>production</th>\n",
       "    </tr>\n",
       "  </thead>\n",
       "  <tbody>\n",
       "    <tr>\n",
       "      <th>0</th>\n",
       "      <td>False</td>\n",
       "      <td>False</td>\n",
       "      <td>False</td>\n",
       "      <td>False</td>\n",
       "      <td>True</td>\n",
       "      <td>False</td>\n",
       "    </tr>\n",
       "    <tr>\n",
       "      <th>1</th>\n",
       "      <td>False</td>\n",
       "      <td>False</td>\n",
       "      <td>False</td>\n",
       "      <td>False</td>\n",
       "      <td>False</td>\n",
       "      <td>False</td>\n",
       "    </tr>\n",
       "    <tr>\n",
       "      <th>2</th>\n",
       "      <td>False</td>\n",
       "      <td>False</td>\n",
       "      <td>False</td>\n",
       "      <td>False</td>\n",
       "      <td>False</td>\n",
       "      <td>False</td>\n",
       "    </tr>\n",
       "    <tr>\n",
       "      <th>3</th>\n",
       "      <td>False</td>\n",
       "      <td>False</td>\n",
       "      <td>False</td>\n",
       "      <td>False</td>\n",
       "      <td>False</td>\n",
       "      <td>False</td>\n",
       "    </tr>\n",
       "    <tr>\n",
       "      <th>4</th>\n",
       "      <td>False</td>\n",
       "      <td>False</td>\n",
       "      <td>False</td>\n",
       "      <td>False</td>\n",
       "      <td>False</td>\n",
       "      <td>False</td>\n",
       "    </tr>\n",
       "  </tbody>\n",
       "</table>\n",
       "</div>"
      ],
      "text/plain": [
       "     cid  supply_start_date  supply_end_date  limit_cnt  report_count  \\\n",
       "0  False              False            False      False          True   \n",
       "1  False              False            False      False         False   \n",
       "2  False              False            False      False         False   \n",
       "3  False              False            False      False         False   \n",
       "4  False              False            False      False         False   \n",
       "\n",
       "   production  \n",
       "0       False  \n",
       "1       False  \n",
       "2       False  \n",
       "3       False  \n",
       "4       False  "
      ]
     },
     "execution_count": 22,
     "metadata": {},
     "output_type": "execute_result"
    }
   ],
   "source": [
    "master_df.isnull().head()"
   ]
  },
  {
   "cell_type": "markdown",
   "metadata": {},
   "source": [
    "any()メソッドを使うとカラム毎に結果にTrueが含まれているか、sum()メソッドを使うと出力の中に含まれるTrueの数をカウントし返します。pythonのリスト型オブジェクトに対する感覚と同じようにDataframe型オブジェクトに使う事が出来ます。"
   ]
  },
  {
   "cell_type": "code",
   "execution_count": 23,
   "metadata": {},
   "outputs": [
    {
     "name": "stdout",
     "output_type": "stream",
     "text": [
      "cid                  False\n",
      "supply_start_date     True\n",
      "supply_end_date       True\n",
      "limit_cnt             True\n",
      "report_count          True\n",
      "production           False\n",
      "dtype: bool\n",
      "\n",
      "\n",
      "cid                    0\n",
      "supply_start_date      1\n",
      "supply_end_date        1\n",
      "limit_cnt              1\n",
      "report_count         125\n",
      "production             0\n",
      "dtype: int64\n"
     ]
    }
   ],
   "source": [
    "print(master_df.isnull().any())\n",
    "print('\\n')\n",
    "print(master_df.isnull().sum())"
   ]
  },
  {
   "cell_type": "markdown",
   "metadata": {},
   "source": [
    "Dataframe型オブジェクトにインデックス参照（\"Dataframe名[条件]\"の形）の条件へ、booleanのlist型、Series型、Datadrame型オブジェクト渡すとTrueに該当するを行を返す。ここではisnull()メソッドで作られたsupply_start_dateカラムのNaN値が有る行にTrueの入れたSeries型オブジェクトを条件にしている。"
   ]
  },
  {
   "cell_type": "code",
   "execution_count": 24,
   "metadata": {
    "scrolled": true
   },
   "outputs": [
    {
     "data": {
      "text/html": [
       "<div>\n",
       "<style scoped>\n",
       "    .dataframe tbody tr th:only-of-type {\n",
       "        vertical-align: middle;\n",
       "    }\n",
       "\n",
       "    .dataframe tbody tr th {\n",
       "        vertical-align: top;\n",
       "    }\n",
       "\n",
       "    .dataframe thead th {\n",
       "        text-align: right;\n",
       "    }\n",
       "</style>\n",
       "<table border=\"1\" class=\"dataframe\">\n",
       "  <thead>\n",
       "    <tr style=\"text-align: right;\">\n",
       "      <th></th>\n",
       "      <th>cid</th>\n",
       "      <th>supply_start_date</th>\n",
       "      <th>supply_end_date</th>\n",
       "      <th>limit_cnt</th>\n",
       "      <th>report_count</th>\n",
       "      <th>production</th>\n",
       "    </tr>\n",
       "  </thead>\n",
       "  <tbody>\n",
       "    <tr>\n",
       "      <th>208</th>\n",
       "      <td>2582</td>\n",
       "      <td>NaN</td>\n",
       "      <td>NaN</td>\n",
       "      <td>NaN</td>\n",
       "      <td>NaN</td>\n",
       "      <td>True</td>\n",
       "    </tr>\n",
       "  </tbody>\n",
       "</table>\n",
       "</div>"
      ],
      "text/plain": [
       "      cid supply_start_date supply_end_date  limit_cnt  report_count  \\\n",
       "208  2582               NaN             NaN        NaN           NaN   \n",
       "\n",
       "     production  \n",
       "208        True  "
      ]
     },
     "execution_count": 24,
     "metadata": {},
     "output_type": "execute_result"
    }
   ],
   "source": [
    "master_df[master_df['supply_start_date'].isnull()]"
   ]
  },
  {
   "cell_type": "markdown",
   "metadata": {},
   "source": [
    "該当する例外データのindexがわかったのでdrop()メソッドにindexを渡し該当行を削除します。"
   ]
  },
  {
   "cell_type": "code",
   "execution_count": 25,
   "metadata": {},
   "outputs": [],
   "source": [
    "master_df.drop(208, inplace=True)"
   ]
  },
  {
   "cell_type": "code",
   "execution_count": 26,
   "metadata": {},
   "outputs": [
    {
     "name": "stdout",
     "output_type": "stream",
     "text": [
      "<class 'pandas.core.frame.DataFrame'>\n",
      "Int64Index: 208 entries, 0 to 207\n",
      "Data columns (total 6 columns):\n",
      "cid                  208 non-null int64\n",
      "supply_start_date    208 non-null object\n",
      "supply_end_date      208 non-null object\n",
      "limit_cnt            208 non-null float64\n",
      "report_count         84 non-null float64\n",
      "production           208 non-null bool\n",
      "dtypes: bool(1), float64(2), int64(1), object(2)\n",
      "memory usage: 10.0+ KB\n"
     ]
    }
   ],
   "source": [
    "master_df.info()"
   ]
  },
  {
   "cell_type": "markdown",
   "metadata": {},
   "source": [
    "以上でデータ整形がようやく終わりました。データテーブルを動かす度にデータの情報を確認していなければ"
   ]
  },
  {
   "cell_type": "markdown",
   "metadata": {},
   "source": [
    "# データの可視化（seaborn）"
   ]
  },
  {
   "cell_type": "markdown",
   "metadata": {},
   "source": [
    "\"master_df\"のデータをグラフに起こし、視覚的にデータがどのようになっているかヒストグラムを利用して確認して行きます。"
   ]
  },
  {
   "cell_type": "markdown",
   "metadata": {},
   "source": [
    "視覚化を行う前に、データの整理の時にも度々行ってきましたがまたデータの状態を確認します。mean()メソッドでカラム毎の数値の平均値やdescribe()メソッドで同じく平均値、標準偏差、最大値、最小値、パーセンタイルなどを簡単に見る事が出来ます。"
   ]
  },
  {
   "cell_type": "code",
   "execution_count": 27,
   "metadata": {},
   "outputs": [
    {
     "data": {
      "text/html": [
       "<div>\n",
       "<style scoped>\n",
       "    .dataframe tbody tr th:only-of-type {\n",
       "        vertical-align: middle;\n",
       "    }\n",
       "\n",
       "    .dataframe tbody tr th {\n",
       "        vertical-align: top;\n",
       "    }\n",
       "\n",
       "    .dataframe thead th {\n",
       "        text-align: right;\n",
       "    }\n",
       "</style>\n",
       "<table border=\"1\" class=\"dataframe\">\n",
       "  <thead>\n",
       "    <tr style=\"text-align: right;\">\n",
       "      <th></th>\n",
       "      <th>cid</th>\n",
       "      <th>supply_start_date</th>\n",
       "      <th>supply_end_date</th>\n",
       "      <th>limit_cnt</th>\n",
       "      <th>report_count</th>\n",
       "      <th>production</th>\n",
       "    </tr>\n",
       "  </thead>\n",
       "  <tbody>\n",
       "    <tr>\n",
       "      <th>0</th>\n",
       "      <td>2259</td>\n",
       "      <td>2017-01-04</td>\n",
       "      <td>2017-01-20</td>\n",
       "      <td>3.0</td>\n",
       "      <td>NaN</td>\n",
       "      <td>False</td>\n",
       "    </tr>\n",
       "    <tr>\n",
       "      <th>1</th>\n",
       "      <td>2260</td>\n",
       "      <td>2017-01-05</td>\n",
       "      <td>2017-02-28</td>\n",
       "      <td>5.0</td>\n",
       "      <td>3.0</td>\n",
       "      <td>False</td>\n",
       "    </tr>\n",
       "    <tr>\n",
       "      <th>2</th>\n",
       "      <td>2261</td>\n",
       "      <td>2017-01-05</td>\n",
       "      <td>2017-02-10</td>\n",
       "      <td>10.0</td>\n",
       "      <td>32.0</td>\n",
       "      <td>True</td>\n",
       "    </tr>\n",
       "    <tr>\n",
       "      <th>3</th>\n",
       "      <td>2263</td>\n",
       "      <td>2017-01-11</td>\n",
       "      <td>2017-02-03</td>\n",
       "      <td>3.0</td>\n",
       "      <td>1.0</td>\n",
       "      <td>False</td>\n",
       "    </tr>\n",
       "    <tr>\n",
       "      <th>4</th>\n",
       "      <td>2264</td>\n",
       "      <td>2017-01-12</td>\n",
       "      <td>2017-01-30</td>\n",
       "      <td>3.0</td>\n",
       "      <td>3.0</td>\n",
       "      <td>True</td>\n",
       "    </tr>\n",
       "  </tbody>\n",
       "</table>\n",
       "</div>"
      ],
      "text/plain": [
       "    cid supply_start_date supply_end_date  limit_cnt  report_count  production\n",
       "0  2259        2017-01-04      2017-01-20        3.0           NaN       False\n",
       "1  2260        2017-01-05      2017-02-28        5.0           3.0       False\n",
       "2  2261        2017-01-05      2017-02-10       10.0          32.0        True\n",
       "3  2263        2017-01-11      2017-02-03        3.0           1.0       False\n",
       "4  2264        2017-01-12      2017-01-30        3.0           3.0        True"
      ]
     },
     "execution_count": 27,
     "metadata": {},
     "output_type": "execute_result"
    }
   ],
   "source": [
    "master_df.head()"
   ]
  },
  {
   "cell_type": "code",
   "execution_count": 31,
   "metadata": {},
   "outputs": [
    {
     "data": {
      "text/plain": [
       "cid             4485.192308\n",
       "limit_cnt          7.629808\n",
       "report_count     247.440476\n",
       "production         0.125000\n",
       "dtype: float64"
      ]
     },
     "execution_count": 31,
     "metadata": {},
     "output_type": "execute_result"
    }
   ],
   "source": [
    "master_df.mean()"
   ]
  },
  {
   "cell_type": "code",
   "execution_count": 33,
   "metadata": {
    "scrolled": true
   },
   "outputs": [
    {
     "data": {
      "text/html": [
       "<div>\n",
       "<style scoped>\n",
       "    .dataframe tbody tr th:only-of-type {\n",
       "        vertical-align: middle;\n",
       "    }\n",
       "\n",
       "    .dataframe tbody tr th {\n",
       "        vertical-align: top;\n",
       "    }\n",
       "\n",
       "    .dataframe thead th {\n",
       "        text-align: right;\n",
       "    }\n",
       "</style>\n",
       "<table border=\"1\" class=\"dataframe\">\n",
       "  <thead>\n",
       "    <tr style=\"text-align: right;\">\n",
       "      <th></th>\n",
       "      <th>cid</th>\n",
       "      <th>supply_start_date</th>\n",
       "      <th>supply_end_date</th>\n",
       "      <th>limit_cnt</th>\n",
       "      <th>report_count</th>\n",
       "      <th>production</th>\n",
       "    </tr>\n",
       "  </thead>\n",
       "  <tbody>\n",
       "    <tr>\n",
       "      <th>count</th>\n",
       "      <td>208.000000</td>\n",
       "      <td>208</td>\n",
       "      <td>208</td>\n",
       "      <td>208.000000</td>\n",
       "      <td>84.000000</td>\n",
       "      <td>208</td>\n",
       "    </tr>\n",
       "    <tr>\n",
       "      <th>unique</th>\n",
       "      <td>NaN</td>\n",
       "      <td>158</td>\n",
       "      <td>158</td>\n",
       "      <td>NaN</td>\n",
       "      <td>NaN</td>\n",
       "      <td>2</td>\n",
       "    </tr>\n",
       "    <tr>\n",
       "      <th>top</th>\n",
       "      <td>NaN</td>\n",
       "      <td>2018-04-23</td>\n",
       "      <td>2018-09-30</td>\n",
       "      <td>NaN</td>\n",
       "      <td>NaN</td>\n",
       "      <td>False</td>\n",
       "    </tr>\n",
       "    <tr>\n",
       "      <th>freq</th>\n",
       "      <td>NaN</td>\n",
       "      <td>4</td>\n",
       "      <td>6</td>\n",
       "      <td>NaN</td>\n",
       "      <td>NaN</td>\n",
       "      <td>182</td>\n",
       "    </tr>\n",
       "    <tr>\n",
       "      <th>mean</th>\n",
       "      <td>4485.192308</td>\n",
       "      <td>NaN</td>\n",
       "      <td>NaN</td>\n",
       "      <td>7.629808</td>\n",
       "      <td>247.440476</td>\n",
       "      <td>NaN</td>\n",
       "    </tr>\n",
       "    <tr>\n",
       "      <th>std</th>\n",
       "      <td>3062.374255</td>\n",
       "      <td>NaN</td>\n",
       "      <td>NaN</td>\n",
       "      <td>17.502311</td>\n",
       "      <td>1593.095542</td>\n",
       "      <td>NaN</td>\n",
       "    </tr>\n",
       "    <tr>\n",
       "      <th>min</th>\n",
       "      <td>2259.000000</td>\n",
       "      <td>NaN</td>\n",
       "      <td>NaN</td>\n",
       "      <td>3.000000</td>\n",
       "      <td>1.000000</td>\n",
       "      <td>NaN</td>\n",
       "    </tr>\n",
       "    <tr>\n",
       "      <th>25%</th>\n",
       "      <td>2381.500000</td>\n",
       "      <td>NaN</td>\n",
       "      <td>NaN</td>\n",
       "      <td>3.000000</td>\n",
       "      <td>2.000000</td>\n",
       "      <td>NaN</td>\n",
       "    </tr>\n",
       "    <tr>\n",
       "      <th>50%</th>\n",
       "      <td>2537.000000</td>\n",
       "      <td>NaN</td>\n",
       "      <td>NaN</td>\n",
       "      <td>3.000000</td>\n",
       "      <td>8.000000</td>\n",
       "      <td>NaN</td>\n",
       "    </tr>\n",
       "    <tr>\n",
       "      <th>75%</th>\n",
       "      <td>7146.250000</td>\n",
       "      <td>NaN</td>\n",
       "      <td>NaN</td>\n",
       "      <td>10.000000</td>\n",
       "      <td>28.250000</td>\n",
       "      <td>NaN</td>\n",
       "    </tr>\n",
       "    <tr>\n",
       "      <th>max</th>\n",
       "      <td>10286.000000</td>\n",
       "      <td>NaN</td>\n",
       "      <td>NaN</td>\n",
       "      <td>200.000000</td>\n",
       "      <td>14314.000000</td>\n",
       "      <td>NaN</td>\n",
       "    </tr>\n",
       "  </tbody>\n",
       "</table>\n",
       "</div>"
      ],
      "text/plain": [
       "                 cid supply_start_date supply_end_date   limit_cnt  \\\n",
       "count     208.000000               208             208  208.000000   \n",
       "unique           NaN               158             158         NaN   \n",
       "top              NaN        2018-04-23      2018-09-30         NaN   \n",
       "freq             NaN                 4               6         NaN   \n",
       "mean     4485.192308               NaN             NaN    7.629808   \n",
       "std      3062.374255               NaN             NaN   17.502311   \n",
       "min      2259.000000               NaN             NaN    3.000000   \n",
       "25%      2381.500000               NaN             NaN    3.000000   \n",
       "50%      2537.000000               NaN             NaN    3.000000   \n",
       "75%      7146.250000               NaN             NaN   10.000000   \n",
       "max     10286.000000               NaN             NaN  200.000000   \n",
       "\n",
       "        report_count production  \n",
       "count      84.000000        208  \n",
       "unique           NaN          2  \n",
       "top              NaN      False  \n",
       "freq             NaN        182  \n",
       "mean      247.440476        NaN  \n",
       "std      1593.095542        NaN  \n",
       "min         1.000000        NaN  \n",
       "25%         2.000000        NaN  \n",
       "50%         8.000000        NaN  \n",
       "75%        28.250000        NaN  \n",
       "max     14314.000000        NaN  "
      ]
     },
     "execution_count": 33,
     "metadata": {},
     "output_type": "execute_result"
    }
   ],
   "source": [
    "master_df.describe(include='all')"
   ]
  },
  {
   "cell_type": "markdown",
   "metadata": {},
   "source": [
    "report_countのパーセンタイルから報告書の送信回数に偏りが見えていました。報告書の送信回数がどのようになっているか企業毎に表示してみましょう。今回はseabornのbarplot()メソッド利用してみます。data引数に使用するDataframe型オブジェクトを、x-y引数にカラム名を引き渡します。（cidは数も桁数も多いのでメモリが潰れてしまっています）"
   ]
  },
  {
   "cell_type": "markdown",
   "metadata": {},
   "source": [
    "これにより著しく送信回数が多い企業があり、データに偏りが有る事が分かります。視覚化する事により、省くデータの大まかな方針を決めることや、例外値の発見が出来ます。"
   ]
  },
  {
   "cell_type": "code",
   "execution_count": 87,
   "metadata": {
    "scrolled": false
   },
   "outputs": [
    {
     "data": {
      "text/plain": [
       "<matplotlib.axes._subplots.AxesSubplot at 0x1a222ff630>"
      ]
     },
     "execution_count": 87,
     "metadata": {},
     "output_type": "execute_result"
    },
    {
     "data": {
      "image/png": "[encoded data removed]",
      "text/plain": [
       "<Figure size 432x288 with 1 Axes>"
      ]
     },
     "metadata": {},
     "output_type": "display_data"
    }
   ],
   "source": [
    "sns.barplot(x='cid', y='report_count', data=master_df)\n",
    "#import matplotlib as plt\n",
    "#plt.show()                                ---コンソールなどで表示する場合はmatplotlibをimportしてshow()してください"
   ]
  },
  {
   "cell_type": "markdown",
   "metadata": {},
   "source": [
    "pandasで簡単にヒストグラムを描くことも出来ます。こちらでも主だったデータ群は報告書の送信回数が2000回以下のデータ分布している事が分かります。後々、例外値を省く時の参考になります。"
   ]
  },
  {
   "cell_type": "code",
   "execution_count": 96,
   "metadata": {},
   "outputs": [
    {
     "data": {
      "text/plain": [
       "<matplotlib.axes._subplots.AxesSubplot at 0x1a2390c198>"
      ]
     },
     "execution_count": 96,
     "metadata": {},
     "output_type": "execute_result"
    },
    {
     "data": {
      "image/png": "[encoded data removed]",
      "text/plain": [
       "<Figure size 432x288 with 1 Axes>"
      ]
     },
     "metadata": {},
     "output_type": "display_data"
    }
   ],
   "source": [
    "master_df['report_count'].hist(bins=100)"
   ]
  },
  {
   "cell_type": "markdown",
   "metadata": {},
   "source": [
    "***"
   ]
  },
  {
   "cell_type": "markdown",
   "metadata": {},
   "source": [
    "seabornのcountoplotで報告書の提出回数の状況のヒストグラムを層別に見てみます。hue引数に分けたい層のカラムを渡すと層毎に簡単にヒストグラムを描画します。y引数を指定する事で水平なグラフにする事が出来ます。"
   ]
  },
  {
   "cell_type": "markdown",
   "metadata": {},
   "source": [
    "グラフから報告書の送信回数が特に少ない企業は本利用に至らない傾向がある等と仮定し、アプリケーション操作量が本利用に至るか否かのデータとして調べる価値があるのではないか等と推測できます。視覚化する事でデータ分析の指針を立てる事が出来ます。"
   ]
  },
  {
   "cell_type": "code",
   "execution_count": 100,
   "metadata": {},
   "outputs": [
    {
     "data": {
      "text/plain": [
       "<matplotlib.axes._subplots.AxesSubplot at 0x1a23e2a320>"
      ]
     },
     "execution_count": 100,
     "metadata": {},
     "output_type": "execute_result"
    },
    {
     "data": {
      "image/png": "[encoded data removed]",
      "text/plain": [
       "<Figure size 432x288 with 1 Axes>"
      ]
     },
     "metadata": {},
     "output_type": "display_data"
    }
   ],
   "source": [
    "sns.countplot('report_count', data=master_df, hue='production')"
   ]
  },
  {
   "cell_type": "code",
   "execution_count": 101,
   "metadata": {},
   "outputs": [
    {
     "data": {
      "text/plain": [
       "<matplotlib.axes._subplots.AxesSubplot at 0x1a21318160>"
      ]
     },
     "execution_count": 101,
     "metadata": {},
     "output_type": "execute_result"
    },
    {
     "data": {
      "image/png": "[encoded data removed]",
      "text/plain": [
       "<Figure size 432x288 with 1 Axes>"
      ]
     },
     "metadata": {},
     "output_type": "display_data"
    }
   ],
   "source": [
    "sns.countplot(y='report_count', data=master_df, hue='production')"
   ]
  },
  {
   "cell_type": "markdown",
   "metadata": {},
   "source": [
    "# まとめ"
   ]
  },
  {
   "cell_type": "markdown",
   "metadata": {},
   "source": [
    "データの整形をしっかりすれば後の視覚化や機械学習のデータセットとして扱う時に楽になります。実際にこの記事でデータの視覚化を行う場合は一行で終えてしまっています。整形したデータを様々な角度で視覚化し眺める事で取るべき次の分析の手段を決められます。以下の2点がこの記事で言いたい事です。\n",
    "* データの整形は状態を見ながら適切に行う事で、正しいであろう分析結果を得られるデータセットが作れる\n",
    "* データの数値的な状態や視覚化して見る事でデータ分析の方針が決められる"
   ]
  },
  {
   "cell_type": "markdown",
   "metadata": {},
   "source": [
    "今回は自身が実際に行ったpandasを扱ったデータ整形のフローを書き起こす形で記事にしました。ファイル中のデータを扱いやすく配列に組み込む作業である、だけなのですが、自分が思ったようデータを整形する事がなかなか出来ず苦労する部分でした。様々なデータサイエンスや機械学習のチュートリアルでは、予め整形されたデータセットを扱うため、自身でファイルからデータの整形を行う事は無いです。なのでこの記事が、データを整形しデータの傾向を診るに至るまで、どのような手順を踏んでいるかの１つの参考になれば幸いです。"
   ]
  },
  {
   "cell_type": "markdown",
   "metadata": {},
   "source": [
    "# 免責事項\n",
    "1. 本記事の投稿をしたアカウントで発信する本記事の情報以外の情報に於いては、投稿する個人の意見が含まれており、必ずしもレッドフォックス株式会社(redfox,Inc.)の見解を代表するものではありません。\n",
    "2. レッドフォックス株式会社(redfox,Inc.)は、本記事の投稿をしたアカウントにおける投稿の情報の正確性、有用性、及び完全性を保証するものではありません。\n",
    "3. レッドフォックス株式会社(redfox,Inc.)は、ユーザーにおいて本記事を投稿したアカウントで投稿された情報を利用したこと、または利用することができなかったことによって生じるいかなる損害について一切責任を負いません。 "
   ]
  }
 ],
 "metadata": {
  "kernelspec": {
   "display_name": "Python 3",
   "language": "python",
   "name": "python3"
  },
  "language_info": {
   "codemirror_mode": {
    "name": "ipython",
    "version": 3
   },
   "file_extension": ".py",
   "mimetype": "text/x-python",
   "name": "python",
   "nbconvert_exporter": "python",
   "pygments_lexer": "ipython3",
   "version": "3.6.5"
  },
  "toc": {
   "base_numbering": 1,
   "nav_menu": {},
   "number_sections": true,
   "sideBar": true,
   "skip_h1_title": false,
   "title_cell": "目次",
   "title_sidebar": "Contents",
   "toc_cell": true,
   "toc_position": {
    "height": "calc(100% - 180px)",
    "left": "10px",
    "top": "150px",
    "width": "230.391px"
   },
   "toc_section_display": true,
   "toc_window_display": true
  }
 },
 "nbformat": 4,
 "nbformat_minor": 2
}
