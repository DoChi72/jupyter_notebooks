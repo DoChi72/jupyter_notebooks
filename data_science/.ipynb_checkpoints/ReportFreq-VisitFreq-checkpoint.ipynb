{
 "cells": [
  {
   "cell_type": "code",
   "execution_count": null,
   "metadata": {},
   "outputs": [],
   "source": [
    "from IPython.display import clear_output\n",
    "clear_output()"
   ]
  },
  {
   "cell_type": "code",
   "execution_count": null,
   "metadata": {},
   "outputs": [],
   "source": [
    "import pandas as pd\n",
    "from pandas import Series,DataFrame\n",
    "import numpy as np\n",
    "\n",
    "import matplotlib.pyplot as plt\n",
    "import seaborn as sns\n",
    "%matplotlib inline"
   ]
  },
  {
   "cell_type": "code",
   "execution_count": null,
   "metadata": {},
   "outputs": [],
   "source": [
    "formated_customer_df = pd.read_csv('_df.csv',\n",
    "                                   index_col=0, usecols=[0,2,6,9,13,14],\n",
    "                                   dtype='str')"
   ]
  },
  {
   "cell_type": "code",
   "execution_count": null,
   "metadata": {},
   "outputs": [],
   "source": [
    "unproduction_df = pd.read_csv('lost_customer_dic.csv',\n",
    "                          usecols=[1],\n",
    "                          dtype='str')"
   ]
  },
  {
   "cell_type": "code",
   "execution_count": null,
   "metadata": {
    "scrolled": true
   },
   "outputs": [],
   "source": [
    "formated_customer_df"
   ]
  },
  {
   "cell_type": "code",
   "execution_count": null,
   "metadata": {
    "scrolled": true
   },
   "outputs": [],
   "source": [
    "unproduction_df"
   ]
  },
  {
   "cell_type": "code",
   "execution_count": null,
   "metadata": {},
   "outputs": [],
   "source": [
    "formated_customer_df['production'] = True"
   ]
  },
  {
   "cell_type": "code",
   "execution_count": null,
   "metadata": {
    "scrolled": true
   },
   "outputs": [],
   "source": [
    "unproduction_df = unproduction_df.drop_duplicates()"
   ]
  },
  {
   "cell_type": "code",
   "execution_count": null,
   "metadata": {
    "scrolled": false
   },
   "outputs": [],
   "source": [
    "unproduction_df['production'] = False\n",
    "unproduction_dict = unproduction_df.set_index('customer_name')['production'].to_dict()"
   ]
  },
  {
   "cell_type": "code",
   "execution_count": null,
   "metadata": {},
   "outputs": [],
   "source": [
    "#unproduction_dict"
   ]
  },
  {
   "cell_type": "code",
   "execution_count": null,
   "metadata": {},
   "outputs": [],
   "source": [
    "formated_customer_df['production'] = formated_customer_df.customer_name.map(unproduction_dict).replace(np.NaN, True)"
   ]
  },
  {
   "cell_type": "code",
   "execution_count": null,
   "metadata": {},
   "outputs": [],
   "source": [
    "formated_customer_df"
   ]
  },
  {
   "cell_type": "code",
   "execution_count": null,
   "metadata": {},
   "outputs": [],
   "source": [
    "formated_customer_df[formated_customer_df['customer_name'].str.contains('', na=False)]"
   ]
  },
  {
   "cell_type": "code",
   "execution_count": null,
   "metadata": {},
   "outputs": [],
   "source": [
    "sns.countplot('production', data=formated_customer_df.drop_duplicates(subset='customer_name'))"
   ]
  },
  {
   "cell_type": "code",
   "execution_count": null,
   "metadata": {},
   "outputs": [],
   "source": [
    "freq_homon_toiawase_df = formated_customer_df.drop_duplicates(subset='customer_name')['customer_name'].reset_index(drop = 'index')"
   ]
  },
  {
   "cell_type": "code",
   "execution_count": null,
   "metadata": {
    "scrolled": true
   },
   "outputs": [],
   "source": [
    "freq_homon_toiawase_df"
   ]
  },
  {
   "cell_type": "code",
   "execution_count": null,
   "metadata": {
    "scrolled": true
   },
   "outputs": [],
   "source": [
    "formated_customer_df['report_definition_name'].value_counts().sort_index()"
   ]
  },
  {
   "cell_type": "code",
   "execution_count": null,
   "metadata": {},
   "outputs": [],
   "source": [
    "homon_df = formated_customer_df[formated_customer_df['report_definition_name'].str.contains('')\n",
    "                                #|formated_customer_df['report_definition_name'].str.contains('')\n",
    "                                #|formated_customer_df['report_definition_name'].str.contains('')\n",
    "                               ]\n",
    "homon_freq = homon_df['customer_name'].value_counts().reset_index()\n",
    "homon_freq.columns = ['customer_name', 'freq_of_homon']"
   ]
  },
  {
   "cell_type": "code",
   "execution_count": null,
   "metadata": {},
   "outputs": [],
   "source": [
    "freq_homon_toiawase_df = freq_homon_toiawase_df.reset_index().merge(homon_freq, on='customer_name', how='outer', sort=False).sort_values('index').set_index('index').replace(np.NaN, 0)"
   ]
  },
  {
   "cell_type": "code",
   "execution_count": null,
   "metadata": {},
   "outputs": [],
   "source": [
    "toiawase_df = formated_customer_df[formated_customer_df['report_definition_name'].str.contains('')\n",
    "                                   |formated_customer_df['report_definition_name'].str.contains('')\n",
    "                                   |formated_customer_df['report_definition_name'].str.contains('')\n",
    "                                  ]\n",
    "toiawase_freq = toiawase_df.customer_name.value_counts().reset_index()\n",
    "toiawase_freq.columns = ['customer_name', 'freq_of_toiawase']\n",
    "freq_homon_toiawase_df = freq_homon_toiawase_df.reset_index().merge(toiawase_freq, on='customer_name', how='outer', sort=False).sort_values('index').set_index('index').replace(np.NaN, 0)"
   ]
  },
  {
   "cell_type": "code",
   "execution_count": null,
   "metadata": {},
   "outputs": [],
   "source": [
    "freq_homon_toiawase_df"
   ]
  },
  {
   "cell_type": "code",
   "execution_count": null,
   "metadata": {},
   "outputs": [],
   "source": [
    "freq_homon_toiawase_df['production'] = freq_homon_toiawase_df['customer_name'].map(unproduction_dict).replace(np.NaN, True)"
   ]
  },
  {
   "cell_type": "code",
   "execution_count": null,
   "metadata": {
    "scrolled": true
   },
   "outputs": [],
   "source": [
    "freq_homon_toiawase_df#.query('not production')"
   ]
  },
  {
   "cell_type": "code",
   "execution_count": null,
   "metadata": {},
   "outputs": [],
   "source": [
    "freq_homon_toiawase_df.describe()"
   ]
  },
  {
   "cell_type": "code",
   "execution_count": null,
   "metadata": {},
   "outputs": [],
   "source": [
    "freq_homon_toiawase_df.corr()"
   ]
  },
  {
   "cell_type": "code",
   "execution_count": null,
   "metadata": {},
   "outputs": [],
   "source": [
    "freq_homon_toiawase_df.query('10>freq_of_toiawase and 10>freq_of_homon').plot.hist(alpha=0.7, bins=100)"
   ]
  },
  {
   "cell_type": "code",
   "execution_count": null,
   "metadata": {},
   "outputs": [],
   "source": [
    "sns.pairplot(freq_homon_toiawase_df, hue='production',\n",
    "             plot_kws={'alpha': 0.1},\n",
    "             diag_kws={'bins': 20, 'alpha': 0.5}, size=3)"
   ]
  },
  {
   "cell_type": "code",
   "execution_count": null,
   "metadata": {},
   "outputs": [],
   "source": [
    "freq_homon_toiawase_df.query('40>freq_of_toiawase').plot.scatter(x='freq_of_homon', y='freq_of_toiawase', alpha=0.3, color='orange')"
   ]
  },
  {
   "cell_type": "code",
   "execution_count": null,
   "metadata": {},
   "outputs": [],
   "source": [
    "sns.lmplot('freq_of_homon', 'freq_of_toiawase', hue='production', data=freq_homon_toiawase_df.query('40>freq_of_toiawase'))"
   ]
  },
  {
   "cell_type": "code",
   "execution_count": null,
   "metadata": {},
   "outputs": [],
   "source": [
    "sns.lmplot('freq_of_homon', 'freq_of_toiawase', hue='production', data=freq_homon_toiawase_df.query('10>freq_of_toiawase and 10>freq_of_homon'))"
   ]
  },
  {
   "cell_type": "code",
   "execution_count": null,
   "metadata": {},
   "outputs": [],
   "source": [
    "freq_homon_toiawase_df.query('40>freq_of_toiawase').plot.hexbin(x='freq_of_homon', y='freq_of_toiawase',\n",
    "                                                                alpha=0.3,\n",
    "                                                                color='orange',\n",
    "                                                                gridsize=20, sharex=False)"
   ]
  },
  {
   "cell_type": "code",
   "execution_count": null,
   "metadata": {},
   "outputs": [],
   "source": [
    "freq_homon_toiawase_df.query('not production').plot.scatter(x='freq_of_homon', y='freq_of_toiawase', alpha=0.2)"
   ]
  },
  {
   "cell_type": "code",
   "execution_count": null,
   "metadata": {
    "scrolled": true
   },
   "outputs": [],
   "source": [
    "kison_df = formated_customer_df[formated_customer_df['report_definition_name'].str.contains('')\n",
    "                                |formated_customer_df['report_definition_name'].str.contains('')\n",
    "                                |formated_customer_df['report_definition_name'].str.contains('')\n",
    "                               ]\n",
    "kison_df"
   ]
  },
  {
   "cell_type": "code",
   "execution_count": null,
   "metadata": {},
   "outputs": [],
   "source": [
    "kison_df.merge(freq_homon_toiawase_df).drop_duplicates('customer_name').describe()"
   ]
  },
  {
   "cell_type": "code",
   "execution_count": null,
   "metadata": {},
   "outputs": [],
   "source": [
    "mikomi_df = formated_customer_df[formated_customer_df['report_definition_name'].str.contains('')\n",
    "                                |formated_customer_df['report_definition_name'].str.contains('')\n",
    "                                |formated_customer_df['report_definition_name'].str.contains('')\n",
    "                               ]\n",
    "mikomi_df"
   ]
  },
  {
   "cell_type": "code",
   "execution_count": null,
   "metadata": {},
   "outputs": [],
   "source": [
    "mikomi_df.merge(freq_homon_toiawase_df).drop_duplicates('customer_name').describe()"
   ]
  },
  {
   "cell_type": "code",
   "execution_count": null,
   "metadata": {},
   "outputs": [],
   "source": [
    "mikomi_df.merge(freq_homon_toiawase_df).drop_duplicates('customer_name').corr()"
   ]
  },
  {
   "cell_type": "code",
   "execution_count": null,
   "metadata": {},
   "outputs": [],
   "source": [
    "mikomi_df.merge(freq_homon_toiawase_df).plot.scatter(x='freq_of_homon', y='freq_of_toiawase', alpha=0.3, color='orange')"
   ]
  },
  {
   "cell_type": "code",
   "execution_count": null,
   "metadata": {
    "scrolled": true
   },
   "outputs": [],
   "source": [
    "sns.lmplot('freq_of_homon', 'freq_of_toiawase', hue='production', data=mikomi_df.merge(freq_homon_toiawase_df))"
   ]
  },
  {
   "cell_type": "code",
   "execution_count": null,
   "metadata": {},
   "outputs": [],
   "source": []
  }
 ],
 "metadata": {
  "kernelspec": {
   "display_name": "Python 3",
   "language": "python",
   "name": "python3"
  },
  "language_info": {
   "codemirror_mode": {
    "name": "ipython",
    "version": 3
   },
   "file_extension": ".py",
   "mimetype": "text/x-python",
   "name": "python",
   "nbconvert_exporter": "python",
   "pygments_lexer": "ipython3",
   "version": "3.6.5"
  },
  "toc": {
   "base_numbering": 1,
   "nav_menu": {},
   "number_sections": true,
   "sideBar": true,
   "skip_h1_title": false,
   "title_cell": "Table of Contents",
   "title_sidebar": "Contents",
   "toc_cell": false,
   "toc_position": {},
   "toc_section_display": true,
   "toc_window_display": false
  }
 },
 "nbformat": 4,
 "nbformat_minor": 2
}
