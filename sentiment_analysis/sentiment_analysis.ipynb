{
 "cells": [
  {
   "cell_type": "code",
   "execution_count": null,
   "metadata": {},
   "outputs": [],
   "source": [
    "import pandas as pd\n",
    "from pandas import Series,DataFrame\n",
    "\n",
    "from janome.tokenizer import Tokenizer\n",
    "from janome.analyzer import Analyzer\n",
    "from janome.tokenfilter import *\n",
    "from janome.charfilter import *\n",
    "\n",
    "import numpy as np #np.arangeを使う時\n",
    "import codecs #辞書ファイルの読み込みの時\n",
    "\n",
    "from tqdm import tqdm_notebook as tqdm\n",
    "\n",
    "import matplotlib.pyplot as plt\n",
    "import seaborn as sns\n",
    "%matplotlib inline"
   ]
  },
  {
   "cell_type": "markdown",
   "metadata": {},
   "source": [
    "# データの読み込み"
   ]
  },
  {
   "cell_type": "code",
   "execution_count": null,
   "metadata": {},
   "outputs": [],
   "source": [
    "formated_customer_df = pd.read_csv('formated_customer_df.csv',\n",
    "                                   index_col=0, usecols=[0,2,6,13,14],\n",
    "                                   dtype='str')"
   ]
  },
  {
   "cell_type": "code",
   "execution_count": null,
   "metadata": {},
   "outputs": [],
   "source": [
    "'''\n",
    "pre_customer_df = pd.read_csv('pre_customer_df.csv',\n",
    "                              index_col=0, usecols=[0,2,6,13,14],\n",
    "                              dtype='str')\n",
    "'''"
   ]
  },
  {
   "cell_type": "code",
   "execution_count": null,
   "metadata": {},
   "outputs": [],
   "source": [
    "#pre_customer_df.reset_index(drop=True, inplace=True)"
   ]
  },
  {
   "cell_type": "code",
   "execution_count": null,
   "metadata": {},
   "outputs": [],
   "source": [
    "formated_customer_df"
   ]
  },
  {
   "cell_type": "code",
   "execution_count": null,
   "metadata": {},
   "outputs": [],
   "source": [
    "#pre_customer_df"
   ]
  },
  {
   "cell_type": "markdown",
   "metadata": {},
   "source": [
    "# 形態要素解析"
   ]
  },
  {
   "cell_type": "code",
   "execution_count": null,
   "metadata": {},
   "outputs": [],
   "source": [
    "t = Tokenizer()"
   ]
  },
  {
   "cell_type": "markdown",
   "metadata": {},
   "source": [
    "%%time\n",
    "tokens = []\n",
    "\n",
    "for i in range(len(formated_customer_df)):\n",
    "    token = t.tokenize(formated_customer_df['analysis_text'][i], stream=False)\n",
    "    tokens.append(token)"
   ]
  },
  {
   "cell_type": "code",
   "execution_count": null,
   "metadata": {},
   "outputs": [],
   "source": [
    "#[token.base_form for token in tokens[197] if token.part_of_speech.split(',')[0] in ['動詞','名詞', '形容詞', '副詞', '形容動詞']]"
   ]
  },
  {
   "cell_type": "markdown",
   "metadata": {},
   "source": [
    "# フィルターの実装"
   ]
  },
  {
   "cell_type": "code",
   "execution_count": null,
   "metadata": {},
   "outputs": [],
   "source": [
    "class NumericReplaceFilter(TokenFilter):\n",
    "    \"\"\"\n",
    "    名詞中の数(漢数字を含む)を全て0に置き換えるTokenFilterの実装\n",
    "    \"\"\"\n",
    "    def apply(self, tokens):\n",
    "        for token in tokens:\n",
    "            parts = token.part_of_speech.split(',')\n",
    "            if (parts[0] == '名詞' and parts[1] == '数'):\n",
    "                token.surface = '0'\n",
    "                token.base_form = '0'\n",
    "                token.reading = 'ゼロ'\n",
    "                token.phonetic = 'ゼロ'\n",
    "            yield token"
   ]
  },
  {
   "cell_type": "code",
   "execution_count": null,
   "metadata": {},
   "outputs": [],
   "source": [
    "char_filters = [UnicodeNormalizeCharFilter(),\n",
    "                RegexReplaceCharFilter('https?://[\\w/:%#\\$&\\?\\(\\)~\\.=\\+\\-]+', ''),\n",
    "                RegexReplaceCharFilter('\\?', ''),\n",
    "                RegexReplaceCharFilter('？', ''),\n",
    "                #RegexReplaceCharFilter('。', '')] \n",
    "               ]\n",
    "token_filters = [NumericReplaceFilter(), # 名詞中の漢数字を含む数字を0に置換\n",
    "                 CompoundNounFilter(), # 名詞が連続する場合は複合名詞にする\n",
    "                 POSKeepFilter(['名詞', '動詞', '形容詞', '副詞']),# '助動詞']), # 名詞・動詞・形容詞・副詞のみを取得する\n",
    "                 LowerCaseFilter()] # 英字は小文字にする\n",
    "\n",
    "analyzer = Analyzer(char_filters, t, token_filters)"
   ]
  },
  {
   "cell_type": "code",
   "execution_count": null,
   "metadata": {
    "scrolled": true
   },
   "outputs": [],
   "source": [
    "text5 = '時は内乱の最中である。秘密基地を発った反乱軍の宇宙船団が、邪悪な銀河帝国軍に対して初の勝利を収めた。この戦いで、反乱軍のスパイは帝国軍の究極兵器の設計図を奪取することに成功する。それはデス・スターと呼ばれる、惑星をも完全に破壊できる力を持った巨大宇宙ステーションだった。設計図を受け取ったレイア姫は、人々を救い、銀河系に平和を取り戻すべく、自船で故郷へと向かうが、帝国軍の密使に発見されてしまったのだった・・・'\n",
    "for token in analyzer.analyze(text5):\n",
    "    print(token)"
   ]
  },
  {
   "cell_type": "markdown",
   "metadata": {},
   "source": [
    "%%time\n",
    "atokens = []\n",
    "for i in range(len(formated_customer_df)):\n",
    "    atoken = analyzer.analyze(formated_customer_df['analysis_text'][i], stream=False)\n",
    "    atokens.append(atoken)"
   ]
  },
  {
   "cell_type": "code",
   "execution_count": null,
   "metadata": {},
   "outputs": [],
   "source": [
    "%%time\n",
    "atokens = []\n",
    "for i in range(len(formated_customer_df)):\n",
    "    atoken = analyzer.analyze(formated_customer_df['analysis_text'][i])#, stream=True)\n",
    "    atokens.append(atoken)"
   ]
  },
  {
   "cell_type": "markdown",
   "metadata": {},
   "source": [
    "formated_customer_df['analysis_text'][18]"
   ]
  },
  {
   "cell_type": "code",
   "execution_count": null,
   "metadata": {},
   "outputs": [],
   "source": [
    "print(formated_customer_df[formated_customer_df['report_definition_name'] == '既存顧客問い合わせ対応（メール）'].index)"
   ]
  },
  {
   "cell_type": "code",
   "execution_count": null,
   "metadata": {},
   "outputs": [],
   "source": [
    "formated_customer_df[formated_customer_df['report_definition_name'].str.endswith('既存顧客問い合わせ対応（メール）')]"
   ]
  },
  {
   "cell_type": "code",
   "execution_count": null,
   "metadata": {},
   "outputs": [],
   "source": [
    "number = 1024"
   ]
  },
  {
   "cell_type": "code",
   "execution_count": null,
   "metadata": {},
   "outputs": [],
   "source": [
    "#pre_customer_df['analysis_text'][number]"
   ]
  },
  {
   "cell_type": "code",
   "execution_count": null,
   "metadata": {
    "scrolled": true
   },
   "outputs": [],
   "source": [
    "print([token.base_form for token in analyzer.analyze(formated_customer_df['analysis_text'][number])])"
   ]
  },
  {
   "cell_type": "code",
   "execution_count": null,
   "metadata": {
    "scrolled": true
   },
   "outputs": [],
   "source": [
    "#print([token.surface for token in tokens[number]])"
   ]
  },
  {
   "cell_type": "code",
   "execution_count": null,
   "metadata": {
    "scrolled": true
   },
   "outputs": [],
   "source": [
    "#[i.base_form for i in atokens[11]]\n",
    "for temp in analyzer.analyze(formated_customer_df['analysis_text'][number]):\n",
    "    print(temp)"
   ]
  },
  {
   "cell_type": "markdown",
   "metadata": {},
   "source": [
    "# 辞書の読み込み定義"
   ]
  },
  {
   "cell_type": "code",
   "execution_count": null,
   "metadata": {},
   "outputs": [],
   "source": [
    "# pn_ja.dicファイルから、単語をキー、極性値を値とする辞書を得る\n",
    "def load_pn_dict():\n",
    "    dic = {}\n",
    "    \n",
    "    with codecs.open('./pn_ja.dic', 'r', 'shift_jis') as f:\n",
    "        lines = f.readlines()\n",
    "        \n",
    "        for line in lines:\n",
    "            # 各行は\"良い:よい:形容詞:0.999995\"\n",
    "            columns = line.split(':')      \n",
    "            \n",
    "            if float(columns[3]) > 0.7:\n",
    "                  dic[columns[0]] = 1\n",
    "            \n",
    "            elif float(columns[3]) < -0.7:\n",
    "                  dic[columns[0]] = -1\n",
    "            \n",
    "            else:\n",
    "                  dic[columns[0]] = 0\n",
    "            \n",
    "    return dic"
   ]
  },
  {
   "cell_type": "code",
   "execution_count": null,
   "metadata": {},
   "outputs": [],
   "source": [
    "def load_meisi_dict():\n",
    "    dic = {}\n",
    "    \n",
    "    with codecs.open('./pn.csv.m3.120408.dic', 'r', 'utf-8') as f:\n",
    "        lines = f.readlines()\n",
    "        \n",
    "        for line in lines:\n",
    "            columns = line.split(\"\\t\")\n",
    "            \n",
    "            if columns[1] == 'p':\n",
    "                dic[columns[0]] = int(1)\n",
    "            elif columns[1] == 'n':\n",
    "                dic[columns[0]] = int(-1)\n",
    "            else:\n",
    "                dic[columns[0]] = int(0)\n",
    "    return dic"
   ]
  },
  {
   "cell_type": "code",
   "execution_count": null,
   "metadata": {},
   "outputs": [],
   "source": [
    "def load_yogen_dict():\n",
    "    dic = {}\n",
    "    \n",
    "    with codecs.open('./wago.121808.dic', 'r','utf-8') as f:\n",
    "        lines = f.readlines()\n",
    "        \n",
    "        for line in lines:\n",
    "            columns = line.split(\"\\t\")\n",
    "            columns[1] = columns[1].strip()\n",
    "            columns[1] = columns[1].replace(\" \", \"\")  \n",
    "            if columns[0] == \"ネガ（評価）\" or columns[0] == \"ネガ（経験）\":\n",
    "                dic[columns[1]] = int(-1)\n",
    "            else:\n",
    "                dic[columns[1]] = int(1)\n",
    "    return dic\n",
    "            \n",
    "            #\"ポジ（評価）\"　\"ポジ（経験）\""
   ]
  },
  {
   "cell_type": "markdown",
   "metadata": {},
   "source": [
    " # 辞書の読み込み"
   ]
  },
  {
   "cell_type": "code",
   "execution_count": null,
   "metadata": {
    "scrolled": true
   },
   "outputs": [],
   "source": [
    "# 感情極性対応表のロード\n",
    "pn_dic = load_pn_dict()\n",
    "meisi_dic = load_meisi_dict()\n",
    "yogen_dic = load_yogen_dict()"
   ]
  },
  {
   "cell_type": "code",
   "execution_count": null,
   "metadata": {
    "scrolled": true
   },
   "outputs": [],
   "source": [
    "pn_dic"
   ]
  },
  {
   "cell_type": "markdown",
   "metadata": {},
   "source": [
    "# トークンにスコアを割り振る"
   ]
  },
  {
   "cell_type": "code",
   "execution_count": null,
   "metadata": {},
   "outputs": [],
   "source": [
    "def get_pn_scores(tokens, pn_dic):\n",
    "    scores = []\n",
    "    score_dic ={}\n",
    "    \n",
    "    for base_form in [token.base_form for token in tokens]:\n",
    "        if base_form in pn_dic:\n",
    "            scores.append(pn_dic[base_form])\n",
    "            score_dic[base_form] = pn_dic[base_form]\n",
    "    return scores, score_dic\n",
    "\n",
    "text = '時は内乱の最中である。秘密基地を発った反乱軍の宇宙船団が、邪悪な銀河帝国軍に対して初の勝利を収めた。'\\\n",
    "    'この戦いで、反乱軍のスパイは帝国軍の究極兵器の設計図を奪取することに成功する。'\\\n",
    "    'それはデス・スターと呼ばれる、惑星をも完全に破壊できる力を持った巨大宇宙ステーションだった。'\\\n",
    "    '設計図を受け取ったレイア姫は、人々を救い、銀河系に平和を取り戻すべく、自船で故郷へと向かうが'\\\n",
    "    '帝国軍の密使に発見されてしまったのだった・・・'\n",
    "\n",
    "#実装では複数のテキスト分かち書きを読み込む事前提の実装\n",
    "pn_scores = []\n",
    "pn_scores_dic = []\n",
    "\n",
    "dics = [pn_dic, meisi_dic, yogen_dic]\n",
    "\n",
    "for i, dic in enumerate(dics):\n",
    "    a, b = get_pn_scores(analyzer.analyze(text), dic)\n",
    "    pn_scores.append(a)\n",
    "    pn_scores_dic.append(b)\n",
    "    print(pn_scores_dic[i])"
   ]
  },
  {
   "cell_type": "code",
   "execution_count": null,
   "metadata": {},
   "outputs": [],
   "source": [
    "# トークンリストから極性値リストを得る\n",
    "def get_pn_scores(tokens, dic):\n",
    "    scores = []\n",
    "    score_dic ={}\n",
    "    \n",
    "    for base_form in [token.base_form for token in tokens]:\n",
    "        if base_form in dic:\n",
    "            scores.append(dic[base_form])\n",
    "            score_dic[base_form] = dic[base_form]\n",
    "    return scores, score_dic"
   ]
  },
  {
   "cell_type": "code",
   "execution_count": null,
   "metadata": {
    "code_folding": [],
    "scrolled": true
   },
   "outputs": [],
   "source": [
    "%%time\n",
    "pn_scores_Toko = []\n",
    "pn_scores_Toko_dic = []\n",
    "for i in range(len(formated_customer_df['analysis_text'])):\n",
    "    #pn_scores_Toko.append(get_pn_scores(tokens[i], pn_dic))\n",
    "    a, b = get_pn_scores(analyzer.analyze(formated_customer_df['analysis_text'][i]), pn_dic)\n",
    "    pn_scores_Toko.append(a)\n",
    "    pn_scores_Toko_dic.append(b)"
   ]
  },
  {
   "cell_type": "code",
   "execution_count": null,
   "metadata": {},
   "outputs": [],
   "source": [
    "pn_scores_meisi = []\n",
    "pn_scores_meisi_dic = []\n",
    "for i in range(len(formated_customer_df['analysis_text'])):\n",
    "    a, b = get_pn_scores(analyzer.analyze(formated_customer_df['analysis_text'][i]), meisi_dic)\n",
    "    pn_scores_meisi.append(a)\n",
    "    pn_scores_meisi_dic.append(b)"
   ]
  },
  {
   "cell_type": "code",
   "execution_count": null,
   "metadata": {},
   "outputs": [],
   "source": [
    "pn_scores_yogen = []\n",
    "pn_scores_yogen_dic = []\n",
    "for i in range(len(formated_customer_df['analysis_text'])):\n",
    "    a, b = get_pn_scores(analyzer.analyze(formated_customer_df['analysis_text'][i]), yogen_dic)\n",
    "    pn_scores_yogen.append(a)\n",
    "    pn_scores_yogen_dic.append(b)"
   ]
  },
  {
   "cell_type": "code",
   "execution_count": null,
   "metadata": {},
   "outputs": [],
   "source": [
    "print(pn_scores_Toko_dic[0])"
   ]
  },
  {
   "cell_type": "code",
   "execution_count": null,
   "metadata": {},
   "outputs": [],
   "source": [
    "print(pn_scores_Toko[0])"
   ]
  },
  {
   "cell_type": "code",
   "execution_count": null,
   "metadata": {},
   "outputs": [],
   "source": [
    "print(pn_scores_meisi_dic[0])"
   ]
  },
  {
   "cell_type": "code",
   "execution_count": null,
   "metadata": {},
   "outputs": [],
   "source": [
    "print(pn_scores_yogen_dic[0])"
   ]
  },
  {
   "cell_type": "markdown",
   "metadata": {},
   "source": [
    "# スコアを算出する"
   ]
  },
  {
   "cell_type": "code",
   "execution_count": null,
   "metadata": {},
   "outputs": [],
   "source": [
    "pn_score_Toko = []\n",
    "for i in range(len(pn_scores_Toko)):\n",
    "    if len(pn_scores_Toko[i]) == 0:\n",
    "        pn_score_Toko.append(0)\n",
    "    else:\n",
    "        pn_score_Toko.append(sum(pn_scores_Toko[i])/len(pn_scores_Toko[i]))"
   ]
  },
  {
   "cell_type": "code",
   "execution_count": null,
   "metadata": {},
   "outputs": [],
   "source": [
    "pn_score_meisi = []\n",
    "for i in range(len(pn_scores_meisi)):\n",
    "    if len(pn_scores_meisi[i]) == 0:\n",
    "        pn_score_meisi.append(0)\n",
    "    else:\n",
    "        pn_score_meisi.append(sum(pn_scores_meisi[i])/len(pn_scores_meisi[i]))"
   ]
  },
  {
   "cell_type": "code",
   "execution_count": null,
   "metadata": {},
   "outputs": [],
   "source": [
    "pn_score_yogen = []\n",
    "for i in range(len(pn_scores_yogen)):\n",
    "    if len(pn_scores_yogen[i]) == 0:\n",
    "        pn_score_yogen.append(0)\n",
    "    else:\n",
    "        pn_score_yogen.append(sum(pn_scores_yogen[i])/len(pn_scores_yogen[i]))"
   ]
  },
  {
   "cell_type": "code",
   "execution_count": null,
   "metadata": {},
   "outputs": [],
   "source": [
    "len(pn_score_Toko)"
   ]
  },
  {
   "cell_type": "code",
   "execution_count": null,
   "metadata": {},
   "outputs": [],
   "source": [
    "len(pn_score_meisi)"
   ]
  },
  {
   "cell_type": "code",
   "execution_count": null,
   "metadata": {},
   "outputs": [],
   "source": [
    "len(pn_score_yogen)"
   ]
  },
  {
   "cell_type": "markdown",
   "metadata": {},
   "source": [
    "# スコアをデータフレームにまとめる"
   ]
  },
  {
   "cell_type": "code",
   "execution_count": null,
   "metadata": {},
   "outputs": [],
   "source": [
    "score_df = pd.DataFrame(pn_score_Toko, columns=['pn_score_Toko'])"
   ]
  },
  {
   "cell_type": "code",
   "execution_count": null,
   "metadata": {},
   "outputs": [],
   "source": [
    "score_df['pn_score_meisi'] = pn_score_meisi"
   ]
  },
  {
   "cell_type": "code",
   "execution_count": null,
   "metadata": {},
   "outputs": [],
   "source": [
    "score_df['pn_score_yogen'] = pn_score_yogen"
   ]
  },
  {
   "cell_type": "code",
   "execution_count": null,
   "metadata": {},
   "outputs": [],
   "source": [
    "score_df.head()"
   ]
  },
  {
   "cell_type": "code",
   "execution_count": null,
   "metadata": {},
   "outputs": [],
   "source": [
    "formated_customer_df = formated_customer_df.join(score_df)"
   ]
  },
  {
   "cell_type": "code",
   "execution_count": null,
   "metadata": {},
   "outputs": [],
   "source": [
    "#pre_customer_df = pre_customer_df.join(score_df)"
   ]
  },
  {
   "cell_type": "markdown",
   "metadata": {},
   "source": [
    "# 日時カラムをdayだけの型にする"
   ]
  },
  {
   "cell_type": "code",
   "execution_count": null,
   "metadata": {},
   "outputs": [],
   "source": [
    "formated_customer_df['created_at'] = pd.to_datetime(formated_customer_df['created_at'])\n",
    "type(formated_customer_df.created_at[0])"
   ]
  },
  {
   "cell_type": "code",
   "execution_count": null,
   "metadata": {},
   "outputs": [],
   "source": [
    "formated_customer_df['created_at'] = formated_customer_df['created_at'].dt.date"
   ]
  },
  {
   "cell_type": "code",
   "execution_count": null,
   "metadata": {},
   "outputs": [],
   "source": [
    "#pre_customer_df['created_at'] = pd.to_datetime(pre_customer_df['created_at'])\n",
    "#pe(pre_customer_df.created_at[0])"
   ]
  },
  {
   "cell_type": "code",
   "execution_count": null,
   "metadata": {},
   "outputs": [],
   "source": [
    "#pre_customer_df['created_at'] = pre_customer_df['created_at'].dt.date"
   ]
  },
  {
   "cell_type": "markdown",
   "metadata": {},
   "source": [
    "# 問い合わせ件数をまとめる"
   ]
  },
  {
   "cell_type": "code",
   "execution_count": null,
   "metadata": {},
   "outputs": [],
   "source": [
    "freq_of_app_df = formated_customer_df.customer_name.value_counts().reset_index() #Series\n",
    "freq_of_app_df.columns = ['customer_name', 'freq_of_app']"
   ]
  },
  {
   "cell_type": "code",
   "execution_count": null,
   "metadata": {},
   "outputs": [],
   "source": [
    "freq_of_app_df.head()"
   ]
  },
  {
   "cell_type": "code",
   "execution_count": null,
   "metadata": {},
   "outputs": [],
   "source": [
    "master_df = formated_customer_df.reset_index().merge(freq_of_app_df, on='customer_name', how='outer', sort=False).sort_values('index').set_index('index')"
   ]
  },
  {
   "cell_type": "code",
   "execution_count": null,
   "metadata": {},
   "outputs": [],
   "source": [
    "#master_df = pre_customer_df.reset_index().merge(freq_of_app_df, on='customer_name', how='outer', sort=False).sort_values('index').set_index('index')"
   ]
  },
  {
   "cell_type": "markdown",
   "metadata": {},
   "source": [
    "pre_customer_df.reset_index().merge(freq_of_app_df, on='customer_name', how='outer', sort=False).sort_values('index').set_index('index')"
   ]
  },
  {
   "cell_type": "markdown",
   "metadata": {},
   "source": [
    "# 東工大のスコアにオフセットを加える"
   ]
  },
  {
   "cell_type": "code",
   "execution_count": null,
   "metadata": {},
   "outputs": [],
   "source": [
    "print(master_df['pn_score_Toko'].mean())\n",
    "if  master_df['pn_score_Toko'].mean() > 0:\n",
    "    offset_toko = master_df['pn_score_Toko'].mean()\n",
    "else:\n",
    "    offset_toko = -1 * master_df['pn_score_Toko'].mean()"
   ]
  },
  {
   "cell_type": "code",
   "execution_count": null,
   "metadata": {},
   "outputs": [],
   "source": [
    "offset_toko"
   ]
  },
  {
   "cell_type": "code",
   "execution_count": null,
   "metadata": {},
   "outputs": [],
   "source": [
    "master_df['pn_score_Toko_offset'] = master_df['pn_score_Toko'] + offset_toko"
   ]
  },
  {
   "cell_type": "markdown",
   "metadata": {},
   "source": [
    "# スコアの重み付け"
   ]
  },
  {
   "cell_type": "code",
   "execution_count": null,
   "metadata": {},
   "outputs": [],
   "source": [
    "%%time\n",
    "total_score = []\n",
    "offset_num = abs(pd.DataFrame.from_dict(pn_dic, orient='index').mean()[0])\n",
    "\n",
    "def offset(n):\n",
    "    return n + offset_num\n",
    "\n",
    "for i in tqdm(range(len(pn_scores_Toko))):\n",
    "    offset_score = list(map(offset, np.array(pn_scores_Toko)))\n",
    "\n",
    "for i in tqdm(range(len(pn_scores_Toko))):\n",
    "    value = np.array([sum(pn_scores_Toko[i]), sum(pn_scores_meisi[i]), sum(pn_scores_yogen[i])])\n",
    "    weight = np.array([len(pn_scores_Toko[i]), len(pn_scores_meisi[i]), len(pn_scores_yogen[i])])\n",
    "\n",
    "    if sum(weight) == 0:\n",
    "        total_score.append(0)\n",
    "    else:\n",
    "        wt_avg = (value * weight).sum() / weight.sum()\n",
    "        total_score.append(wt_avg)"
   ]
  },
  {
   "cell_type": "code",
   "execution_count": null,
   "metadata": {
    "scrolled": true
   },
   "outputs": [],
   "source": [
    "pd.DataFrame(total_score)"
   ]
  },
  {
   "cell_type": "code",
   "execution_count": null,
   "metadata": {},
   "outputs": [],
   "source": [
    "master_df['wt_avg_score'] = pd.DataFrame(total_score)"
   ]
  },
  {
   "cell_type": "markdown",
   "metadata": {},
   "source": [
    "# スコアの合計値"
   ]
  },
  {
   "cell_type": "code",
   "execution_count": null,
   "metadata": {},
   "outputs": [],
   "source": [
    "#master_df['total_score'] = master_df['pn_score_Toko_offset'] + master_df['pn_score_meisi'] + master_df['pn_score_yogen']"
   ]
  },
  {
   "cell_type": "markdown",
   "metadata": {},
   "source": [
    "# マスター表"
   ]
  },
  {
   "cell_type": "code",
   "execution_count": null,
   "metadata": {},
   "outputs": [],
   "source": [
    "master_df"
   ]
  },
  {
   "cell_type": "code",
   "execution_count": null,
   "metadata": {},
   "outputs": [],
   "source": [
    "master_df.describe()"
   ]
  },
  {
   "cell_type": "code",
   "execution_count": null,
   "metadata": {},
   "outputs": [],
   "source": [
    "sns.distplot(master_df['pn_score_Toko'], bins=100)"
   ]
  },
  {
   "cell_type": "code",
   "execution_count": null,
   "metadata": {},
   "outputs": [],
   "source": [
    "sns.distplot(master_df['pn_score_Toko_offset'], bins=100)"
   ]
  },
  {
   "cell_type": "code",
   "execution_count": null,
   "metadata": {},
   "outputs": [],
   "source": [
    "sns.distplot(master_df['pn_score_meisi'], bins=100)"
   ]
  },
  {
   "cell_type": "code",
   "execution_count": null,
   "metadata": {},
   "outputs": [],
   "source": [
    "sns.distplot(master_df['pn_score_yogen'], bins=100)"
   ]
  },
  {
   "cell_type": "code",
   "execution_count": null,
   "metadata": {},
   "outputs": [],
   "source": [
    "sns.distplot(master_df['wt_avg_score'], bins=100)"
   ]
  },
  {
   "cell_type": "markdown",
   "metadata": {},
   "source": [
    "# のスコア"
   ]
  },
  {
   "cell_type": "code",
   "execution_count": null,
   "metadata": {
    "scrolled": true
   },
   "outputs": [],
   "source": [
    "master_df[master_df.customer_name == \"\"].plot(x='created_at', y='pn_score_Toko', figsize=(10,4), linestyle='--', marker='o')"
   ]
  },
  {
   "cell_type": "code",
   "execution_count": null,
   "metadata": {},
   "outputs": [],
   "source": [
    "sns.pointplot(x='created_at', y='pn_score_meisi', data=master_df[master_df.freq_of_app > 90],\n",
    "              hue='customer_name', markers='', line=1, alpha=0.5,\n",
    "             subplots=True)"
   ]
  },
  {
   "cell_type": "code",
   "execution_count": null,
   "metadata": {},
   "outputs": [],
   "source": [
    "master_df.query('freq_of_app > 90').plot(subplots=True, x='created_at', y='pn_score_Toko', legend=True, figsize=(10,4))"
   ]
  },
  {
   "cell_type": "markdown",
   "metadata": {},
   "source": [
    "# スコアの推移"
   ]
  },
  {
   "cell_type": "code",
   "execution_count": null,
   "metadata": {},
   "outputs": [],
   "source": [
    "companys = [\"\", \"\", ]\n",
    "#temp_df = master_df[(master_df.customer_name == companys[0])].sort_values('created_at').reset_index(drop=True)\n",
    "cols = ['created_at', 'wt_avg_score','customer_name', 'total_history']\n",
    "temp2_df = pd.DataFrame(index=[], columns=cols)\n",
    "for company in companys:\n",
    "    total_history = []\n",
    "    total = 0\n",
    "    temp_df = master_df[(master_df.customer_name == company)][['created_at', 'wt_avg_score', 'customer_name']].sort_values('created_at').reset_index(drop=True)\n",
    "    for i in range(len(master_df[master_df.customer_name == company])):\n",
    "        total += temp_df['wt_avg_score'].reset_index(drop=True )[i]\n",
    "        total_history.append(total)\n",
    "    temp_df['total_history'] = total_history\n",
    "    temp2_df = pd.concat([temp2_df, temp_df], ignore_index=True)"
   ]
  },
  {
   "cell_type": "code",
   "execution_count": null,
   "metadata": {},
   "outputs": [],
   "source": [
    "temp_df"
   ]
  },
  {
   "cell_type": "code",
   "execution_count": null,
   "metadata": {},
   "outputs": [],
   "source": [
    "temp2_df.groupby('customer_name').plot(x='created_at', y='total_history',figsize=(10, 4))"
   ]
  },
  {
   "cell_type": "code",
   "execution_count": null,
   "metadata": {},
   "outputs": [],
   "source": [
    "temp_df.plot(x='created_at', y=['total_history', 'wt_avg_score'], figsize=(10,4), linestyle='--', marker='o')"
   ]
  },
  {
   "cell_type": "code",
   "execution_count": null,
   "metadata": {},
   "outputs": [],
   "source": []
  },
  {
   "cell_type": "code",
   "execution_count": null,
   "metadata": {},
   "outputs": [],
   "source": [
    "company_name = '' #部分一致可能"
   ]
  },
  {
   "cell_type": "code",
   "execution_count": null,
   "metadata": {},
   "outputs": [],
   "source": [
    "total_history = []\n",
    "total = 0\n",
    "for i in range(len(master_df[master_df.customer_name == \"\"])):\n",
    "    total += master_df[master_df.customer_name == \"\"]['wt_avg_score'].reset_index(drop=True )[i]\n",
    "    total_history.append(total)\n",
    "X = np.arange(len(total_history))\n",
    "plt.plot(X, total_history)"
   ]
  },
  {
   "cell_type": "code",
   "execution_count": null,
   "metadata": {},
   "outputs": [],
   "source": [
    "master_df[master_df['customer_name'].str.contains(company_name, na=False)]"
   ]
  },
  {
   "cell_type": "code",
   "execution_count": null,
   "metadata": {},
   "outputs": [],
   "source": [
    "def plot_totalhistory(customer_name):\n",
    "    total_history = []\n",
    "    total = 0\n",
    "    for i in range(len(master_df[master_df.customer_name == customer_name])):\n",
    "        total += master_df[master_df.customer_name == customer_name]['wt_avg_score'].reset_index(drop=True )[i]\n",
    "        total_history.append(total)\n",
    "    temp_df = master_df[(master_df.customer_name == customer_name)].sort_values('created_at').reset_index(drop=True)\n",
    "    temp_df['total_history'] = total_history\n",
    "    temp_df.plot(x='created_at', y=['total_history', 'wt_avg_score'], figsize=(10,4), linestyle='--', marker='o')"
   ]
  },
  {
   "cell_type": "code",
   "execution_count": null,
   "metadata": {},
   "outputs": [],
   "source": [
    "plot_totalhistory(company_name)"
   ]
  },
  {
   "cell_type": "markdown",
   "metadata": {},
   "source": [
    "# テキスト、スコアチェック"
   ]
  },
  {
   "cell_type": "code",
   "execution_count": null,
   "metadata": {},
   "outputs": [],
   "source": [
    "master_df"
   ]
  },
  {
   "cell_type": "code",
   "execution_count": null,
   "metadata": {},
   "outputs": [],
   "source": [
    "number = 340 #master_dfのindexを入力してshift + enter"
   ]
  },
  {
   "cell_type": "code",
   "execution_count": null,
   "metadata": {},
   "outputs": [],
   "source": [
    "master_df['analysis_text'][number]"
   ]
  },
  {
   "cell_type": "code",
   "execution_count": null,
   "metadata": {},
   "outputs": [],
   "source": [
    "print([token.base_form for token in analyzer.analyze(formated_customer_df['analysis_text'][number])])"
   ]
  },
  {
   "cell_type": "code",
   "execution_count": null,
   "metadata": {},
   "outputs": [],
   "source": [
    "print(pn_scores_Toko_dic[number])"
   ]
  },
  {
   "cell_type": "code",
   "execution_count": null,
   "metadata": {},
   "outputs": [],
   "source": [
    "print(pn_scores_meisi_dic[number])"
   ]
  },
  {
   "cell_type": "code",
   "execution_count": null,
   "metadata": {},
   "outputs": [],
   "source": [
    "print(pn_scores_yogen_dic[number])"
   ]
  },
  {
   "cell_type": "markdown",
   "metadata": {
    "scrolled": true
   },
   "source": [
    "dic = pn_scores_Toko_dic[number].copy() #実際に計算ではオフセットを加えてスコア付けしている\n",
    "keys = list(pn_scores_Toko_dic[number].keys())\n",
    "values = list(map(lambda x: x+offset_score, pn_scores_Toko_dic[number].values()))\n",
    "dic.update(zip(keys, values))"
   ]
  },
  {
   "cell_type": "code",
   "execution_count": null,
   "metadata": {},
   "outputs": [],
   "source": [
    "master_df[master_df['report_definition_name'].str.endswith('')]"
   ]
  },
  {
   "cell_type": "code",
   "execution_count": null,
   "metadata": {},
   "outputs": [],
   "source": [
    "master_df.to_csv(\".csv\")"
   ]
  }
 ],
 "metadata": {
  "kernelspec": {
   "display_name": "Python 3",
   "language": "python",
   "name": "python3"
  },
  "language_info": {
   "codemirror_mode": {
    "name": "ipython",
    "version": 3
   },
   "file_extension": ".py",
   "mimetype": "text/x-python",
   "name": "python",
   "nbconvert_exporter": "python",
   "pygments_lexer": "ipython3",
   "version": "3.6.5"
  },
  "toc": {
   "base_numbering": 1,
   "nav_menu": {},
   "number_sections": true,
   "sideBar": true,
   "skip_h1_title": false,
   "title_cell": "Table of Contents",
   "title_sidebar": "Contents",
   "toc_cell": false,
   "toc_position": {
    "height": "calc(100% - 180px)",
    "left": "10px",
    "top": "150px",
    "width": "218.391px"
   },
   "toc_section_display": true,
   "toc_window_display": true
  }
 },
 "nbformat": 4,
 "nbformat_minor": 2
}
