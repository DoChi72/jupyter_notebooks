{
 "cells": [
  {
   "cell_type": "code",
   "execution_count": 1,
   "metadata": {},
   "outputs": [],
   "source": [
    "import numpy as np\n",
    "import matplotlib.pyplot as plt\n",
    "%matplotlib inline\n",
    "\n",
    "from tqdm import tqdm"
   ]
  },
  {
   "cell_type": "code",
   "execution_count": 2,
   "metadata": {},
   "outputs": [],
   "source": [
    "from PIL import Image, ImageDraw, ImageOps"
   ]
  },
  {
   "cell_type": "code",
   "execution_count": 3,
   "metadata": {},
   "outputs": [],
   "source": [
    "def circle(radius):\n",
    "    # init vars\n",
    "    switch = 3 - (2 * radius)\n",
    "    points = []\n",
    "    x = 0\n",
    "    y = radius\n",
    "    # first quarter/octant starts clockwise at 12 o'clock\n",
    "    while x <= y:\n",
    "        # first quarter first octant\n",
    "        points.append([x,-y])\n",
    "        # first quarter 2nd octant\n",
    "        points.append([y,-x])\n",
    "        # second quarter 3rd octant\n",
    "        points.append([y,x])\n",
    "        # second quarter 4.octant\n",
    "        points.append([x,y])\n",
    "        # third quarter 5.octant\n",
    "        points.append([-x,y])        \n",
    "        # third quarter 6.octant\n",
    "        points.append([-y,x])\n",
    "        # fourth quarter 7.octant\n",
    "        points.append([-y,-x])\n",
    "        # fourth quarter 8.octant\n",
    "        points.append([-x,-y])\n",
    "        if switch < 0:\n",
    "            switch = switch + (4 * x) + 6\n",
    "        else:\n",
    "            switch = switch + (4 * (x - y)) + 10\n",
    "            y = y - 1\n",
    "        x = x + 1\n",
    "    return points"
   ]
  },
  {
   "cell_type": "code",
   "execution_count": 4,
   "metadata": {},
   "outputs": [],
   "source": [
    "def rotate(l, n):\n",
    "    return l[n:] + l[:n]"
   ]
  },
  {
   "cell_type": "code",
   "execution_count": 5,
   "metadata": {},
   "outputs": [],
   "source": [
    "def expand2square(pil_img, background_color):\n",
    "    width, height = pil_img.size\n",
    "    if width == height:\n",
    "        return pil_img\n",
    "    elif width > height:\n",
    "        result = Image.new(pil_img.mode, (width, width), background_color)\n",
    "        result.paste(pil_img, (0, (width - height) // 2))\n",
    "        return result\n",
    "    else:\n",
    "        result = Image.new(pil_img.mode, (height, height), background_color)\n",
    "        result.paste(pil_img, ((height - width) // 2, 0))\n",
    "        return result"
   ]
  },
  {
   "cell_type": "code",
   "execution_count": 6,
   "metadata": {},
   "outputs": [],
   "source": [
    "def dissimilarity_check(a, b):\n",
    "    dissimilarity = []\n",
    "    for i in range(len(a)):\n",
    "        dissimilarity.append((format(a[i]^b[i], 'b').count('1')/len(format(a[i], 'b'))))\n",
    "    \n",
    "    return sum(dissimilarity)/len(dissimilarity)"
   ]
  },
  {
   "cell_type": "code",
   "execution_count": 7,
   "metadata": {},
   "outputs": [],
   "source": [
    "def pre_cHash(image, size = 256, ring_range=None):\n",
    "    \n",
    "    #圧縮サイズ\n",
    "    image = image.resize((size, size), Image.LANCZOS)\n",
    "    #image = expand2square(image, (0, 0, 0)).resize((size, size), Image.LANCZOS)\n",
    "    \n",
    "    \n",
    "    #グレイスケール化\n",
    "    gray_image = image.convert('L')\n",
    "    gray_array = np.asarray(gray_image)\n",
    "    \n",
    "    \n",
    "    #指定したサイズのBresenham中実円の座標を得る\n",
    "    radius = len(gray_array)//2 #radius = image//2\n",
    "    if ring_range == None:\n",
    "        ring_range=range(radius)\n",
    "    \n",
    "    p = []\n",
    "    for i in range(radius): \n",
    "        p.append(circle(i)) #画像の中心を(0,0)とした座標を得る\n",
    "    \n",
    "    \n",
    "    #重複を消して座標を左上を(0,0)に合わせる\n",
    "    coords = []\n",
    "    for i in range(len(p)):\n",
    "        coords.append(np.asarray(list(map(list, set(map(tuple, p[i])))))-size//2)\n",
    "    \n",
    "    \n",
    "    #Bresenham円の座標に合わせて画像からグレー値を得る\n",
    "    a = []\n",
    "    for i in range(len(coords)):\n",
    "        temp = []\n",
    "        pad_width = (0, len(max(coords, key=len))-len(coords[i]))\n",
    "        for j in range(len(coords[i])):\n",
    "            x, y = zip(coords[i][j])\n",
    "            temp.append(gray_array[x,y])\n",
    "        a.append(np.asarray(temp))\n",
    "    \n",
    "    \n",
    "    #円の半径毎にグレー値の平均値を出し、平均値より上か下かで1,0を割り振る\n",
    "    b = []\n",
    "    for i in range(len(a)) :\n",
    "        temp = []\n",
    "        for j in range(len(a[i])) :\n",
    "            if a[i][j] >= a[i].sum()/len(a[i]):\n",
    "                temp.append(1)\n",
    "            else:\n",
    "                temp.append(0)\n",
    "        b.append(temp)\n",
    "    \n",
    "    #自己相関係数を求める\n",
    "    c=[]\n",
    "    for i in tqdm(range(109,120)):\n",
    "        match_number = 0\n",
    "        for j in range(len(b[i])):\n",
    "            match_number += np.sum(np.logical_xor(b[i], rotate(b[i],j)) == False)#/len(b[i])\n",
    "            #adam = ''.join(b[i])\n",
    "            #eve = ''.join(rotate(b[i],j))\n",
    "            #match_number += format(adam^''.join(rotate(b[i],j)), 'b').count('0')\n",
    "        c.append(match_number)#/len(b[i]))\n",
    "    \n",
    "    return c"
   ]
  },
  {
   "cell_type": "code",
   "execution_count": 8,
   "metadata": {},
   "outputs": [
    {
     "name": "stderr",
     "output_type": "stream",
     "text": [
      "100%|██████████| 11/11 [00:00<00:00, 11.89it/s]"
     ]
    },
    {
     "name": "stdout",
     "output_type": "stream",
     "text": [
      "CPU times: user 1.8 s, sys: 36.3 ms, total: 1.84 s\n",
      "Wall time: 1.87 s\n"
     ]
    },
    {
     "name": "stderr",
     "output_type": "stream",
     "text": [
      "\n"
     ]
    }
   ],
   "source": [
    "%%time\n",
    "lena = Image.open(r'data/DWT_lenna.png') #pillowの画像読み込み\n",
    "a = pre_cHash(lena)"
   ]
  },
  {
   "cell_type": "code",
   "execution_count": 9,
   "metadata": {},
   "outputs": [
    {
     "name": "stderr",
     "output_type": "stream",
     "text": [
      "100%|██████████| 11/11 [00:00<00:00, 10.71it/s]\n"
     ]
    }
   ],
   "source": [
    "lena_left = Image.open(r'data/lena_left.png')\n",
    "b =  pre_cHash(lena_left)"
   ]
  },
  {
   "cell_type": "code",
   "execution_count": 10,
   "metadata": {},
   "outputs": [
    {
     "name": "stderr",
     "output_type": "stream",
     "text": [
      "100%|██████████| 11/11 [00:01<00:00,  8.85it/s]\n"
     ]
    }
   ],
   "source": [
    "barbara = Image.open(r'data/Barbara.jpg')\n",
    "c =  pre_cHash(barbara)"
   ]
  },
  {
   "cell_type": "code",
   "execution_count": 11,
   "metadata": {},
   "outputs": [
    {
     "name": "stderr",
     "output_type": "stream",
     "text": [
      "100%|██████████| 11/11 [00:00<00:00, 11.91it/s]\n"
     ]
    }
   ],
   "source": [
    "lenna2 = Image.open('./data/DWT_lenna2.jpg')\n",
    "d = pre_cHash(lenna2)"
   ]
  },
  {
   "cell_type": "code",
   "execution_count": 12,
   "metadata": {},
   "outputs": [
    {
     "name": "stderr",
     "output_type": "stream",
     "text": [
      "100%|██████████| 11/11 [00:00<00:00, 11.14it/s]\n"
     ]
    }
   ],
   "source": [
    "lenna_DWT = Image.open('./data/DWT_lenna1.jpg')\n",
    "e = pre_cHash(lenna_DWT)"
   ]
  },
  {
   "cell_type": "code",
   "execution_count": 13,
   "metadata": {},
   "outputs": [
    {
     "name": "stderr",
     "output_type": "stream",
     "text": [
      "100%|██████████| 11/11 [00:00<00:00, 12.21it/s]\n"
     ]
    }
   ],
   "source": [
    "mandrill = Image.open('./data/color/Mandrill.bmp')\n",
    "f = pre_cHash(mandrill)"
   ]
  },
  {
   "cell_type": "code",
   "execution_count": 14,
   "metadata": {},
   "outputs": [
    {
     "name": "stderr",
     "output_type": "stream",
     "text": [
      "100%|██████████| 11/11 [00:00<00:00, 12.26it/s]\n"
     ]
    }
   ],
   "source": [
    "lena_mirror = Image.open('./data/lenna_mirror.jpg')\n",
    "g = pre_cHash(lena_mirror)"
   ]
  },
  {
   "cell_type": "code",
   "execution_count": 15,
   "metadata": {},
   "outputs": [
    {
     "name": "stderr",
     "output_type": "stream",
     "text": [
      "100%|██████████| 11/11 [00:00<00:00, 12.33it/s]\n"
     ]
    }
   ],
   "source": [
    "parrots = Image.open('./data/color/Parrots.bmp')\n",
    "h = pre_cHash(parrots)"
   ]
  },
  {
   "cell_type": "code",
   "execution_count": 16,
   "metadata": {},
   "outputs": [
    {
     "name": "stdout",
     "output_type": "stream",
     "text": [
      "9120\n",
      "269046\n"
     ]
    }
   ],
   "source": [
    "print(sum(np.abs(np.asarray(a)-np.asarray(b))))\n",
    "#print(sum(np.abs(np.asarray(a)-np.asarray(c))))\n",
    "#print(sum(np.abs(np.asarray(a)-np.asarray(e))))\n",
    "#print(sum(np.abs(np.asarray(a)-np.asarray(d))))\n",
    "#print(sum(np.abs(np.asarray(a)-np.asarray(g))))\n",
    "#print(sum(np.abs(np.asarray(a)-np.asarray(f))))\n",
    "#print(sum(np.abs(np.asarray(a)-np.asarray(f))))\n",
    "print(sum(np.abs(np.asarray(a)-np.asarray(h))))"
   ]
  },
  {
   "cell_type": "markdown",
   "metadata": {},
   "source": [
    "# lenna vs. lena_left"
   ]
  },
  {
   "cell_type": "markdown",
   "metadata": {},
   "source": [
    "hamming = []\n",
    "for i in range(len(a)):\n",
    "    hamming.append((format(a[i]^b[i], 'b').count('1'))/len(format(a[i], 'b')))"
   ]
  },
  {
   "cell_type": "code",
   "execution_count": 17,
   "metadata": {},
   "outputs": [
    {
     "data": {
      "text/plain": [
       "array([ 264, 1248, 1152,  450,  896,  336,  846, 1802,  318,  704, 1104])"
      ]
     },
     "execution_count": 17,
     "metadata": {},
     "output_type": "execute_result"
    }
   ],
   "source": [
    "np.abs(np.asarray(a)-np.asarray(b))"
   ]
  },
  {
   "cell_type": "code",
   "execution_count": 18,
   "metadata": {},
   "outputs": [
    {
     "data": {
      "text/plain": [
       "9120"
      ]
     },
     "execution_count": 18,
     "metadata": {},
     "output_type": "execute_result"
    }
   ],
   "source": [
    "sum(np.abs(np.asarray(a)-np.asarray(b)))"
   ]
  },
  {
   "cell_type": "code",
   "execution_count": 19,
   "metadata": {},
   "outputs": [
    {
     "data": {
      "text/plain": [
       "0.24747474747474743"
      ]
     },
     "execution_count": 19,
     "metadata": {},
     "output_type": "execute_result"
    }
   ],
   "source": [
    "dissimilarity_check(a,b)"
   ]
  },
  {
   "cell_type": "markdown",
   "metadata": {},
   "source": [
    "# lenna vs. barbara"
   ]
  },
  {
   "cell_type": "code",
   "execution_count": 20,
   "metadata": {},
   "outputs": [
    {
     "name": "stdout",
     "output_type": "stream",
     "text": [
      "[192040, 198386, 200392, 202754, 205952, 208090, 214120, 217618, 219368, 224464, 227474]\n"
     ]
    }
   ],
   "source": [
    "print(b)"
   ]
  },
  {
   "cell_type": "code",
   "execution_count": 21,
   "metadata": {
    "scrolled": true
   },
   "outputs": [
    {
     "data": {
      "text/plain": [
       "array([1326, 1200, 1650, 1458, 1152,  720,  594,  406,  368,   70,  390])"
      ]
     },
     "execution_count": 21,
     "metadata": {},
     "output_type": "execute_result"
    }
   ],
   "source": [
    "np.abs(np.asarray(a)-np.asarray(c))"
   ]
  },
  {
   "cell_type": "code",
   "execution_count": 22,
   "metadata": {},
   "outputs": [
    {
     "data": {
      "text/plain": [
       "9334"
      ]
     },
     "execution_count": 22,
     "metadata": {},
     "output_type": "execute_result"
    }
   ],
   "source": [
    "sum(np.abs(np.asarray(a)-np.asarray(c)))"
   ]
  },
  {
   "cell_type": "code",
   "execution_count": 23,
   "metadata": {},
   "outputs": [
    {
     "data": {
      "text/plain": [
       "0.3585858585858586"
      ]
     },
     "execution_count": 23,
     "metadata": {},
     "output_type": "execute_result"
    }
   ],
   "source": [
    "dissimilarity_check(a, c)"
   ]
  },
  {
   "cell_type": "markdown",
   "metadata": {},
   "source": [
    "# lenna vs. lenna1"
   ]
  },
  {
   "cell_type": "code",
   "execution_count": 24,
   "metadata": {
    "scrolled": true
   },
   "outputs": [
    {
     "data": {
      "text/plain": [
       "array([366, 650, 990, 414,   0, 336, 272, 234, 738,  74, 546])"
      ]
     },
     "execution_count": 24,
     "metadata": {},
     "output_type": "execute_result"
    }
   ],
   "source": [
    "np.abs(np.asarray(a)-np.asarray(e))"
   ]
  },
  {
   "cell_type": "code",
   "execution_count": 25,
   "metadata": {},
   "outputs": [
    {
     "data": {
      "text/plain": [
       "4620"
      ]
     },
     "execution_count": 25,
     "metadata": {},
     "output_type": "execute_result"
    }
   ],
   "source": [
    "sum(np.abs(np.asarray(a)-np.asarray(e)))"
   ]
  },
  {
   "cell_type": "code",
   "execution_count": 26,
   "metadata": {},
   "outputs": [
    {
     "data": {
      "text/plain": [
       "0.2626262626262626"
      ]
     },
     "execution_count": 26,
     "metadata": {},
     "output_type": "execute_result"
    }
   ],
   "source": [
    "dissimilarity_check(a ,e)"
   ]
  },
  {
   "cell_type": "markdown",
   "metadata": {},
   "source": [
    "# lenna vs. lenna2"
   ]
  },
  {
   "cell_type": "code",
   "execution_count": 27,
   "metadata": {},
   "outputs": [
    {
     "data": {
      "text/plain": [
       "array([1152,  592, 1480, 1280, 1650, 1534,  846,  920,  858,  198,  290])"
      ]
     },
     "execution_count": 27,
     "metadata": {},
     "output_type": "execute_result"
    }
   ],
   "source": [
    "np.abs(np.asarray(a)-np.asarray(d))"
   ]
  },
  {
   "cell_type": "code",
   "execution_count": 28,
   "metadata": {},
   "outputs": [
    {
     "data": {
      "text/plain": [
       "10800"
      ]
     },
     "execution_count": 28,
     "metadata": {},
     "output_type": "execute_result"
    }
   ],
   "source": [
    "sum(np.abs(np.asarray(a)-np.asarray(d)))"
   ]
  },
  {
   "cell_type": "code",
   "execution_count": 29,
   "metadata": {},
   "outputs": [
    {
     "data": {
      "text/plain": [
       "0.29797979797979796"
      ]
     },
     "execution_count": 29,
     "metadata": {},
     "output_type": "execute_result"
    }
   ],
   "source": [
    "dissimilarity_check(a, d)"
   ]
  },
  {
   "cell_type": "markdown",
   "metadata": {},
   "source": [
    "# lenna vs. mandrill"
   ]
  },
  {
   "cell_type": "code",
   "execution_count": 30,
   "metadata": {},
   "outputs": [
    {
     "data": {
      "text/plain": [
       "array([1326, 2162, 1536, 2430, 1998,  986,  384,  320, 1088,  704,   66])"
      ]
     },
     "execution_count": 30,
     "metadata": {},
     "output_type": "execute_result"
    }
   ],
   "source": [
    "np.abs(np.asarray(a)-np.asarray(f))"
   ]
  },
  {
   "cell_type": "code",
   "execution_count": 31,
   "metadata": {
    "scrolled": true
   },
   "outputs": [
    {
     "data": {
      "text/plain": [
       "13000"
      ]
     },
     "execution_count": 31,
     "metadata": {},
     "output_type": "execute_result"
    }
   ],
   "source": [
    "sum(np.abs(np.asarray(a)-np.asarray(f)))"
   ]
  },
  {
   "cell_type": "code",
   "execution_count": 32,
   "metadata": {},
   "outputs": [
    {
     "data": {
      "text/plain": [
       "0.2828282828282829"
      ]
     },
     "execution_count": 32,
     "metadata": {},
     "output_type": "execute_result"
    }
   ],
   "source": [
    "dissimilarity_check(a, f)"
   ]
  },
  {
   "cell_type": "markdown",
   "metadata": {},
   "source": [
    "# lenna vs. mirror"
   ]
  },
  {
   "cell_type": "code",
   "execution_count": 33,
   "metadata": {},
   "outputs": [
    {
     "data": {
      "text/plain": [
       "array([ 264, 1248, 1314,    0,  798,    0, 1078, 2394,  208,  504, 1104])"
      ]
     },
     "execution_count": 33,
     "metadata": {},
     "output_type": "execute_result"
    }
   ],
   "source": [
    "np.abs(np.asarray(a)-np.asarray(g))"
   ]
  },
  {
   "cell_type": "code",
   "execution_count": 34,
   "metadata": {},
   "outputs": [
    {
     "data": {
      "text/plain": [
       "8912"
      ]
     },
     "execution_count": 34,
     "metadata": {},
     "output_type": "execute_result"
    }
   ],
   "source": [
    "sum(np.abs(np.asarray(a)-np.asarray(g)))"
   ]
  },
  {
   "cell_type": "code",
   "execution_count": 35,
   "metadata": {},
   "outputs": [
    {
     "data": {
      "text/plain": [
       "0.2323232323232323"
      ]
     },
     "execution_count": 35,
     "metadata": {},
     "output_type": "execute_result"
    }
   ],
   "source": [
    "dissimilarity_check(a,g)"
   ]
  }
 ],
 "metadata": {
  "kernelspec": {
   "display_name": "Python 3",
   "language": "python",
   "name": "python3"
  },
  "language_info": {
   "codemirror_mode": {
    "name": "ipython",
    "version": 3
   },
   "file_extension": ".py",
   "mimetype": "text/x-python",
   "name": "python",
   "nbconvert_exporter": "python",
   "pygments_lexer": "ipython3",
   "version": "3.7.1"
  },
  "toc": {
   "base_numbering": 1,
   "nav_menu": {},
   "number_sections": true,
   "sideBar": true,
   "skip_h1_title": false,
   "title_cell": "Table of Contents",
   "title_sidebar": "Contents",
   "toc_cell": false,
   "toc_position": {},
   "toc_section_display": true,
   "toc_window_display": false
  }
 },
 "nbformat": 4,
 "nbformat_minor": 2
}
