{
 "cells": [
  {
   "cell_type": "code",
   "execution_count": 5,
   "metadata": {},
   "outputs": [
    {
     "data": {
      "text/html": [
       "<link rel=\"stylesheet\" type=\"text/css\" href=\"pHash.css\">\n"
      ],
      "text/plain": [
       "<IPython.core.display.HTML object>"
      ]
     },
     "metadata": {},
     "output_type": "display_data"
    }
   ],
   "source": [
    "%%HTML\n",
    "<link rel=\"stylesheet\" type=\"text/css\" href=\"pHash.css\">"
   ]
  },
  {
   "cell_type": "markdown",
   "metadata": {
    "slideshow": {
     "slide_type": "slide"
    }
   },
   "source": [
    "<br />\n",
    "\n",
    "\n",
    "<br />\n",
    "<div style=\"text-align: right;\">\n",
    "<font size=\"4\">山口翔太</font>\n",
    "</div>\n",
    "\n",
    "<br />"
   ]
  },
  {
   "cell_type": "markdown",
   "metadata": {
    "slideshow": {
     "slide_type": "slide"
    }
   },
   "source": [
    "# pHashの概要"
   ]
  },
  {
   "cell_type": "markdown",
   "metadata": {
    "slideshow": {
     "slide_type": "fragment"
    }
   },
   "source": [
    "　pHashは知覚ハッシュアルゴリズムのひとつで暗号化ハッシュアルゴリズムとは用途が異なる。  \n",
    "　SHA1などに代表される暗号化ハッシュはデータをシード値のように扱うランダムな値である。異なるデータの場合は異なる値になる。暗号化ハッシュアルゴリズムはハッシュ衝突の場合を除いて、同じハッシュ値の場合にデータが同一であることが確かめられるものである。  \n",
    "　一方で、知覚ハッシュは異なるデータであっても類似するデータであればハッシュ値も類似性を持つ値を生成するアルゴリズムであり。知覚ハッシュの値を比較することで元のデータが似ているかを確かめることができる。  \n",
    "　pHashは知覚ハッシュアルゴリズムの中で画像での類似性を探すことに長けており、小さな画像の変化に対してよく許容し、元の画像にテキストを入れた画像などに対してもハッシュ値が類似性を示し、探し出すなどが可能である。"
   ]
  },
  {
   "cell_type": "markdown",
   "metadata": {
    "slideshow": {
     "slide_type": "slide"
    }
   },
   "source": [
    "# pHashのアルゴリズム"
   ]
  },
  {
   "cell_type": "markdown",
   "metadata": {
    "slideshow": {
     "slide_type": "fragment"
    }
   },
   "source": [
    "* <b>画像のサイズを小さくする</b> 画像を32x32のサイズに縮小する。\n",
    "* <b>色を減らす</b> 画像をグレースケール化する。\n",
    "* <b>画像を離散コサイン変換する</b> 32x32の画像を離散コサイン変換する。\n",
    "* <b>離散コサイン変換の低周波部分を抜き出す</b> 離散コサイン変換を行った結果で左上8x8ブロックの変換係数のみを取り出す。\n",
    "* <b>抜き出した低周波部分の変換係数を２値化する</b> 低周波成分（左上8x8）の変換係数の平均を上回るか下回るかに応じ、１か０を設定する。\n",
    "* <b>２値化した変換係数でハッシュ値を作る</b> 64bitあるので16進数に変換すると16桁のハッシュ値にとなる。"
   ]
  },
  {
   "cell_type": "markdown",
   "metadata": {
    "slideshow": {
     "slide_type": "slide"
    }
   },
   "source": [
    "# 今後の勉強方針"
   ]
  },
  {
   "cell_type": "markdown",
   "metadata": {
    "slideshow": {
     "slide_type": "fragment"
    }
   },
   "source": [
    "　pHashのアルゴリズムの中で離散コサイン変換（DCT）が出てきたが、上記のアルゴリズムを理解する上で、DCTついての理解が必須であった。例などで出てくるJPEG圧縮方式の解説と混同してしまい大変あったので（変換係数の要素数など）、ピュアなDCTをしっかりを学習したい。"
   ]
  }
 ],
 "metadata": {
  "celltoolbar": "Slideshow",
  "kernelspec": {
   "display_name": "Python 3",
   "language": "python",
   "name": "python3"
  },
  "language_info": {
   "codemirror_mode": {
    "name": "ipython",
    "version": 3
   },
   "file_extension": ".py",
   "mimetype": "text/x-python",
   "name": "python",
   "nbconvert_exporter": "python",
   "pygments_lexer": "ipython3",
   "version": "3.7.1"
  },
  "toc": {
   "base_numbering": 1,
   "nav_menu": {},
   "number_sections": true,
   "sideBar": true,
   "skip_h1_title": false,
   "title_cell": "Table of Contents",
   "title_sidebar": "Contents",
   "toc_cell": false,
   "toc_position": {},
   "toc_section_display": true,
   "toc_window_display": false
  }
 },
 "nbformat": 4,
 "nbformat_minor": 2
}
