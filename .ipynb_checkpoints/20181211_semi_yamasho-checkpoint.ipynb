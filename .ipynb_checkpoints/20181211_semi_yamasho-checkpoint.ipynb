{
 "cells": [
  {
   "cell_type": "markdown",
   "metadata": {},
   "source": [
    "<br />\n",
    "\n",
    "<div style=\"text-align: center;\">\n",
    "<font size=\"8\">20181211_semi_yamasho</font>\n",
    "</div>\n",
    "<br />\n",
    "<div style=\"text-align: right;\">\n",
    "<font size=\"4\">山口翔太</font>\n",
    "</div>\n",
    "\n",
    "<br />"
   ]
  },
  {
   "cell_type": "markdown",
   "metadata": {},
   "source": [
    "# 完了していること\n",
    "* 画像ハッシュ生成のpythonライブラリImageHashのサンプルを実行 \n",
    "* pHashについての学習\n",
    "* 離散コサイン変換で行っていることの理解"
   ]
  },
  {
   "cell_type": "markdown",
   "metadata": {},
   "source": [
    "# 今していること\n",
    "* 離散コサイン変換（DCT）の勉強を継続中\n",
    " * 離散信号\n",
    " *  離散コサイン変換そのもの"
   ]
  },
  {
   "cell_type": "markdown",
   "metadata": {},
   "source": [
    "# 困っていること\n",
    "* 二次元に拡張した時の式の理解（やっていることはおおよそ理解）\n",
    " * http://www7b.biglobe.ne.jp/~yizawa/InfSys1/advanced/dct/index.htm\n",
    " * （簡単な数値で確かめれば良いことなのではないか。。。）"
   ]
  },
  {
   "cell_type": "markdown",
   "metadata": {},
   "source": [
    "# 聞きたいこと"
   ]
  },
  {
   "cell_type": "markdown",
   "metadata": {},
   "source": [
    "* 進める場合は予定を越しても良い"
   ]
  },
  {
   "cell_type": "markdown",
   "metadata": {},
   "source": [
    "# 考えていること\n",
    "* 知覚ハッシュのオリジナルを作ろうとしているんだなぁ。。。\n",
    " * DCTの途中ででる変換係数に注目していく？（高周波と低周波が明確に別れるのはここ）"
   ]
  }
 ],
 "metadata": {
  "kernelspec": {
   "display_name": "Python 3",
   "language": "python",
   "name": "python3"
  },
  "language_info": {
   "codemirror_mode": {
    "name": "ipython",
    "version": 3
   },
   "file_extension": ".py",
   "mimetype": "text/x-python",
   "name": "python",
   "nbconvert_exporter": "python",
   "pygments_lexer": "ipython3",
   "version": "3.7.1"
  },
  "toc": {
   "base_numbering": 1,
   "nav_menu": {},
   "number_sections": false,
   "sideBar": true,
   "skip_h1_title": false,
   "title_cell": "Table of Contents",
   "title_sidebar": "Contents",
   "toc_cell": false,
   "toc_position": {},
   "toc_section_display": true,
   "toc_window_display": false
  }
 },
 "nbformat": 4,
 "nbformat_minor": 2
}
