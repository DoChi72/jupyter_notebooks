{
 "cells": [
  {
   "cell_type": "code",
   "execution_count": 1,
   "metadata": {},
   "outputs": [],
   "source": [
    "import PIL.Image, PIL.ImageDraw\n",
    "import matplotlib.pyplot as plt\n",
    "%matplotlib inline"
   ]
  },
  {
   "cell_type": "markdown",
   "metadata": {},
   "source": [
    "def Double_circle(radius):\n",
    "    # init vars\n",
    "    switch = 3 - (2 * radius)\n",
    "    points = []\n",
    "    x = 0\n",
    "    y = radius\n",
    "    # first quarter/octant starts clockwise at 12 o'clock\n",
    "    while x <= y:\n",
    "        # first quarter first octant\n",
    "        points.append([x,-y])\n",
    "        points.append([x+1,-y-1])\n",
    "        # first quarter 2nd octant\n",
    "        points.append([y,-x])\n",
    "        points.append([y+1,-x-1])\n",
    "        # second quarter 3rd octant\n",
    "        points.append([y,x])\n",
    "        points.append([y+1,x+1])\n",
    "        # second quarter 4.octant\n",
    "        points.append([x,y])\n",
    "        points.append([x+1,y+1])\n",
    "        # third quarter 5.octant\n",
    "        points.append([-x,y])        \n",
    "        points.append([-x-1,y+1])\n",
    "        # third quarter 6.octant\n",
    "        points.append([-y,x])\n",
    "        points.append([-y-1,x+1])\n",
    "        # fourth quarter 7.octant\n",
    "        points.append([-y,-x])\n",
    "        points.append([-y-1,-x-1])\n",
    "        # fourth quarter 8.octant\n",
    "        points.append([-x,-y])\n",
    "        points.append([-x-1,-y-1])\n",
    "        if switch < 0:\n",
    "            switch = switch + (4 * x) + 6\n",
    "        else:\n",
    "            switch = switch + (4 * (x - y)) + 10\n",
    "            y = y - 1\n",
    "        x = x + 1\n",
    "    return points"
   ]
  },
  {
   "cell_type": "code",
   "execution_count": 7,
   "metadata": {},
   "outputs": [],
   "source": [
    "def _circle(radius):\n",
    "    # init vars\n",
    "    radius\n",
    "    switch = 3 - (2 * radius)\n",
    "    points = []\n",
    "    x = 0\n",
    "    y = radius\n",
    "    # first quarter/octant starts clockwise at 12 o'clock\n",
    "    while x <= y:\n",
    "        # first quarter first octant\n",
    "        points.append([x+1,-y-1])\n",
    "        # first quarter 2nd octant\n",
    "        points.append([y+1,-x-1])\n",
    "        # second quarter 3rd octant\n",
    "        points.append([y+1,x+1])\n",
    "        # second quarter 4.octant\n",
    "        points.append([x+1,y+1])\n",
    "        # third quarter 5.octant\n",
    "        points.append([-x-1,y+1])\n",
    "        # third quarter 6.octant\n",
    "        points.append([-y-1,x+1])\n",
    "        # fourth quarter 7.octant\n",
    "        points.append([-y-1,-x-1])\n",
    "        # fourth quarter 8.octant\n",
    "        points.append([-x-1,-y-1])\n",
    "        if switch < 0:\n",
    "            switch = switch + (4 * x) + 6\n",
    "        else:\n",
    "            switch = switch + (4 * (x - y)) + 10\n",
    "            y = y - 1\n",
    "        x = x + 1\n",
    "    \n",
    "    # 円を一筆書きようにソートする\n",
    "    sorted=[]\n",
    "    for j in range(8):\n",
    "        if j % 2 != 0:\n",
    "            sorted.append(points[j-8::-8])\n",
    "        else:\n",
    "            sorted.append(points[j::8])\n",
    "\n",
    "    return sum(sorted, [])"
   ]
  },
  {
   "cell_type": "code",
   "execution_count": 3,
   "metadata": {},
   "outputs": [],
   "source": [
    "def circle(radius):\n",
    "    # init vars\n",
    "    switch = 3 - (2 * radius)\n",
    "    points = []\n",
    "    x = 0\n",
    "    y = radius\n",
    "    # first quarter/octant starts clockwise at 12 o'clock\n",
    "    while x <= y:\n",
    "        # first quarter first octant\n",
    "        points.append([x,-y])\n",
    "        # first quarter 2nd octant\n",
    "        points.append([y,-x])\n",
    "        # second quarter 3rd octant\n",
    "        points.append([y,x])\n",
    "        # second quarter 4.octant\n",
    "        points.append([x,y])\n",
    "        # third quarter 5.octant\n",
    "        points.append([-x,y])        \n",
    "        # third quarter 6.octant\n",
    "        points.append([-y,x])\n",
    "        # fourth quarter 7.octant\n",
    "        points.append([-y,-x])\n",
    "        # fourth quarter 8.octant\n",
    "        points.append([-x,-y])\n",
    "        if switch < 0:\n",
    "            switch = switch + (4 * x) + 6\n",
    "        else:\n",
    "            switch = switch + (4 * (x - y)) + 10\n",
    "            y = y - 1\n",
    "        x = x + 1\n",
    "    \n",
    "    '''\n",
    "    sorted=[]\n",
    "    for j in range(8):\n",
    "        if j % 2 != 0:\n",
    "            sorted.append(points[j-8::-8])\n",
    "        else:\n",
    "            sorted.append(points[j::8])\n",
    "    '''\n",
    "                \n",
    "    return points#sum(sorted, []) #flatten method"
   ]
  },
  {
   "cell_type": "code",
   "execution_count": 8,
   "metadata": {
    "scrolled": true
   },
   "outputs": [
    {
     "name": "stdout",
     "output_type": "stream",
     "text": [
      "[[1, -31], [2, -31], [3, -31], [4, -31], [5, -31], [6, -31], [7, -30], [8, -30], [9, -30], [10, -30], [11, -29], [12, -29], [13, -28], [14, -28], [15, -28], [16, -27], [17, -26], [18, -26], [19, -25], [20, -24], [21, -23], [22, -22], [22, -22], [23, -21], [24, -20], [25, -19], [26, -18], [26, -17], [27, -16], [28, -15], [28, -14], [28, -13], [29, -12], [29, -11], [30, -10], [30, -9], [30, -8], [30, -7], [31, -6], [31, -5], [31, -4], [31, -3], [31, -2], [31, -1], [31, 1], [31, 2], [31, 3], [31, 4], [31, 5], [31, 6], [30, 7], [30, 8], [30, 9], [30, 10], [29, 11], [29, 12], [28, 13], [28, 14], [28, 15], [27, 16], [26, 17], [26, 18], [25, 19], [24, 20], [23, 21], [22, 22], [22, 22], [21, 23], [20, 24], [19, 25], [18, 26], [17, 26], [16, 27], [15, 28], [14, 28], [13, 28], [12, 29], [11, 29], [10, 30], [9, 30], [8, 30], [7, 30], [6, 31], [5, 31], [4, 31], [3, 31], [2, 31], [1, 31], [-1, 31], [-2, 31], [-3, 31], [-4, 31], [-5, 31], [-6, 31], [-7, 30], [-8, 30], [-9, 30], [-10, 30], [-11, 29], [-12, 29], [-13, 28], [-14, 28], [-15, 28], [-16, 27], [-17, 26], [-18, 26], [-19, 25], [-20, 24], [-21, 23], [-22, 22], [-22, 22], [-23, 21], [-24, 20], [-25, 19], [-26, 18], [-26, 17], [-27, 16], [-28, 15], [-28, 14], [-28, 13], [-29, 12], [-29, 11], [-30, 10], [-30, 9], [-30, 8], [-30, 7], [-31, 6], [-31, 5], [-31, 4], [-31, 3], [-31, 2], [-31, 1], [-31, -1], [-31, -2], [-31, -3], [-31, -4], [-31, -5], [-31, -6], [-30, -7], [-30, -8], [-30, -9], [-30, -10], [-29, -11], [-29, -12], [-28, -13], [-28, -14], [-28, -15], [-27, -16], [-26, -17], [-26, -18], [-25, -19], [-24, -20], [-23, -21], [-22, -22], [-22, -22], [-21, -23], [-20, -24], [-19, -25], [-18, -26], [-17, -26], [-16, -27], [-15, -28], [-14, -28], [-13, -28], [-12, -29], [-11, -29], [-10, -30], [-9, -30], [-8, -30], [-7, -30], [-6, -31], [-5, -31], [-4, -31], [-3, -31], [-2, -31], [-1, -31]]\n"
     ]
    }
   ],
   "source": [
    "size = 100\n",
    "radius = 30\n",
    "circle_graph = PIL.Image.new(\"RGB\", (size, size), (0,0,0))\n",
    "draw = PIL.ImageDraw.Draw(circle_graph)\n",
    "\n",
    "#半径(pixel)を入力入力すると、中心(0,0)とした円の座標を返す\n",
    "p = _circle(radius)\n",
    "# print the point coords\n",
    "print(p)"
   ]
  },
  {
   "cell_type": "code",
   "execution_count": 10,
   "metadata": {},
   "outputs": [
    {
     "data": {
      "image/png": "[encoded data removed]",
      "text/plain": [
       "<Figure size 720x720 with 1 Axes>"
      ]
     },
     "metadata": {
      "needs_background": "light"
     },
     "output_type": "display_data"
    }
   ],
   "source": [
    "plt.figure(figsize=(10, 10))\n",
    "for point in p:\n",
    "    draw.point((size//2+point[0],size//2+point[1]),(255,255,255))\n",
    "plt.imshow(circle_graph)\n",
    "plt.savefig( 'lack_circle' )"
   ]
  },
  {
   "cell_type": "code",
   "execution_count": null,
   "metadata": {},
   "outputs": [],
   "source": [
    "0+3 % 2"
   ]
  },
  {
   "cell_type": "code",
   "execution_count": null,
   "metadata": {},
   "outputs": [],
   "source": [
    "p[0::8]"
   ]
  },
  {
   "cell_type": "code",
   "execution_count": null,
   "metadata": {},
   "outputs": [],
   "source": []
  }
 ],
 "metadata": {
  "kernelspec": {
   "display_name": "Python 3",
   "language": "python",
   "name": "python3"
  },
  "language_info": {
   "codemirror_mode": {
    "name": "ipython",
    "version": 3
   },
   "file_extension": ".py",
   "mimetype": "text/x-python",
   "name": "python",
   "nbconvert_exporter": "python",
   "pygments_lexer": "ipython3",
   "version": "3.7.1"
  },
  "toc": {
   "base_numbering": 1,
   "nav_menu": {},
   "number_sections": true,
   "sideBar": true,
   "skip_h1_title": false,
   "title_cell": "Table of Contents",
   "title_sidebar": "Contents",
   "toc_cell": false,
   "toc_position": {},
   "toc_section_display": true,
   "toc_window_display": false
  }
 },
 "nbformat": 4,
 "nbformat_minor": 2
}
