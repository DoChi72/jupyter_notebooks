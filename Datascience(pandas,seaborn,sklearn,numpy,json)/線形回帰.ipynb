{
 "cells": [
  {
   "cell_type": "code",
   "execution_count": 1,
   "metadata": {},
   "outputs": [],
   "source": [
    "import numpy as np\n",
    "import pandas as pd\n",
    "from pandas import Series,DataFrame"
   ]
  },
  {
   "cell_type": "code",
   "execution_count": 2,
   "metadata": {},
   "outputs": [],
   "source": [
    "import matplotlib.pyplot as plt\n",
    "import seaborn as sns\n",
    "sns.set_style('whitegrid')\n",
    "%matplotlib inline"
   ]
  },
  {
   "cell_type": "code",
   "execution_count": 3,
   "metadata": {},
   "outputs": [],
   "source": [
    "from sklearn.datasets import load_boston"
   ]
  },
  {
   "cell_type": "code",
   "execution_count": 4,
   "metadata": {},
   "outputs": [],
   "source": [
    "boston = load_boston()"
   ]
  },
  {
   "cell_type": "code",
   "execution_count": 5,
   "metadata": {},
   "outputs": [
    {
     "name": "stdout",
     "output_type": "stream",
     "text": [
      "Boston House Prices dataset\n",
      "===========================\n",
      "\n",
      "Notes\n",
      "------\n",
      "Data Set Characteristics:  \n",
      "\n",
      "    :Number of Instances: 506 \n",
      "\n",
      "    :Number of Attributes: 13 numeric/categorical predictive\n",
      "    \n",
      "    :Median Value (attribute 14) is usually the target\n",
      "\n",
      "    :Attribute Information (in order):\n",
      "        - CRIM     per capita crime rate by town\n",
      "        - ZN       proportion of residential land zoned for lots over 25,000 sq.ft.\n",
      "        - INDUS    proportion of non-retail business acres per town\n",
      "        - CHAS     Charles River dummy variable (= 1 if tract bounds river; 0 otherwise)\n",
      "        - NOX      nitric oxides concentration (parts per 10 million)\n",
      "        - RM       average number of rooms per dwelling\n",
      "        - AGE      proportion of owner-occupied units built prior to 1940\n",
      "        - DIS      weighted distances to five Boston employment centres\n",
      "        - RAD      index of accessibility to radial highways\n",
      "        - TAX      full-value property-tax rate per $10,000\n",
      "        - PTRATIO  pupil-teacher ratio by town\n",
      "        - B        1000(Bk - 0.63)^2 where Bk is the proportion of blacks by town\n",
      "        - LSTAT    % lower status of the population\n",
      "        - MEDV     Median value of owner-occupied homes in $1000's\n",
      "\n",
      "    :Missing Attribute Values: None\n",
      "\n",
      "    :Creator: Harrison, D. and Rubinfeld, D.L.\n",
      "\n",
      "This is a copy of UCI ML housing dataset.\n",
      "http://archive.ics.uci.edu/ml/datasets/Housing\n",
      "\n",
      "\n",
      "This dataset was taken from the StatLib library which is maintained at Carnegie Mellon University.\n",
      "\n",
      "The Boston house-price data of Harrison, D. and Rubinfeld, D.L. 'Hedonic\n",
      "prices and the demand for clean air', J. Environ. Economics & Management,\n",
      "vol.5, 81-102, 1978.   Used in Belsley, Kuh & Welsch, 'Regression diagnostics\n",
      "...', Wiley, 1980.   N.B. Various transformations are used in the table on\n",
      "pages 244-261 of the latter.\n",
      "\n",
      "The Boston house-price data has been used in many machine learning papers that address regression\n",
      "problems.   \n",
      "     \n",
      "**References**\n",
      "\n",
      "   - Belsley, Kuh & Welsch, 'Regression diagnostics: Identifying Influential Data and Sources of Collinearity', Wiley, 1980. 244-261.\n",
      "   - Quinlan,R. (1993). Combining Instance-Based and Model-Based Learning. In Proceedings on the Tenth International Conference of Machine Learning, 236-243, University of Massachusetts, Amherst. Morgan Kaufmann.\n",
      "   - many more! (see http://archive.ics.uci.edu/ml/datasets/Housing)\n",
      "\n"
     ]
    }
   ],
   "source": [
    "# Descriptionは説明です。# Descri \n",
    "print(boston.DESCR)"
   ]
  },
  {
   "cell_type": "code",
   "execution_count": 10,
   "metadata": {},
   "outputs": [
    {
     "data": {
      "text/plain": [
       "Text(0,0.5,'Number of houses')"
      ]
     },
     "execution_count": 10,
     "metadata": {},
     "output_type": "execute_result"
    },
    {
     "data": {
      "image/png": "[encoded data removed]",
      "text/plain": [
       "<Figure size 432x288 with 1 Axes>"
      ]
     },
     "metadata": {},
     "output_type": "display_data"
    }
   ],
   "source": [
    "plt.hist(boston.target,bins=150)\n",
    "plt.xlabel('Price in $1,000s')\n",
    "plt.ylabel('Number of houses')"
   ]
  },
  {
   "cell_type": "code",
   "execution_count": 11,
   "metadata": {},
   "outputs": [
    {
     "data": {
      "text/plain": [
       "Text(0.5,0,'Number of rooms')"
      ]
     },
     "execution_count": 11,
     "metadata": {},
     "output_type": "execute_result"
    },
    {
     "data": {
      "image/png": "[encoded data removed]",
      "text/plain": [
       "<Figure size 432x288 with 1 Axes>"
      ]
     },
     "metadata": {},
     "output_type": "display_data"
    }
   ],
   "source": [
    "plt.scatter(boston.data[:,5],boston.target)\n",
    "\n",
    "plt.ylabel('Price in $1,000s')\n",
    "plt.xlabel('Number of rooms')"
   ]
  },
  {
   "cell_type": "code",
   "execution_count": 14,
   "metadata": {},
   "outputs": [
    {
     "data": {
      "text/html": [
       "<div>\n",
       "<style scoped>\n",
       "    .dataframe tbody tr th:only-of-type {\n",
       "        vertical-align: middle;\n",
       "    }\n",
       "\n",
       "    .dataframe tbody tr th {\n",
       "        vertical-align: top;\n",
       "    }\n",
       "\n",
       "    .dataframe thead th {\n",
       "        text-align: right;\n",
       "    }\n",
       "</style>\n",
       "<table border=\"1\" class=\"dataframe\">\n",
       "  <thead>\n",
       "    <tr style=\"text-align: right;\">\n",
       "      <th></th>\n",
       "      <th>CRIM</th>\n",
       "      <th>ZN</th>\n",
       "      <th>INDUS</th>\n",
       "      <th>CHAS</th>\n",
       "      <th>NOX</th>\n",
       "      <th>RM</th>\n",
       "      <th>AGE</th>\n",
       "      <th>DIS</th>\n",
       "      <th>RAD</th>\n",
       "      <th>TAX</th>\n",
       "      <th>PTRATIO</th>\n",
       "      <th>B</th>\n",
       "      <th>LSTAT</th>\n",
       "    </tr>\n",
       "  </thead>\n",
       "  <tbody>\n",
       "    <tr>\n",
       "      <th>0</th>\n",
       "      <td>0.00632</td>\n",
       "      <td>18.0</td>\n",
       "      <td>2.31</td>\n",
       "      <td>0.0</td>\n",
       "      <td>0.538</td>\n",
       "      <td>6.575</td>\n",
       "      <td>65.2</td>\n",
       "      <td>4.0900</td>\n",
       "      <td>1.0</td>\n",
       "      <td>296.0</td>\n",
       "      <td>15.3</td>\n",
       "      <td>396.90</td>\n",
       "      <td>4.98</td>\n",
       "    </tr>\n",
       "    <tr>\n",
       "      <th>1</th>\n",
       "      <td>0.02731</td>\n",
       "      <td>0.0</td>\n",
       "      <td>7.07</td>\n",
       "      <td>0.0</td>\n",
       "      <td>0.469</td>\n",
       "      <td>6.421</td>\n",
       "      <td>78.9</td>\n",
       "      <td>4.9671</td>\n",
       "      <td>2.0</td>\n",
       "      <td>242.0</td>\n",
       "      <td>17.8</td>\n",
       "      <td>396.90</td>\n",
       "      <td>9.14</td>\n",
       "    </tr>\n",
       "    <tr>\n",
       "      <th>2</th>\n",
       "      <td>0.02729</td>\n",
       "      <td>0.0</td>\n",
       "      <td>7.07</td>\n",
       "      <td>0.0</td>\n",
       "      <td>0.469</td>\n",
       "      <td>7.185</td>\n",
       "      <td>61.1</td>\n",
       "      <td>4.9671</td>\n",
       "      <td>2.0</td>\n",
       "      <td>242.0</td>\n",
       "      <td>17.8</td>\n",
       "      <td>392.83</td>\n",
       "      <td>4.03</td>\n",
       "    </tr>\n",
       "    <tr>\n",
       "      <th>3</th>\n",
       "      <td>0.03237</td>\n",
       "      <td>0.0</td>\n",
       "      <td>2.18</td>\n",
       "      <td>0.0</td>\n",
       "      <td>0.458</td>\n",
       "      <td>6.998</td>\n",
       "      <td>45.8</td>\n",
       "      <td>6.0622</td>\n",
       "      <td>3.0</td>\n",
       "      <td>222.0</td>\n",
       "      <td>18.7</td>\n",
       "      <td>394.63</td>\n",
       "      <td>2.94</td>\n",
       "    </tr>\n",
       "    <tr>\n",
       "      <th>4</th>\n",
       "      <td>0.06905</td>\n",
       "      <td>0.0</td>\n",
       "      <td>2.18</td>\n",
       "      <td>0.0</td>\n",
       "      <td>0.458</td>\n",
       "      <td>7.147</td>\n",
       "      <td>54.2</td>\n",
       "      <td>6.0622</td>\n",
       "      <td>3.0</td>\n",
       "      <td>222.0</td>\n",
       "      <td>18.7</td>\n",
       "      <td>396.90</td>\n",
       "      <td>5.33</td>\n",
       "    </tr>\n",
       "  </tbody>\n",
       "</table>\n",
       "</div>"
      ],
      "text/plain": [
       "      CRIM    ZN  INDUS  CHAS    NOX     RM   AGE     DIS  RAD    TAX  \\\n",
       "0  0.00632  18.0   2.31   0.0  0.538  6.575  65.2  4.0900  1.0  296.0   \n",
       "1  0.02731   0.0   7.07   0.0  0.469  6.421  78.9  4.9671  2.0  242.0   \n",
       "2  0.02729   0.0   7.07   0.0  0.469  7.185  61.1  4.9671  2.0  242.0   \n",
       "3  0.03237   0.0   2.18   0.0  0.458  6.998  45.8  6.0622  3.0  222.0   \n",
       "4  0.06905   0.0   2.18   0.0  0.458  7.147  54.2  6.0622  3.0  222.0   \n",
       "\n",
       "   PTRATIO       B  LSTAT  \n",
       "0     15.3  396.90   4.98  \n",
       "1     17.8  396.90   9.14  \n",
       "2     17.8  392.83   4.03  \n",
       "3     18.7  394.63   2.94  \n",
       "4     18.7  396.90   5.33  "
      ]
     },
     "execution_count": 14,
     "metadata": {},
     "output_type": "execute_result"
    }
   ],
   "source": [
    "# DataFrameを作ります。\n",
    "boston_df = DataFrame(boston.data)\n",
    "\n",
    "# 列名をつけます。\n",
    "boston_df.columns = boston.feature_names\n",
    "\n",
    "boston_df.head()"
   ]
  },
  {
   "cell_type": "code",
   "execution_count": 15,
   "metadata": {},
   "outputs": [],
   "source": [
    "boston_df['Price'] = boston.target"
   ]
  },
  {
   "cell_type": "code",
   "execution_count": 19,
   "metadata": {},
   "outputs": [
    {
     "data": {
      "text/plain": [
       "0    24.0\n",
       "1    21.6\n",
       "2    34.7\n",
       "3    33.4\n",
       "4    36.2\n",
       "Name: Price, dtype: float64"
      ]
     },
     "execution_count": 19,
     "metadata": {},
     "output_type": "execute_result"
    }
   ],
   "source": [
    "boston_df['Price'].head()"
   ]
  },
  {
   "cell_type": "code",
   "execution_count": 20,
   "metadata": {},
   "outputs": [
    {
     "data": {
      "text/plain": [
       "<seaborn.axisgrid.FacetGrid at 0x1a1ca83a90>"
      ]
     },
     "execution_count": 20,
     "metadata": {},
     "output_type": "execute_result"
    },
    {
     "data": {
      "image/png": "[encoded data removed]",
      "text/plain": [
       "<Figure size 360x360 with 1 Axes>"
      ]
     },
     "metadata": {},
     "output_type": "display_data"
    }
   ],
   "source": [
    "sns.lmplot('RM','Price',data = boston_df)"
   ]
  },
  {
   "cell_type": "code",
   "execution_count": 28,
   "metadata": {},
   "outputs": [
    {
     "name": "stdout",
     "output_type": "stream",
     "text": [
      "(506,)\n"
     ]
    }
   ],
   "source": [
    "# 部屋数\n",
    "X = boston_df.RM\n",
    "print(X.shape)"
   ]
  },
  {
   "cell_type": "code",
   "execution_count": 29,
   "metadata": {},
   "outputs": [
    {
     "name": "stdout",
     "output_type": "stream",
     "text": [
      "(506, 1)\n"
     ]
    }
   ],
   "source": [
    "# これを2次元のarrayにします。\n",
    "X = np.vstack(boston_df.RM)\n",
    "print(X.shape)"
   ]
  },
  {
   "cell_type": "code",
   "execution_count": 30,
   "metadata": {},
   "outputs": [
    {
     "name": "stdout",
     "output_type": "stream",
     "text": [
      "(506,)\n"
     ]
    }
   ],
   "source": [
    "Y = boston_df.Price\n",
    "print(Y.shape)"
   ]
  },
  {
   "cell_type": "code",
   "execution_count": 31,
   "metadata": {},
   "outputs": [
    {
     "data": {
      "text/plain": [
       "[[array([6.575]), 1],\n",
       " [array([6.421]), 1],\n",
       " [array([7.185]), 1],\n",
       " [array([6.998]), 1],\n",
       " [array([7.147]), 1],\n",
       " [array([6.43]), 1],\n",
       " [array([6.012]), 1],\n",
       " [array([6.172]), 1],\n",
       " [array([5.631]), 1],\n",
       " [array([6.004]), 1],\n",
       " [array([6.377]), 1],\n",
       " [array([6.009]), 1],\n",
       " [array([5.889]), 1],\n",
       " [array([5.949]), 1],\n",
       " [array([6.096]), 1],\n",
       " [array([5.834]), 1],\n",
       " [array([5.935]), 1],\n",
       " [array([5.99]), 1],\n",
       " [array([5.456]), 1],\n",
       " [array([5.727]), 1],\n",
       " [array([5.57]), 1],\n",
       " [array([5.965]), 1],\n",
       " [array([6.142]), 1],\n",
       " [array([5.813]), 1],\n",
       " [array([5.924]), 1],\n",
       " [array([5.599]), 1],\n",
       " [array([5.813]), 1],\n",
       " [array([6.047]), 1],\n",
       " [array([6.495]), 1],\n",
       " [array([6.674]), 1],\n",
       " [array([5.713]), 1],\n",
       " [array([6.072]), 1],\n",
       " [array([5.95]), 1],\n",
       " [array([5.701]), 1],\n",
       " [array([6.096]), 1],\n",
       " [array([5.933]), 1],\n",
       " [array([5.841]), 1],\n",
       " [array([5.85]), 1],\n",
       " [array([5.966]), 1],\n",
       " [array([6.595]), 1],\n",
       " [array([7.024]), 1],\n",
       " [array([6.77]), 1],\n",
       " [array([6.169]), 1],\n",
       " [array([6.211]), 1],\n",
       " [array([6.069]), 1],\n",
       " [array([5.682]), 1],\n",
       " [array([5.786]), 1],\n",
       " [array([6.03]), 1],\n",
       " [array([5.399]), 1],\n",
       " [array([5.602]), 1],\n",
       " [array([5.963]), 1],\n",
       " [array([6.115]), 1],\n",
       " [array([6.511]), 1],\n",
       " [array([5.998]), 1],\n",
       " [array([5.888]), 1],\n",
       " [array([7.249]), 1],\n",
       " [array([6.383]), 1],\n",
       " [array([6.816]), 1],\n",
       " [array([6.145]), 1],\n",
       " [array([5.927]), 1],\n",
       " [array([5.741]), 1],\n",
       " [array([5.966]), 1],\n",
       " [array([6.456]), 1],\n",
       " [array([6.762]), 1],\n",
       " [array([7.104]), 1],\n",
       " [array([6.29]), 1],\n",
       " [array([5.787]), 1],\n",
       " [array([5.878]), 1],\n",
       " [array([5.594]), 1],\n",
       " [array([5.885]), 1],\n",
       " [array([6.417]), 1],\n",
       " [array([5.961]), 1],\n",
       " [array([6.065]), 1],\n",
       " [array([6.245]), 1],\n",
       " [array([6.273]), 1],\n",
       " [array([6.286]), 1],\n",
       " [array([6.279]), 1],\n",
       " [array([6.14]), 1],\n",
       " [array([6.232]), 1],\n",
       " [array([5.874]), 1],\n",
       " [array([6.727]), 1],\n",
       " [array([6.619]), 1],\n",
       " [array([6.302]), 1],\n",
       " [array([6.167]), 1],\n",
       " [array([6.389]), 1],\n",
       " [array([6.63]), 1],\n",
       " [array([6.015]), 1],\n",
       " [array([6.121]), 1],\n",
       " [array([7.007]), 1],\n",
       " [array([7.079]), 1],\n",
       " [array([6.417]), 1],\n",
       " [array([6.405]), 1],\n",
       " [array([6.442]), 1],\n",
       " [array([6.211]), 1],\n",
       " [array([6.249]), 1],\n",
       " [array([6.625]), 1],\n",
       " [array([6.163]), 1],\n",
       " [array([8.069]), 1],\n",
       " [array([7.82]), 1],\n",
       " [array([7.416]), 1],\n",
       " [array([6.727]), 1],\n",
       " [array([6.781]), 1],\n",
       " [array([6.405]), 1],\n",
       " [array([6.137]), 1],\n",
       " [array([6.167]), 1],\n",
       " [array([5.851]), 1],\n",
       " [array([5.836]), 1],\n",
       " [array([6.127]), 1],\n",
       " [array([6.474]), 1],\n",
       " [array([6.229]), 1],\n",
       " [array([6.195]), 1],\n",
       " [array([6.715]), 1],\n",
       " [array([5.913]), 1],\n",
       " [array([6.092]), 1],\n",
       " [array([6.254]), 1],\n",
       " [array([5.928]), 1],\n",
       " [array([6.176]), 1],\n",
       " [array([6.021]), 1],\n",
       " [array([5.872]), 1],\n",
       " [array([5.731]), 1],\n",
       " [array([5.87]), 1],\n",
       " [array([6.004]), 1],\n",
       " [array([5.961]), 1],\n",
       " [array([5.856]), 1],\n",
       " [array([5.879]), 1],\n",
       " [array([5.986]), 1],\n",
       " [array([5.613]), 1],\n",
       " [array([5.693]), 1],\n",
       " [array([6.431]), 1],\n",
       " [array([5.637]), 1],\n",
       " [array([6.458]), 1],\n",
       " [array([6.326]), 1],\n",
       " [array([6.372]), 1],\n",
       " [array([5.822]), 1],\n",
       " [array([5.757]), 1],\n",
       " [array([6.335]), 1],\n",
       " [array([5.942]), 1],\n",
       " [array([6.454]), 1],\n",
       " [array([5.857]), 1],\n",
       " [array([6.151]), 1],\n",
       " [array([6.174]), 1],\n",
       " [array([5.019]), 1],\n",
       " [array([5.403]), 1],\n",
       " [array([5.468]), 1],\n",
       " [array([4.903]), 1],\n",
       " [array([6.13]), 1],\n",
       " [array([5.628]), 1],\n",
       " [array([4.926]), 1],\n",
       " [array([5.186]), 1],\n",
       " [array([5.597]), 1],\n",
       " [array([6.122]), 1],\n",
       " [array([5.404]), 1],\n",
       " [array([5.012]), 1],\n",
       " [array([5.709]), 1],\n",
       " [array([6.129]), 1],\n",
       " [array([6.152]), 1],\n",
       " [array([5.272]), 1],\n",
       " [array([6.943]), 1],\n",
       " [array([6.066]), 1],\n",
       " [array([6.51]), 1],\n",
       " [array([6.25]), 1],\n",
       " [array([7.489]), 1],\n",
       " [array([7.802]), 1],\n",
       " [array([8.375]), 1],\n",
       " [array([5.854]), 1],\n",
       " [array([6.101]), 1],\n",
       " [array([7.929]), 1],\n",
       " [array([5.877]), 1],\n",
       " [array([6.319]), 1],\n",
       " [array([6.402]), 1],\n",
       " [array([5.875]), 1],\n",
       " [array([5.88]), 1],\n",
       " [array([5.572]), 1],\n",
       " [array([6.416]), 1],\n",
       " [array([5.859]), 1],\n",
       " [array([6.546]), 1],\n",
       " [array([6.02]), 1],\n",
       " [array([6.315]), 1],\n",
       " [array([6.86]), 1],\n",
       " [array([6.98]), 1],\n",
       " [array([7.765]), 1],\n",
       " [array([6.144]), 1],\n",
       " [array([7.155]), 1],\n",
       " [array([6.563]), 1],\n",
       " [array([5.604]), 1],\n",
       " [array([6.153]), 1],\n",
       " [array([7.831]), 1],\n",
       " [array([6.782]), 1],\n",
       " [array([6.556]), 1],\n",
       " [array([7.185]), 1],\n",
       " [array([6.951]), 1],\n",
       " [array([6.739]), 1],\n",
       " [array([7.178]), 1],\n",
       " [array([6.8]), 1],\n",
       " [array([6.604]), 1],\n",
       " [array([7.875]), 1],\n",
       " [array([7.287]), 1],\n",
       " [array([7.107]), 1],\n",
       " [array([7.274]), 1],\n",
       " [array([6.975]), 1],\n",
       " [array([7.135]), 1],\n",
       " [array([6.162]), 1],\n",
       " [array([7.61]), 1],\n",
       " [array([7.853]), 1],\n",
       " [array([8.034]), 1],\n",
       " [array([5.891]), 1],\n",
       " [array([6.326]), 1],\n",
       " [array([5.783]), 1],\n",
       " [array([6.064]), 1],\n",
       " [array([5.344]), 1],\n",
       " [array([5.96]), 1],\n",
       " [array([5.404]), 1],\n",
       " [array([5.807]), 1],\n",
       " [array([6.375]), 1],\n",
       " [array([5.412]), 1],\n",
       " [array([6.182]), 1],\n",
       " [array([5.888]), 1],\n",
       " [array([6.642]), 1],\n",
       " [array([5.951]), 1],\n",
       " [array([6.373]), 1],\n",
       " [array([6.951]), 1],\n",
       " [array([6.164]), 1],\n",
       " [array([6.879]), 1],\n",
       " [array([6.618]), 1],\n",
       " [array([8.266]), 1],\n",
       " [array([8.725]), 1],\n",
       " [array([8.04]), 1],\n",
       " [array([7.163]), 1],\n",
       " [array([7.686]), 1],\n",
       " [array([6.552]), 1],\n",
       " [array([5.981]), 1],\n",
       " [array([7.412]), 1],\n",
       " [array([8.337]), 1],\n",
       " [array([8.247]), 1],\n",
       " [array([6.726]), 1],\n",
       " [array([6.086]), 1],\n",
       " [array([6.631]), 1],\n",
       " [array([7.358]), 1],\n",
       " [array([6.481]), 1],\n",
       " [array([6.606]), 1],\n",
       " [array([6.897]), 1],\n",
       " [array([6.095]), 1],\n",
       " [array([6.358]), 1],\n",
       " [array([6.393]), 1],\n",
       " [array([5.593]), 1],\n",
       " [array([5.605]), 1],\n",
       " [array([6.108]), 1],\n",
       " [array([6.226]), 1],\n",
       " [array([6.433]), 1],\n",
       " [array([6.718]), 1],\n",
       " [array([6.487]), 1],\n",
       " [array([6.438]), 1],\n",
       " [array([6.957]), 1],\n",
       " [array([8.259]), 1],\n",
       " [array([6.108]), 1],\n",
       " [array([5.876]), 1],\n",
       " [array([7.454]), 1],\n",
       " [array([8.704]), 1],\n",
       " [array([7.333]), 1],\n",
       " [array([6.842]), 1],\n",
       " [array([7.203]), 1],\n",
       " [array([7.52]), 1],\n",
       " [array([8.398]), 1],\n",
       " [array([7.327]), 1],\n",
       " [array([7.206]), 1],\n",
       " [array([5.56]), 1],\n",
       " [array([7.014]), 1],\n",
       " [array([8.297]), 1],\n",
       " [array([7.47]), 1],\n",
       " [array([5.92]), 1],\n",
       " [array([5.856]), 1],\n",
       " [array([6.24]), 1],\n",
       " [array([6.538]), 1],\n",
       " [array([7.691]), 1],\n",
       " [array([6.758]), 1],\n",
       " [array([6.854]), 1],\n",
       " [array([7.267]), 1],\n",
       " [array([6.826]), 1],\n",
       " [array([6.482]), 1],\n",
       " [array([6.812]), 1],\n",
       " [array([7.82]), 1],\n",
       " [array([6.968]), 1],\n",
       " [array([7.645]), 1],\n",
       " [array([7.923]), 1],\n",
       " [array([7.088]), 1],\n",
       " [array([6.453]), 1],\n",
       " [array([6.23]), 1],\n",
       " [array([6.209]), 1],\n",
       " [array([6.315]), 1],\n",
       " [array([6.565]), 1],\n",
       " [array([6.861]), 1],\n",
       " [array([7.148]), 1],\n",
       " [array([6.63]), 1],\n",
       " [array([6.127]), 1],\n",
       " [array([6.009]), 1],\n",
       " [array([6.678]), 1],\n",
       " [array([6.549]), 1],\n",
       " [array([5.79]), 1],\n",
       " [array([6.345]), 1],\n",
       " [array([7.041]), 1],\n",
       " [array([6.871]), 1],\n",
       " [array([6.59]), 1],\n",
       " [array([6.495]), 1],\n",
       " [array([6.982]), 1],\n",
       " [array([7.236]), 1],\n",
       " [array([6.616]), 1],\n",
       " [array([7.42]), 1],\n",
       " [array([6.849]), 1],\n",
       " [array([6.635]), 1],\n",
       " [array([5.972]), 1],\n",
       " [array([4.973]), 1],\n",
       " [array([6.122]), 1],\n",
       " [array([6.023]), 1],\n",
       " [array([6.266]), 1],\n",
       " [array([6.567]), 1],\n",
       " [array([5.705]), 1],\n",
       " [array([5.914]), 1],\n",
       " [array([5.782]), 1],\n",
       " [array([6.382]), 1],\n",
       " [array([6.113]), 1],\n",
       " [array([6.426]), 1],\n",
       " [array([6.376]), 1],\n",
       " [array([6.041]), 1],\n",
       " [array([5.708]), 1],\n",
       " [array([6.415]), 1],\n",
       " [array([6.431]), 1],\n",
       " [array([6.312]), 1],\n",
       " [array([6.083]), 1],\n",
       " [array([5.868]), 1],\n",
       " [array([6.333]), 1],\n",
       " [array([6.144]), 1],\n",
       " [array([5.706]), 1],\n",
       " [array([6.031]), 1],\n",
       " [array([6.316]), 1],\n",
       " [array([6.31]), 1],\n",
       " [array([6.037]), 1],\n",
       " [array([5.869]), 1],\n",
       " [array([5.895]), 1],\n",
       " [array([6.059]), 1],\n",
       " [array([5.985]), 1],\n",
       " [array([5.968]), 1],\n",
       " [array([7.241]), 1],\n",
       " [array([6.54]), 1],\n",
       " [array([6.696]), 1],\n",
       " [array([6.874]), 1],\n",
       " [array([6.014]), 1],\n",
       " [array([5.898]), 1],\n",
       " [array([6.516]), 1],\n",
       " [array([6.635]), 1],\n",
       " [array([6.939]), 1],\n",
       " [array([6.49]), 1],\n",
       " [array([6.579]), 1],\n",
       " [array([5.884]), 1],\n",
       " [array([6.728]), 1],\n",
       " [array([5.663]), 1],\n",
       " [array([5.936]), 1],\n",
       " [array([6.212]), 1],\n",
       " [array([6.395]), 1],\n",
       " [array([6.127]), 1],\n",
       " [array([6.112]), 1],\n",
       " [array([6.398]), 1],\n",
       " [array([6.251]), 1],\n",
       " [array([5.362]), 1],\n",
       " [array([5.803]), 1],\n",
       " [array([8.78]), 1],\n",
       " [array([3.561]), 1],\n",
       " [array([4.963]), 1],\n",
       " [array([3.863]), 1],\n",
       " [array([4.97]), 1],\n",
       " [array([6.683]), 1],\n",
       " [array([7.016]), 1],\n",
       " [array([6.216]), 1],\n",
       " [array([5.875]), 1],\n",
       " [array([4.906]), 1],\n",
       " [array([4.138]), 1],\n",
       " [array([7.313]), 1],\n",
       " [array([6.649]), 1],\n",
       " [array([6.794]), 1],\n",
       " [array([6.38]), 1],\n",
       " [array([6.223]), 1],\n",
       " [array([6.968]), 1],\n",
       " [array([6.545]), 1],\n",
       " [array([5.536]), 1],\n",
       " [array([5.52]), 1],\n",
       " [array([4.368]), 1],\n",
       " [array([5.277]), 1],\n",
       " [array([4.652]), 1],\n",
       " [array([5.]), 1],\n",
       " [array([4.88]), 1],\n",
       " [array([5.39]), 1],\n",
       " [array([5.713]), 1],\n",
       " [array([6.051]), 1],\n",
       " [array([5.036]), 1],\n",
       " [array([6.193]), 1],\n",
       " [array([5.887]), 1],\n",
       " [array([6.471]), 1],\n",
       " [array([6.405]), 1],\n",
       " [array([5.747]), 1],\n",
       " [array([5.453]), 1],\n",
       " [array([5.852]), 1],\n",
       " [array([5.987]), 1],\n",
       " [array([6.343]), 1],\n",
       " [array([6.404]), 1],\n",
       " [array([5.349]), 1],\n",
       " [array([5.531]), 1],\n",
       " [array([5.683]), 1],\n",
       " [array([4.138]), 1],\n",
       " [array([5.608]), 1],\n",
       " [array([5.617]), 1],\n",
       " [array([6.852]), 1],\n",
       " [array([5.757]), 1],\n",
       " [array([6.657]), 1],\n",
       " [array([4.628]), 1],\n",
       " [array([5.155]), 1],\n",
       " [array([4.519]), 1],\n",
       " [array([6.434]), 1],\n",
       " [array([6.782]), 1],\n",
       " [array([5.304]), 1],\n",
       " [array([5.957]), 1],\n",
       " [array([6.824]), 1],\n",
       " [array([6.411]), 1],\n",
       " [array([6.006]), 1],\n",
       " [array([5.648]), 1],\n",
       " [array([6.103]), 1],\n",
       " [array([5.565]), 1],\n",
       " [array([5.896]), 1],\n",
       " [array([5.837]), 1],\n",
       " [array([6.202]), 1],\n",
       " [array([6.193]), 1],\n",
       " [array([6.38]), 1],\n",
       " [array([6.348]), 1],\n",
       " [array([6.833]), 1],\n",
       " [array([6.425]), 1],\n",
       " [array([6.436]), 1],\n",
       " [array([6.208]), 1],\n",
       " [array([6.629]), 1],\n",
       " [array([6.461]), 1],\n",
       " [array([6.152]), 1],\n",
       " [array([5.935]), 1],\n",
       " [array([5.627]), 1],\n",
       " [array([5.818]), 1],\n",
       " [array([6.406]), 1],\n",
       " [array([6.219]), 1],\n",
       " [array([6.485]), 1],\n",
       " [array([5.854]), 1],\n",
       " [array([6.459]), 1],\n",
       " [array([6.341]), 1],\n",
       " [array([6.251]), 1],\n",
       " [array([6.185]), 1],\n",
       " [array([6.417]), 1],\n",
       " [array([6.749]), 1],\n",
       " [array([6.655]), 1],\n",
       " [array([6.297]), 1],\n",
       " [array([7.393]), 1],\n",
       " [array([6.728]), 1],\n",
       " [array([6.525]), 1],\n",
       " [array([5.976]), 1],\n",
       " [array([5.936]), 1],\n",
       " [array([6.301]), 1],\n",
       " [array([6.081]), 1],\n",
       " [array([6.701]), 1],\n",
       " [array([6.376]), 1],\n",
       " [array([6.317]), 1],\n",
       " [array([6.513]), 1],\n",
       " [array([6.209]), 1],\n",
       " [array([5.759]), 1],\n",
       " [array([5.952]), 1],\n",
       " [array([6.003]), 1],\n",
       " [array([5.926]), 1],\n",
       " [array([5.713]), 1],\n",
       " [array([6.167]), 1],\n",
       " [array([6.229]), 1],\n",
       " [array([6.437]), 1],\n",
       " [array([6.98]), 1],\n",
       " [array([5.427]), 1],\n",
       " [array([6.162]), 1],\n",
       " [array([6.484]), 1],\n",
       " [array([5.304]), 1],\n",
       " [array([6.185]), 1],\n",
       " [array([6.229]), 1],\n",
       " [array([6.242]), 1],\n",
       " [array([6.75]), 1],\n",
       " [array([7.061]), 1],\n",
       " [array([5.762]), 1],\n",
       " [array([5.871]), 1],\n",
       " [array([6.312]), 1],\n",
       " [array([6.114]), 1],\n",
       " [array([5.905]), 1],\n",
       " [array([5.454]), 1],\n",
       " [array([5.414]), 1],\n",
       " [array([5.093]), 1],\n",
       " [array([5.983]), 1],\n",
       " [array([5.983]), 1],\n",
       " [array([5.707]), 1],\n",
       " [array([5.926]), 1],\n",
       " [array([5.67]), 1],\n",
       " [array([5.39]), 1],\n",
       " [array([5.794]), 1],\n",
       " [array([6.019]), 1],\n",
       " [array([5.569]), 1],\n",
       " [array([6.027]), 1],\n",
       " [array([6.593]), 1],\n",
       " [array([6.12]), 1],\n",
       " [array([6.976]), 1],\n",
       " [array([6.794]), 1],\n",
       " [array([6.03]), 1]]"
      ]
     },
     "execution_count": 31,
     "metadata": {},
     "output_type": "execute_result"
    }
   ],
   "source": [
    "[[value,1] for value in X ]"
   ]
  },
  {
   "cell_type": "code",
   "execution_count": 32,
   "metadata": {},
   "outputs": [],
   "source": [
    "X = np.array([[value,1] for value in X ])"
   ]
  },
  {
   "cell_type": "code",
   "execution_count": 33,
   "metadata": {},
   "outputs": [
    {
     "data": {
      "text/plain": [
       "array([[array([6.575]), 1],\n",
       "       [array([6.421]), 1],\n",
       "       [array([7.185]), 1],\n",
       "       ...,\n",
       "       [array([6.976]), 1],\n",
       "       [array([6.794]), 1],\n",
       "       [array([6.03]), 1]], dtype=object)"
      ]
     },
     "execution_count": 33,
     "metadata": {},
     "output_type": "execute_result"
    }
   ],
   "source": [
    "X"
   ]
  },
  {
   "cell_type": "code",
   "execution_count": 34,
   "metadata": {},
   "outputs": [
    {
     "name": "stderr",
     "output_type": "stream",
     "text": [
      "/Users/yamaguchishota/anaconda3/lib/python3.6/site-packages/ipykernel_launcher.py:2: FutureWarning: `rcond` parameter will change to the default of machine precision times ``max(M, N)`` where M and N are the input matrix dimensions.\n",
      "To use the future default and silence this warning we advise to pass `rcond=None`, to keep using the old, explicitly pass `rcond=-1`.\n",
      "  \n"
     ]
    }
   ],
   "source": [
    "# 最小二乗法の計算を実行します。\n",
    "a, b = np.linalg.lstsq(X, Y)[0]"
   ]
  },
  {
   "cell_type": "code",
   "execution_count": 37,
   "metadata": {},
   "outputs": [
    {
     "data": {
      "text/plain": [
       "[<matplotlib.lines.Line2D at 0x1a1dbe61d0>]"
      ]
     },
     "execution_count": 37,
     "metadata": {},
     "output_type": "execute_result"
    },
    {
     "data": {
      "image/png": "[encoded data removed]",
      "text/plain": [
       "<Figure size 432x288 with 1 Axes>"
      ]
     },
     "metadata": {},
     "output_type": "display_data"
    }
   ],
   "source": [
    "# まずは元のデータをプロットします。\n",
    "plt.plot(boston_df.RM,boston_df.Price,'o')\n",
    "\n",
    "# 求めた回帰直線を描きます。\n",
    "x= boston_df.RM\n",
    "plt.plot(x, a*x + b,'r')"
   ]
  },
  {
   "cell_type": "code",
   "execution_count": 38,
   "metadata": {},
   "outputs": [
    {
     "name": "stderr",
     "output_type": "stream",
     "text": [
      "/Users/yamaguchishota/anaconda3/lib/python3.6/site-packages/ipykernel_launcher.py:2: FutureWarning: `rcond` parameter will change to the default of machine precision times ``max(M, N)`` where M and N are the input matrix dimensions.\n",
      "To use the future default and silence this warning we advise to pass `rcond=None`, to keep using the old, explicitly pass `rcond=-1`.\n",
      "  \n"
     ]
    }
   ],
   "source": [
    "# 結果のarrayを取得します。\n",
    "result = np.linalg.lstsq(X,Y)"
   ]
  },
  {
   "cell_type": "code",
   "execution_count": 39,
   "metadata": {},
   "outputs": [],
   "source": [
    "# 2つ目の要素に、誤差の合計が入っています。\n",
    "error_total = result[1]\n",
    "\n",
    "# 誤差の平均値の平方根を計算します。\n",
    "rmse = np.sqrt(error_total/len(X))"
   ]
  },
  {
   "cell_type": "code",
   "execution_count": 40,
   "metadata": {},
   "outputs": [
    {
     "name": "stdout",
     "output_type": "stream",
     "text": [
      "平均二乗誤差の平方根は、6.60\n"
     ]
    }
   ],
   "source": [
    "print('平均二乗誤差の平方根は、{:0.2f}'.format(rmse[0]))"
   ]
  },
  {
   "cell_type": "code",
   "execution_count": 41,
   "metadata": {},
   "outputs": [],
   "source": [
    "import sklearn\n",
    "from sklearn.linear_model import LinearRegression"
   ]
  },
  {
   "cell_type": "code",
   "execution_count": 42,
   "metadata": {},
   "outputs": [],
   "source": [
    "lreg = LinearRegression()"
   ]
  },
  {
   "cell_type": "code",
   "execution_count": 43,
   "metadata": {},
   "outputs": [],
   "source": [
    "# 説明変数\n",
    "X_multi = boston_df.drop('Price',1)\n",
    "\n",
    "# 目的変数\n",
    "Y_target = boston_df.Price"
   ]
  },
  {
   "cell_type": "code",
   "execution_count": 45,
   "metadata": {},
   "outputs": [
    {
     "data": {
      "text/plain": [
       "(506, 13)"
      ]
     },
     "execution_count": 45,
     "metadata": {},
     "output_type": "execute_result"
    }
   ],
   "source": [
    "X_multi.shape"
   ]
  },
  {
   "cell_type": "code",
   "execution_count": 46,
   "metadata": {},
   "outputs": [
    {
     "data": {
      "text/plain": [
       "LinearRegression(copy_X=True, fit_intercept=True, n_jobs=1, normalize=False)"
      ]
     },
     "execution_count": 46,
     "metadata": {},
     "output_type": "execute_result"
    }
   ],
   "source": [
    "# モデルを作ります。\n",
    "lreg.fit(X_multi,Y_target)"
   ]
  },
  {
   "cell_type": "code",
   "execution_count": 47,
   "metadata": {},
   "outputs": [
    {
     "name": "stdout",
     "output_type": "stream",
     "text": [
      "切片の値は36.49\n",
      "係数の数は13個\n"
     ]
    }
   ],
   "source": [
    "print('切片の値は{:0.2f}'.format(lreg.intercept_))\n",
    "print('係数の数は{}個'.format(len(lreg.coef_)))"
   ]
  },
  {
   "cell_type": "code",
   "execution_count": 48,
   "metadata": {},
   "outputs": [
    {
     "data": {
      "text/html": [
       "<div>\n",
       "<style scoped>\n",
       "    .dataframe tbody tr th:only-of-type {\n",
       "        vertical-align: middle;\n",
       "    }\n",
       "\n",
       "    .dataframe tbody tr th {\n",
       "        vertical-align: top;\n",
       "    }\n",
       "\n",
       "    .dataframe thead th {\n",
       "        text-align: right;\n",
       "    }\n",
       "</style>\n",
       "<table border=\"1\" class=\"dataframe\">\n",
       "  <thead>\n",
       "    <tr style=\"text-align: right;\">\n",
       "      <th></th>\n",
       "      <th>Features</th>\n",
       "      <th>Coefficient Estimate</th>\n",
       "    </tr>\n",
       "  </thead>\n",
       "  <tbody>\n",
       "    <tr>\n",
       "      <th>0</th>\n",
       "      <td>CRIM</td>\n",
       "      <td>-0.107171</td>\n",
       "    </tr>\n",
       "    <tr>\n",
       "      <th>1</th>\n",
       "      <td>ZN</td>\n",
       "      <td>0.046395</td>\n",
       "    </tr>\n",
       "    <tr>\n",
       "      <th>2</th>\n",
       "      <td>INDUS</td>\n",
       "      <td>0.020860</td>\n",
       "    </tr>\n",
       "    <tr>\n",
       "      <th>3</th>\n",
       "      <td>CHAS</td>\n",
       "      <td>2.688561</td>\n",
       "    </tr>\n",
       "    <tr>\n",
       "      <th>4</th>\n",
       "      <td>NOX</td>\n",
       "      <td>-17.795759</td>\n",
       "    </tr>\n",
       "    <tr>\n",
       "      <th>5</th>\n",
       "      <td>RM</td>\n",
       "      <td>3.804752</td>\n",
       "    </tr>\n",
       "    <tr>\n",
       "      <th>6</th>\n",
       "      <td>AGE</td>\n",
       "      <td>0.000751</td>\n",
       "    </tr>\n",
       "    <tr>\n",
       "      <th>7</th>\n",
       "      <td>DIS</td>\n",
       "      <td>-1.475759</td>\n",
       "    </tr>\n",
       "    <tr>\n",
       "      <th>8</th>\n",
       "      <td>RAD</td>\n",
       "      <td>0.305655</td>\n",
       "    </tr>\n",
       "    <tr>\n",
       "      <th>9</th>\n",
       "      <td>TAX</td>\n",
       "      <td>-0.012329</td>\n",
       "    </tr>\n",
       "    <tr>\n",
       "      <th>10</th>\n",
       "      <td>PTRATIO</td>\n",
       "      <td>-0.953464</td>\n",
       "    </tr>\n",
       "    <tr>\n",
       "      <th>11</th>\n",
       "      <td>B</td>\n",
       "      <td>0.009393</td>\n",
       "    </tr>\n",
       "    <tr>\n",
       "      <th>12</th>\n",
       "      <td>LSTAT</td>\n",
       "      <td>-0.525467</td>\n",
       "    </tr>\n",
       "    <tr>\n",
       "      <th>13</th>\n",
       "      <td>Price</td>\n",
       "      <td>NaN</td>\n",
       "    </tr>\n",
       "  </tbody>\n",
       "</table>\n",
       "</div>"
      ],
      "text/plain": [
       "   Features  Coefficient Estimate\n",
       "0      CRIM             -0.107171\n",
       "1        ZN              0.046395\n",
       "2     INDUS              0.020860\n",
       "3      CHAS              2.688561\n",
       "4       NOX            -17.795759\n",
       "5        RM              3.804752\n",
       "6       AGE              0.000751\n",
       "7       DIS             -1.475759\n",
       "8       RAD              0.305655\n",
       "9       TAX             -0.012329\n",
       "10  PTRATIO             -0.953464\n",
       "11        B              0.009393\n",
       "12    LSTAT             -0.525467\n",
       "13    Price                   NaN"
      ]
     },
     "execution_count": 48,
     "metadata": {},
     "output_type": "execute_result"
    }
   ],
   "source": [
    "# 新しいDataFrameを作ります。\n",
    "coeff_df = DataFrame(boston_df.columns)\n",
    "coeff_df.columns = ['Features']\n",
    "\n",
    "#求められた係数を代入します。\n",
    "coeff_df[\"Coefficient Estimate\"] = pd.Series(lreg.coef_)\n",
    "\n",
    "coeff_df"
   ]
  },
  {
   "cell_type": "markdown",
   "metadata": {},
   "source": [
    "部屋の数（RM）の係数が一番大きいことが分かります。"
   ]
  },
  {
   "cell_type": "code",
   "execution_count": 70,
   "metadata": {},
   "outputs": [],
   "source": [
    "# 説明変数をX、目的変数をYとして受け取ります。\n",
    "X_train, X_test, Y_train, Y_test = sklearn.model_selection.train_test_split(X_multi,boston_df.Price)"
   ]
  },
  {
   "cell_type": "code",
   "execution_count": 71,
   "metadata": {},
   "outputs": [
    {
     "name": "stdout",
     "output_type": "stream",
     "text": [
      "(379, 13) (127, 13) (379,) (127,)\n"
     ]
    }
   ],
   "source": [
    "# どんな感じに分かれたか、確認してみます。# どんな感じに \n",
    "print(X_train.shape, X_test.shape, Y_train.shape, Y_test.shape)"
   ]
  },
  {
   "cell_type": "code",
   "execution_count": 72,
   "metadata": {},
   "outputs": [
    {
     "data": {
      "text/plain": [
       "LinearRegression(copy_X=True, fit_intercept=True, n_jobs=1, normalize=False)"
      ]
     },
     "execution_count": 72,
     "metadata": {},
     "output_type": "execute_result"
    }
   ],
   "source": [
    "# まずはインスタンスを作ります。\n",
    "lreg = LinearRegression()\n",
    "\n",
    "# fitでモデルを作りますが、使うのは学習用のデータだけです。\n",
    "lreg.fit(X_train,Y_train)"
   ]
  },
  {
   "cell_type": "code",
   "execution_count": 73,
   "metadata": {},
   "outputs": [],
   "source": [
    "pred_train = lreg.predict(X_train)\n",
    "pred_test = lreg.predict(X_test)"
   ]
  },
  {
   "cell_type": "code",
   "execution_count": 74,
   "metadata": {},
   "outputs": [
    {
     "data": {
      "text/plain": [
       "22.05831137181803"
      ]
     },
     "execution_count": 74,
     "metadata": {},
     "output_type": "execute_result"
    }
   ],
   "source": [
    "np.mean((Y_train - pred_train) ** 2)"
   ]
  },
  {
   "cell_type": "code",
   "execution_count": 75,
   "metadata": {},
   "outputs": [
    {
     "data": {
      "text/plain": [
       "22.67089960152985"
      ]
     },
     "execution_count": 75,
     "metadata": {},
     "output_type": "execute_result"
    }
   ],
   "source": [
    "np.mean((Y_test - pred_test) ** 2)"
   ]
  },
  {
   "cell_type": "code",
   "execution_count": 76,
   "metadata": {},
   "outputs": [
    {
     "data": {
      "text/plain": [
       "Text(0.5,1,'Residual Plots')"
      ]
     },
     "execution_count": 76,
     "metadata": {},
     "output_type": "execute_result"
    },
    {
     "data": {
      "image/png": "[encoded data removed]",
      "text/plain": [
       "<Figure size 432x288 with 1 Axes>"
      ]
     },
     "metadata": {},
     "output_type": "display_data"
    }
   ],
   "source": [
    "# 学習用のデータの残差プロットです。\n",
    "train = plt.scatter(pred_train,(pred_train-Y_train),c='b',alpha=0.5)\n",
    "\n",
    "# テスト用のデータの残差プロットです。\n",
    "test = plt.scatter(pred_test,(pred_test-Y_test),c='r',alpha=0.5)\n",
    "\n",
    "# y=0の水平な線を描いておきます。\n",
    "plt.hlines(y=0,xmin=-10,xmax=50)\n",
    "\n",
    "plt.legend((train,test),('Training','Test'),loc='lower left')\n",
    "plt.title('Residual Plots')"
   ]
  },
  {
   "cell_type": "code",
   "execution_count": null,
   "metadata": {},
   "outputs": [],
   "source": []
  }
 ],
 "metadata": {
  "kernelspec": {
   "display_name": "Python 3",
   "language": "python",
   "name": "python3"
  },
  "language_info": {
   "codemirror_mode": {
    "name": "ipython",
    "version": 3
   },
   "file_extension": ".py",
   "mimetype": "text/x-python",
   "name": "python",
   "nbconvert_exporter": "python",
   "pygments_lexer": "ipython3",
   "version": "3.6.5"
  }
 },
 "nbformat": 4,
 "nbformat_minor": 2
}
